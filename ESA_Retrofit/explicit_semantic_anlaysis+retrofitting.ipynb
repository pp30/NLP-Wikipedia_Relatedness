{
  "nbformat": 4,
  "nbformat_minor": 0,
  "metadata": {
    "kernelspec": {
      "display_name": "Python 3",
      "language": "python",
      "name": "python3"
    },
    "language_info": {
      "codemirror_mode": {
        "name": "ipython",
        "version": 3
      },
      "file_extension": ".py",
      "mimetype": "text/x-python",
      "name": "python",
      "nbconvert_exporter": "python",
      "pygments_lexer": "ipython3",
      "version": "3.6.9"
    },
    "colab": {
      "name": "explicit_semantic_anlaysis+retrofitting.ipynb",
      "provenance": [],
      "collapsed_sections": [
        "p-WddOUEziZT",
        "pHMv3vyJY_yM",
        "pi1iiBf5ZHte"
      ],
      "machine_shape": "hm"
    },
    "widgets": {
      "application/vnd.jupyter.widget-state+json": {
        "14c4823e461f469d9ba9bf6a6f22f306": {
          "model_module": "@jupyter-widgets/controls",
          "model_name": "HBoxModel",
          "state": {
            "_view_name": "HBoxView",
            "_dom_classes": [],
            "_model_name": "HBoxModel",
            "_view_module": "@jupyter-widgets/controls",
            "_model_module_version": "1.5.0",
            "_view_count": null,
            "_view_module_version": "1.5.0",
            "box_style": "",
            "layout": "IPY_MODEL_76c52d53e0244764ac59fb3e52f38d12",
            "_model_module": "@jupyter-widgets/controls",
            "children": [
              "IPY_MODEL_98b9439e3c544c74b991831a03a5966b",
              "IPY_MODEL_e266ff1cc4b44576b6305be646348306"
            ]
          }
        },
        "76c52d53e0244764ac59fb3e52f38d12": {
          "model_module": "@jupyter-widgets/base",
          "model_name": "LayoutModel",
          "state": {
            "_view_name": "LayoutView",
            "grid_template_rows": null,
            "right": null,
            "justify_content": null,
            "_view_module": "@jupyter-widgets/base",
            "overflow": null,
            "_model_module_version": "1.2.0",
            "_view_count": null,
            "flex_flow": null,
            "width": null,
            "min_width": null,
            "border": null,
            "align_items": null,
            "bottom": null,
            "_model_module": "@jupyter-widgets/base",
            "top": null,
            "grid_column": null,
            "overflow_y": null,
            "overflow_x": null,
            "grid_auto_flow": null,
            "grid_area": null,
            "grid_template_columns": null,
            "flex": null,
            "_model_name": "LayoutModel",
            "justify_items": null,
            "grid_row": null,
            "max_height": null,
            "align_content": null,
            "visibility": null,
            "align_self": null,
            "height": null,
            "min_height": null,
            "padding": null,
            "grid_auto_rows": null,
            "grid_gap": null,
            "max_width": null,
            "order": null,
            "_view_module_version": "1.2.0",
            "grid_template_areas": null,
            "object_position": null,
            "object_fit": null,
            "grid_auto_columns": null,
            "margin": null,
            "display": null,
            "left": null
          }
        },
        "98b9439e3c544c74b991831a03a5966b": {
          "model_module": "@jupyter-widgets/controls",
          "model_name": "FloatProgressModel",
          "state": {
            "_view_name": "ProgressView",
            "style": "IPY_MODEL_55182e1dd013425b9ad98bfb00346ecc",
            "_dom_classes": [],
            "description": "",
            "_model_name": "FloatProgressModel",
            "bar_style": "success",
            "max": 1,
            "_view_module": "@jupyter-widgets/controls",
            "_model_module_version": "1.5.0",
            "value": 1,
            "_view_count": null,
            "_view_module_version": "1.5.0",
            "orientation": "horizontal",
            "min": 0,
            "description_tooltip": null,
            "_model_module": "@jupyter-widgets/controls",
            "layout": "IPY_MODEL_ae70ab2b6bcb40c6a2eb42c14bda7609"
          }
        },
        "e266ff1cc4b44576b6305be646348306": {
          "model_module": "@jupyter-widgets/controls",
          "model_name": "HTMLModel",
          "state": {
            "_view_name": "HTMLView",
            "style": "IPY_MODEL_4e592d21414445fbb51ab0af361c3b53",
            "_dom_classes": [],
            "description": "",
            "_model_name": "HTMLModel",
            "placeholder": "​",
            "_view_module": "@jupyter-widgets/controls",
            "_model_module_version": "1.5.0",
            "value": " 1/? [00:37&lt;00:00, 37.39s/it]",
            "_view_count": null,
            "_view_module_version": "1.5.0",
            "description_tooltip": null,
            "_model_module": "@jupyter-widgets/controls",
            "layout": "IPY_MODEL_eb85058f501d4be5a6bf1d9461b3f87e"
          }
        },
        "55182e1dd013425b9ad98bfb00346ecc": {
          "model_module": "@jupyter-widgets/controls",
          "model_name": "ProgressStyleModel",
          "state": {
            "_view_name": "StyleView",
            "_model_name": "ProgressStyleModel",
            "description_width": "initial",
            "_view_module": "@jupyter-widgets/base",
            "_model_module_version": "1.5.0",
            "_view_count": null,
            "_view_module_version": "1.2.0",
            "bar_color": null,
            "_model_module": "@jupyter-widgets/controls"
          }
        },
        "ae70ab2b6bcb40c6a2eb42c14bda7609": {
          "model_module": "@jupyter-widgets/base",
          "model_name": "LayoutModel",
          "state": {
            "_view_name": "LayoutView",
            "grid_template_rows": null,
            "right": null,
            "justify_content": null,
            "_view_module": "@jupyter-widgets/base",
            "overflow": null,
            "_model_module_version": "1.2.0",
            "_view_count": null,
            "flex_flow": null,
            "width": null,
            "min_width": null,
            "border": null,
            "align_items": null,
            "bottom": null,
            "_model_module": "@jupyter-widgets/base",
            "top": null,
            "grid_column": null,
            "overflow_y": null,
            "overflow_x": null,
            "grid_auto_flow": null,
            "grid_area": null,
            "grid_template_columns": null,
            "flex": null,
            "_model_name": "LayoutModel",
            "justify_items": null,
            "grid_row": null,
            "max_height": null,
            "align_content": null,
            "visibility": null,
            "align_self": null,
            "height": null,
            "min_height": null,
            "padding": null,
            "grid_auto_rows": null,
            "grid_gap": null,
            "max_width": null,
            "order": null,
            "_view_module_version": "1.2.0",
            "grid_template_areas": null,
            "object_position": null,
            "object_fit": null,
            "grid_auto_columns": null,
            "margin": null,
            "display": null,
            "left": null
          }
        },
        "4e592d21414445fbb51ab0af361c3b53": {
          "model_module": "@jupyter-widgets/controls",
          "model_name": "DescriptionStyleModel",
          "state": {
            "_view_name": "StyleView",
            "_model_name": "DescriptionStyleModel",
            "description_width": "",
            "_view_module": "@jupyter-widgets/base",
            "_model_module_version": "1.5.0",
            "_view_count": null,
            "_view_module_version": "1.2.0",
            "_model_module": "@jupyter-widgets/controls"
          }
        },
        "eb85058f501d4be5a6bf1d9461b3f87e": {
          "model_module": "@jupyter-widgets/base",
          "model_name": "LayoutModel",
          "state": {
            "_view_name": "LayoutView",
            "grid_template_rows": null,
            "right": null,
            "justify_content": null,
            "_view_module": "@jupyter-widgets/base",
            "overflow": null,
            "_model_module_version": "1.2.0",
            "_view_count": null,
            "flex_flow": null,
            "width": null,
            "min_width": null,
            "border": null,
            "align_items": null,
            "bottom": null,
            "_model_module": "@jupyter-widgets/base",
            "top": null,
            "grid_column": null,
            "overflow_y": null,
            "overflow_x": null,
            "grid_auto_flow": null,
            "grid_area": null,
            "grid_template_columns": null,
            "flex": null,
            "_model_name": "LayoutModel",
            "justify_items": null,
            "grid_row": null,
            "max_height": null,
            "align_content": null,
            "visibility": null,
            "align_self": null,
            "height": null,
            "min_height": null,
            "padding": null,
            "grid_auto_rows": null,
            "grid_gap": null,
            "max_width": null,
            "order": null,
            "_view_module_version": "1.2.0",
            "grid_template_areas": null,
            "object_position": null,
            "object_fit": null,
            "grid_auto_columns": null,
            "margin": null,
            "display": null,
            "left": null
          }
        },
        "639333fbff884e2486337192b21bddd5": {
          "model_module": "@jupyter-widgets/controls",
          "model_name": "HBoxModel",
          "state": {
            "_view_name": "HBoxView",
            "_dom_classes": [],
            "_model_name": "HBoxModel",
            "_view_module": "@jupyter-widgets/controls",
            "_model_module_version": "1.5.0",
            "_view_count": null,
            "_view_module_version": "1.5.0",
            "box_style": "",
            "layout": "IPY_MODEL_ba0ec16f45804297a2847dfc5446f417",
            "_model_module": "@jupyter-widgets/controls",
            "children": [
              "IPY_MODEL_d1ee1d15272a492e87fd95a8b3b703e6",
              "IPY_MODEL_f5bff91728f44fcfa19f40a22dcf5ba4"
            ]
          }
        },
        "ba0ec16f45804297a2847dfc5446f417": {
          "model_module": "@jupyter-widgets/base",
          "model_name": "LayoutModel",
          "state": {
            "_view_name": "LayoutView",
            "grid_template_rows": null,
            "right": null,
            "justify_content": null,
            "_view_module": "@jupyter-widgets/base",
            "overflow": null,
            "_model_module_version": "1.2.0",
            "_view_count": null,
            "flex_flow": null,
            "width": null,
            "min_width": null,
            "border": null,
            "align_items": null,
            "bottom": null,
            "_model_module": "@jupyter-widgets/base",
            "top": null,
            "grid_column": null,
            "overflow_y": null,
            "overflow_x": null,
            "grid_auto_flow": null,
            "grid_area": null,
            "grid_template_columns": null,
            "flex": null,
            "_model_name": "LayoutModel",
            "justify_items": null,
            "grid_row": null,
            "max_height": null,
            "align_content": null,
            "visibility": null,
            "align_self": null,
            "height": null,
            "min_height": null,
            "padding": null,
            "grid_auto_rows": null,
            "grid_gap": null,
            "max_width": null,
            "order": null,
            "_view_module_version": "1.2.0",
            "grid_template_areas": null,
            "object_position": null,
            "object_fit": null,
            "grid_auto_columns": null,
            "margin": null,
            "display": null,
            "left": null
          }
        },
        "d1ee1d15272a492e87fd95a8b3b703e6": {
          "model_module": "@jupyter-widgets/controls",
          "model_name": "FloatProgressModel",
          "state": {
            "_view_name": "ProgressView",
            "style": "IPY_MODEL_b644e255f4e5491aab94f19d3165cd51",
            "_dom_classes": [],
            "description": "",
            "_model_name": "FloatProgressModel",
            "bar_style": "success",
            "max": 1,
            "_view_module": "@jupyter-widgets/controls",
            "_model_module_version": "1.5.0",
            "value": 1,
            "_view_count": null,
            "_view_module_version": "1.5.0",
            "orientation": "horizontal",
            "min": 0,
            "description_tooltip": null,
            "_model_module": "@jupyter-widgets/controls",
            "layout": "IPY_MODEL_8d7605f056f742fb94df1b0ff44f1a7c"
          }
        },
        "f5bff91728f44fcfa19f40a22dcf5ba4": {
          "model_module": "@jupyter-widgets/controls",
          "model_name": "HTMLModel",
          "state": {
            "_view_name": "HTMLView",
            "style": "IPY_MODEL_4a4d881aa14f4afdaca2755c6b13fdc6",
            "_dom_classes": [],
            "description": "",
            "_model_name": "HTMLModel",
            "placeholder": "​",
            "_view_module": "@jupyter-widgets/controls",
            "_model_module_version": "1.5.0",
            "value": " 1/? [00:00&lt;00:00,  1.25it/s]",
            "_view_count": null,
            "_view_module_version": "1.5.0",
            "description_tooltip": null,
            "_model_module": "@jupyter-widgets/controls",
            "layout": "IPY_MODEL_9fb7cd97da6b46719c091aa61138ff1f"
          }
        },
        "b644e255f4e5491aab94f19d3165cd51": {
          "model_module": "@jupyter-widgets/controls",
          "model_name": "ProgressStyleModel",
          "state": {
            "_view_name": "StyleView",
            "_model_name": "ProgressStyleModel",
            "description_width": "initial",
            "_view_module": "@jupyter-widgets/base",
            "_model_module_version": "1.5.0",
            "_view_count": null,
            "_view_module_version": "1.2.0",
            "bar_color": null,
            "_model_module": "@jupyter-widgets/controls"
          }
        },
        "8d7605f056f742fb94df1b0ff44f1a7c": {
          "model_module": "@jupyter-widgets/base",
          "model_name": "LayoutModel",
          "state": {
            "_view_name": "LayoutView",
            "grid_template_rows": null,
            "right": null,
            "justify_content": null,
            "_view_module": "@jupyter-widgets/base",
            "overflow": null,
            "_model_module_version": "1.2.0",
            "_view_count": null,
            "flex_flow": null,
            "width": null,
            "min_width": null,
            "border": null,
            "align_items": null,
            "bottom": null,
            "_model_module": "@jupyter-widgets/base",
            "top": null,
            "grid_column": null,
            "overflow_y": null,
            "overflow_x": null,
            "grid_auto_flow": null,
            "grid_area": null,
            "grid_template_columns": null,
            "flex": null,
            "_model_name": "LayoutModel",
            "justify_items": null,
            "grid_row": null,
            "max_height": null,
            "align_content": null,
            "visibility": null,
            "align_self": null,
            "height": null,
            "min_height": null,
            "padding": null,
            "grid_auto_rows": null,
            "grid_gap": null,
            "max_width": null,
            "order": null,
            "_view_module_version": "1.2.0",
            "grid_template_areas": null,
            "object_position": null,
            "object_fit": null,
            "grid_auto_columns": null,
            "margin": null,
            "display": null,
            "left": null
          }
        },
        "4a4d881aa14f4afdaca2755c6b13fdc6": {
          "model_module": "@jupyter-widgets/controls",
          "model_name": "DescriptionStyleModel",
          "state": {
            "_view_name": "StyleView",
            "_model_name": "DescriptionStyleModel",
            "description_width": "",
            "_view_module": "@jupyter-widgets/base",
            "_model_module_version": "1.5.0",
            "_view_count": null,
            "_view_module_version": "1.2.0",
            "_model_module": "@jupyter-widgets/controls"
          }
        },
        "9fb7cd97da6b46719c091aa61138ff1f": {
          "model_module": "@jupyter-widgets/base",
          "model_name": "LayoutModel",
          "state": {
            "_view_name": "LayoutView",
            "grid_template_rows": null,
            "right": null,
            "justify_content": null,
            "_view_module": "@jupyter-widgets/base",
            "overflow": null,
            "_model_module_version": "1.2.0",
            "_view_count": null,
            "flex_flow": null,
            "width": null,
            "min_width": null,
            "border": null,
            "align_items": null,
            "bottom": null,
            "_model_module": "@jupyter-widgets/base",
            "top": null,
            "grid_column": null,
            "overflow_y": null,
            "overflow_x": null,
            "grid_auto_flow": null,
            "grid_area": null,
            "grid_template_columns": null,
            "flex": null,
            "_model_name": "LayoutModel",
            "justify_items": null,
            "grid_row": null,
            "max_height": null,
            "align_content": null,
            "visibility": null,
            "align_self": null,
            "height": null,
            "min_height": null,
            "padding": null,
            "grid_auto_rows": null,
            "grid_gap": null,
            "max_width": null,
            "order": null,
            "_view_module_version": "1.2.0",
            "grid_template_areas": null,
            "object_position": null,
            "object_fit": null,
            "grid_auto_columns": null,
            "margin": null,
            "display": null,
            "left": null
          }
        },
        "264af9b04da847e9810f1e089853f3a9": {
          "model_module": "@jupyter-widgets/controls",
          "model_name": "HBoxModel",
          "state": {
            "_view_name": "HBoxView",
            "_dom_classes": [],
            "_model_name": "HBoxModel",
            "_view_module": "@jupyter-widgets/controls",
            "_model_module_version": "1.5.0",
            "_view_count": null,
            "_view_module_version": "1.5.0",
            "box_style": "",
            "layout": "IPY_MODEL_6168f77d12f941c7bfec49f67c6bd6f3",
            "_model_module": "@jupyter-widgets/controls",
            "children": [
              "IPY_MODEL_b8546e6a84434592909404549e606c69",
              "IPY_MODEL_3c0775e2e5b94c9bb5a5ebf710b4a93d"
            ]
          }
        },
        "6168f77d12f941c7bfec49f67c6bd6f3": {
          "model_module": "@jupyter-widgets/base",
          "model_name": "LayoutModel",
          "state": {
            "_view_name": "LayoutView",
            "grid_template_rows": null,
            "right": null,
            "justify_content": null,
            "_view_module": "@jupyter-widgets/base",
            "overflow": null,
            "_model_module_version": "1.2.0",
            "_view_count": null,
            "flex_flow": null,
            "width": null,
            "min_width": null,
            "border": null,
            "align_items": null,
            "bottom": null,
            "_model_module": "@jupyter-widgets/base",
            "top": null,
            "grid_column": null,
            "overflow_y": null,
            "overflow_x": null,
            "grid_auto_flow": null,
            "grid_area": null,
            "grid_template_columns": null,
            "flex": null,
            "_model_name": "LayoutModel",
            "justify_items": null,
            "grid_row": null,
            "max_height": null,
            "align_content": null,
            "visibility": null,
            "align_self": null,
            "height": null,
            "min_height": null,
            "padding": null,
            "grid_auto_rows": null,
            "grid_gap": null,
            "max_width": null,
            "order": null,
            "_view_module_version": "1.2.0",
            "grid_template_areas": null,
            "object_position": null,
            "object_fit": null,
            "grid_auto_columns": null,
            "margin": null,
            "display": null,
            "left": null
          }
        },
        "b8546e6a84434592909404549e606c69": {
          "model_module": "@jupyter-widgets/controls",
          "model_name": "FloatProgressModel",
          "state": {
            "_view_name": "ProgressView",
            "style": "IPY_MODEL_0d1a9faa0e704e579a4221118a2329d2",
            "_dom_classes": [],
            "description": "",
            "_model_name": "FloatProgressModel",
            "bar_style": "success",
            "max": 1,
            "_view_module": "@jupyter-widgets/controls",
            "_model_module_version": "1.5.0",
            "value": 1,
            "_view_count": null,
            "_view_module_version": "1.5.0",
            "orientation": "horizontal",
            "min": 0,
            "description_tooltip": null,
            "_model_module": "@jupyter-widgets/controls",
            "layout": "IPY_MODEL_753aced2be8548258dab009f969ae26f"
          }
        },
        "3c0775e2e5b94c9bb5a5ebf710b4a93d": {
          "model_module": "@jupyter-widgets/controls",
          "model_name": "HTMLModel",
          "state": {
            "_view_name": "HTMLView",
            "style": "IPY_MODEL_74c850b61c214d65b4f66e01587d823b",
            "_dom_classes": [],
            "description": "",
            "_model_name": "HTMLModel",
            "placeholder": "​",
            "_view_module": "@jupyter-widgets/controls",
            "_model_module_version": "1.5.0",
            "value": " 1/? [00:00&lt;00:00,  2.20it/s]",
            "_view_count": null,
            "_view_module_version": "1.5.0",
            "description_tooltip": null,
            "_model_module": "@jupyter-widgets/controls",
            "layout": "IPY_MODEL_8f331b3ef8534f989675c668ccf690a6"
          }
        },
        "0d1a9faa0e704e579a4221118a2329d2": {
          "model_module": "@jupyter-widgets/controls",
          "model_name": "ProgressStyleModel",
          "state": {
            "_view_name": "StyleView",
            "_model_name": "ProgressStyleModel",
            "description_width": "initial",
            "_view_module": "@jupyter-widgets/base",
            "_model_module_version": "1.5.0",
            "_view_count": null,
            "_view_module_version": "1.2.0",
            "bar_color": null,
            "_model_module": "@jupyter-widgets/controls"
          }
        },
        "753aced2be8548258dab009f969ae26f": {
          "model_module": "@jupyter-widgets/base",
          "model_name": "LayoutModel",
          "state": {
            "_view_name": "LayoutView",
            "grid_template_rows": null,
            "right": null,
            "justify_content": null,
            "_view_module": "@jupyter-widgets/base",
            "overflow": null,
            "_model_module_version": "1.2.0",
            "_view_count": null,
            "flex_flow": null,
            "width": null,
            "min_width": null,
            "border": null,
            "align_items": null,
            "bottom": null,
            "_model_module": "@jupyter-widgets/base",
            "top": null,
            "grid_column": null,
            "overflow_y": null,
            "overflow_x": null,
            "grid_auto_flow": null,
            "grid_area": null,
            "grid_template_columns": null,
            "flex": null,
            "_model_name": "LayoutModel",
            "justify_items": null,
            "grid_row": null,
            "max_height": null,
            "align_content": null,
            "visibility": null,
            "align_self": null,
            "height": null,
            "min_height": null,
            "padding": null,
            "grid_auto_rows": null,
            "grid_gap": null,
            "max_width": null,
            "order": null,
            "_view_module_version": "1.2.0",
            "grid_template_areas": null,
            "object_position": null,
            "object_fit": null,
            "grid_auto_columns": null,
            "margin": null,
            "display": null,
            "left": null
          }
        },
        "74c850b61c214d65b4f66e01587d823b": {
          "model_module": "@jupyter-widgets/controls",
          "model_name": "DescriptionStyleModel",
          "state": {
            "_view_name": "StyleView",
            "_model_name": "DescriptionStyleModel",
            "description_width": "",
            "_view_module": "@jupyter-widgets/base",
            "_model_module_version": "1.5.0",
            "_view_count": null,
            "_view_module_version": "1.2.0",
            "_model_module": "@jupyter-widgets/controls"
          }
        },
        "8f331b3ef8534f989675c668ccf690a6": {
          "model_module": "@jupyter-widgets/base",
          "model_name": "LayoutModel",
          "state": {
            "_view_name": "LayoutView",
            "grid_template_rows": null,
            "right": null,
            "justify_content": null,
            "_view_module": "@jupyter-widgets/base",
            "overflow": null,
            "_model_module_version": "1.2.0",
            "_view_count": null,
            "flex_flow": null,
            "width": null,
            "min_width": null,
            "border": null,
            "align_items": null,
            "bottom": null,
            "_model_module": "@jupyter-widgets/base",
            "top": null,
            "grid_column": null,
            "overflow_y": null,
            "overflow_x": null,
            "grid_auto_flow": null,
            "grid_area": null,
            "grid_template_columns": null,
            "flex": null,
            "_model_name": "LayoutModel",
            "justify_items": null,
            "grid_row": null,
            "max_height": null,
            "align_content": null,
            "visibility": null,
            "align_self": null,
            "height": null,
            "min_height": null,
            "padding": null,
            "grid_auto_rows": null,
            "grid_gap": null,
            "max_width": null,
            "order": null,
            "_view_module_version": "1.2.0",
            "grid_template_areas": null,
            "object_position": null,
            "object_fit": null,
            "grid_auto_columns": null,
            "margin": null,
            "display": null,
            "left": null
          }
        },
        "991737f6869f4f0d94ff224090f9e516": {
          "model_module": "@jupyter-widgets/controls",
          "model_name": "HBoxModel",
          "state": {
            "_view_name": "HBoxView",
            "_dom_classes": [],
            "_model_name": "HBoxModel",
            "_view_module": "@jupyter-widgets/controls",
            "_model_module_version": "1.5.0",
            "_view_count": null,
            "_view_module_version": "1.5.0",
            "box_style": "",
            "layout": "IPY_MODEL_98c25d21dc2840c791e5da90d7c4563c",
            "_model_module": "@jupyter-widgets/controls",
            "children": [
              "IPY_MODEL_edf1a520710345af9352530b2254a7a5",
              "IPY_MODEL_a7782e63bafe4f3eaf98059c63dfdd06"
            ]
          }
        },
        "98c25d21dc2840c791e5da90d7c4563c": {
          "model_module": "@jupyter-widgets/base",
          "model_name": "LayoutModel",
          "state": {
            "_view_name": "LayoutView",
            "grid_template_rows": null,
            "right": null,
            "justify_content": null,
            "_view_module": "@jupyter-widgets/base",
            "overflow": null,
            "_model_module_version": "1.2.0",
            "_view_count": null,
            "flex_flow": null,
            "width": null,
            "min_width": null,
            "border": null,
            "align_items": null,
            "bottom": null,
            "_model_module": "@jupyter-widgets/base",
            "top": null,
            "grid_column": null,
            "overflow_y": null,
            "overflow_x": null,
            "grid_auto_flow": null,
            "grid_area": null,
            "grid_template_columns": null,
            "flex": null,
            "_model_name": "LayoutModel",
            "justify_items": null,
            "grid_row": null,
            "max_height": null,
            "align_content": null,
            "visibility": null,
            "align_self": null,
            "height": null,
            "min_height": null,
            "padding": null,
            "grid_auto_rows": null,
            "grid_gap": null,
            "max_width": null,
            "order": null,
            "_view_module_version": "1.2.0",
            "grid_template_areas": null,
            "object_position": null,
            "object_fit": null,
            "grid_auto_columns": null,
            "margin": null,
            "display": null,
            "left": null
          }
        },
        "edf1a520710345af9352530b2254a7a5": {
          "model_module": "@jupyter-widgets/controls",
          "model_name": "FloatProgressModel",
          "state": {
            "_view_name": "ProgressView",
            "style": "IPY_MODEL_3ef0c9c852f04cc7978891bf7ad9ae40",
            "_dom_classes": [],
            "description": "",
            "_model_name": "FloatProgressModel",
            "bar_style": "success",
            "max": 1,
            "_view_module": "@jupyter-widgets/controls",
            "_model_module_version": "1.5.0",
            "value": 1,
            "_view_count": null,
            "_view_module_version": "1.5.0",
            "orientation": "horizontal",
            "min": 0,
            "description_tooltip": null,
            "_model_module": "@jupyter-widgets/controls",
            "layout": "IPY_MODEL_f89db8ddecbd4027a75d1601c0ae4d66"
          }
        },
        "a7782e63bafe4f3eaf98059c63dfdd06": {
          "model_module": "@jupyter-widgets/controls",
          "model_name": "HTMLModel",
          "state": {
            "_view_name": "HTMLView",
            "style": "IPY_MODEL_acbe2e43b39944ee8d96de483dcc0069",
            "_dom_classes": [],
            "description": "",
            "_model_name": "HTMLModel",
            "placeholder": "​",
            "_view_module": "@jupyter-widgets/controls",
            "_model_module_version": "1.5.0",
            "value": " 1/? [00:36&lt;00:00, 36.26s/it]",
            "_view_count": null,
            "_view_module_version": "1.5.0",
            "description_tooltip": null,
            "_model_module": "@jupyter-widgets/controls",
            "layout": "IPY_MODEL_7f3cf5ee562b4c1380e873a670dfc2f9"
          }
        },
        "3ef0c9c852f04cc7978891bf7ad9ae40": {
          "model_module": "@jupyter-widgets/controls",
          "model_name": "ProgressStyleModel",
          "state": {
            "_view_name": "StyleView",
            "_model_name": "ProgressStyleModel",
            "description_width": "initial",
            "_view_module": "@jupyter-widgets/base",
            "_model_module_version": "1.5.0",
            "_view_count": null,
            "_view_module_version": "1.2.0",
            "bar_color": null,
            "_model_module": "@jupyter-widgets/controls"
          }
        },
        "f89db8ddecbd4027a75d1601c0ae4d66": {
          "model_module": "@jupyter-widgets/base",
          "model_name": "LayoutModel",
          "state": {
            "_view_name": "LayoutView",
            "grid_template_rows": null,
            "right": null,
            "justify_content": null,
            "_view_module": "@jupyter-widgets/base",
            "overflow": null,
            "_model_module_version": "1.2.0",
            "_view_count": null,
            "flex_flow": null,
            "width": null,
            "min_width": null,
            "border": null,
            "align_items": null,
            "bottom": null,
            "_model_module": "@jupyter-widgets/base",
            "top": null,
            "grid_column": null,
            "overflow_y": null,
            "overflow_x": null,
            "grid_auto_flow": null,
            "grid_area": null,
            "grid_template_columns": null,
            "flex": null,
            "_model_name": "LayoutModel",
            "justify_items": null,
            "grid_row": null,
            "max_height": null,
            "align_content": null,
            "visibility": null,
            "align_self": null,
            "height": null,
            "min_height": null,
            "padding": null,
            "grid_auto_rows": null,
            "grid_gap": null,
            "max_width": null,
            "order": null,
            "_view_module_version": "1.2.0",
            "grid_template_areas": null,
            "object_position": null,
            "object_fit": null,
            "grid_auto_columns": null,
            "margin": null,
            "display": null,
            "left": null
          }
        },
        "acbe2e43b39944ee8d96de483dcc0069": {
          "model_module": "@jupyter-widgets/controls",
          "model_name": "DescriptionStyleModel",
          "state": {
            "_view_name": "StyleView",
            "_model_name": "DescriptionStyleModel",
            "description_width": "",
            "_view_module": "@jupyter-widgets/base",
            "_model_module_version": "1.5.0",
            "_view_count": null,
            "_view_module_version": "1.2.0",
            "_model_module": "@jupyter-widgets/controls"
          }
        },
        "7f3cf5ee562b4c1380e873a670dfc2f9": {
          "model_module": "@jupyter-widgets/base",
          "model_name": "LayoutModel",
          "state": {
            "_view_name": "LayoutView",
            "grid_template_rows": null,
            "right": null,
            "justify_content": null,
            "_view_module": "@jupyter-widgets/base",
            "overflow": null,
            "_model_module_version": "1.2.0",
            "_view_count": null,
            "flex_flow": null,
            "width": null,
            "min_width": null,
            "border": null,
            "align_items": null,
            "bottom": null,
            "_model_module": "@jupyter-widgets/base",
            "top": null,
            "grid_column": null,
            "overflow_y": null,
            "overflow_x": null,
            "grid_auto_flow": null,
            "grid_area": null,
            "grid_template_columns": null,
            "flex": null,
            "_model_name": "LayoutModel",
            "justify_items": null,
            "grid_row": null,
            "max_height": null,
            "align_content": null,
            "visibility": null,
            "align_self": null,
            "height": null,
            "min_height": null,
            "padding": null,
            "grid_auto_rows": null,
            "grid_gap": null,
            "max_width": null,
            "order": null,
            "_view_module_version": "1.2.0",
            "grid_template_areas": null,
            "object_position": null,
            "object_fit": null,
            "grid_auto_columns": null,
            "margin": null,
            "display": null,
            "left": null
          }
        },
        "82a5aad9b9b042a5a8e74263cfec396d": {
          "model_module": "@jupyter-widgets/controls",
          "model_name": "HBoxModel",
          "state": {
            "_view_name": "HBoxView",
            "_dom_classes": [],
            "_model_name": "HBoxModel",
            "_view_module": "@jupyter-widgets/controls",
            "_model_module_version": "1.5.0",
            "_view_count": null,
            "_view_module_version": "1.5.0",
            "box_style": "",
            "layout": "IPY_MODEL_9ce4a5655a9b4567bd7bfcd5e8787131",
            "_model_module": "@jupyter-widgets/controls",
            "children": [
              "IPY_MODEL_0625ef89160044dfb6ea5ce379e8e95b",
              "IPY_MODEL_ee8d76f4f9f4422db3e1c842965c24e5"
            ]
          }
        },
        "9ce4a5655a9b4567bd7bfcd5e8787131": {
          "model_module": "@jupyter-widgets/base",
          "model_name": "LayoutModel",
          "state": {
            "_view_name": "LayoutView",
            "grid_template_rows": null,
            "right": null,
            "justify_content": null,
            "_view_module": "@jupyter-widgets/base",
            "overflow": null,
            "_model_module_version": "1.2.0",
            "_view_count": null,
            "flex_flow": null,
            "width": null,
            "min_width": null,
            "border": null,
            "align_items": null,
            "bottom": null,
            "_model_module": "@jupyter-widgets/base",
            "top": null,
            "grid_column": null,
            "overflow_y": null,
            "overflow_x": null,
            "grid_auto_flow": null,
            "grid_area": null,
            "grid_template_columns": null,
            "flex": null,
            "_model_name": "LayoutModel",
            "justify_items": null,
            "grid_row": null,
            "max_height": null,
            "align_content": null,
            "visibility": null,
            "align_self": null,
            "height": null,
            "min_height": null,
            "padding": null,
            "grid_auto_rows": null,
            "grid_gap": null,
            "max_width": null,
            "order": null,
            "_view_module_version": "1.2.0",
            "grid_template_areas": null,
            "object_position": null,
            "object_fit": null,
            "grid_auto_columns": null,
            "margin": null,
            "display": null,
            "left": null
          }
        },
        "0625ef89160044dfb6ea5ce379e8e95b": {
          "model_module": "@jupyter-widgets/controls",
          "model_name": "FloatProgressModel",
          "state": {
            "_view_name": "ProgressView",
            "style": "IPY_MODEL_cc3f11dc1624474ca94973a9e13a0106",
            "_dom_classes": [],
            "description": "",
            "_model_name": "FloatProgressModel",
            "bar_style": "success",
            "max": 1,
            "_view_module": "@jupyter-widgets/controls",
            "_model_module_version": "1.5.0",
            "value": 1,
            "_view_count": null,
            "_view_module_version": "1.5.0",
            "orientation": "horizontal",
            "min": 0,
            "description_tooltip": null,
            "_model_module": "@jupyter-widgets/controls",
            "layout": "IPY_MODEL_6433f449067c453fb3d5bd2ec5f8715e"
          }
        },
        "ee8d76f4f9f4422db3e1c842965c24e5": {
          "model_module": "@jupyter-widgets/controls",
          "model_name": "HTMLModel",
          "state": {
            "_view_name": "HTMLView",
            "style": "IPY_MODEL_dcd8197714c3447f948e67d3903c76bc",
            "_dom_classes": [],
            "description": "",
            "_model_name": "HTMLModel",
            "placeholder": "​",
            "_view_module": "@jupyter-widgets/controls",
            "_model_module_version": "1.5.0",
            "value": " 1/? [00:06&lt;00:00,  6.99s/it]",
            "_view_count": null,
            "_view_module_version": "1.5.0",
            "description_tooltip": null,
            "_model_module": "@jupyter-widgets/controls",
            "layout": "IPY_MODEL_97ce6bc0d6354feda38474ed48db0de9"
          }
        },
        "cc3f11dc1624474ca94973a9e13a0106": {
          "model_module": "@jupyter-widgets/controls",
          "model_name": "ProgressStyleModel",
          "state": {
            "_view_name": "StyleView",
            "_model_name": "ProgressStyleModel",
            "description_width": "initial",
            "_view_module": "@jupyter-widgets/base",
            "_model_module_version": "1.5.0",
            "_view_count": null,
            "_view_module_version": "1.2.0",
            "bar_color": null,
            "_model_module": "@jupyter-widgets/controls"
          }
        },
        "6433f449067c453fb3d5bd2ec5f8715e": {
          "model_module": "@jupyter-widgets/base",
          "model_name": "LayoutModel",
          "state": {
            "_view_name": "LayoutView",
            "grid_template_rows": null,
            "right": null,
            "justify_content": null,
            "_view_module": "@jupyter-widgets/base",
            "overflow": null,
            "_model_module_version": "1.2.0",
            "_view_count": null,
            "flex_flow": null,
            "width": null,
            "min_width": null,
            "border": null,
            "align_items": null,
            "bottom": null,
            "_model_module": "@jupyter-widgets/base",
            "top": null,
            "grid_column": null,
            "overflow_y": null,
            "overflow_x": null,
            "grid_auto_flow": null,
            "grid_area": null,
            "grid_template_columns": null,
            "flex": null,
            "_model_name": "LayoutModel",
            "justify_items": null,
            "grid_row": null,
            "max_height": null,
            "align_content": null,
            "visibility": null,
            "align_self": null,
            "height": null,
            "min_height": null,
            "padding": null,
            "grid_auto_rows": null,
            "grid_gap": null,
            "max_width": null,
            "order": null,
            "_view_module_version": "1.2.0",
            "grid_template_areas": null,
            "object_position": null,
            "object_fit": null,
            "grid_auto_columns": null,
            "margin": null,
            "display": null,
            "left": null
          }
        },
        "dcd8197714c3447f948e67d3903c76bc": {
          "model_module": "@jupyter-widgets/controls",
          "model_name": "DescriptionStyleModel",
          "state": {
            "_view_name": "StyleView",
            "_model_name": "DescriptionStyleModel",
            "description_width": "",
            "_view_module": "@jupyter-widgets/base",
            "_model_module_version": "1.5.0",
            "_view_count": null,
            "_view_module_version": "1.2.0",
            "_model_module": "@jupyter-widgets/controls"
          }
        },
        "97ce6bc0d6354feda38474ed48db0de9": {
          "model_module": "@jupyter-widgets/base",
          "model_name": "LayoutModel",
          "state": {
            "_view_name": "LayoutView",
            "grid_template_rows": null,
            "right": null,
            "justify_content": null,
            "_view_module": "@jupyter-widgets/base",
            "overflow": null,
            "_model_module_version": "1.2.0",
            "_view_count": null,
            "flex_flow": null,
            "width": null,
            "min_width": null,
            "border": null,
            "align_items": null,
            "bottom": null,
            "_model_module": "@jupyter-widgets/base",
            "top": null,
            "grid_column": null,
            "overflow_y": null,
            "overflow_x": null,
            "grid_auto_flow": null,
            "grid_area": null,
            "grid_template_columns": null,
            "flex": null,
            "_model_name": "LayoutModel",
            "justify_items": null,
            "grid_row": null,
            "max_height": null,
            "align_content": null,
            "visibility": null,
            "align_self": null,
            "height": null,
            "min_height": null,
            "padding": null,
            "grid_auto_rows": null,
            "grid_gap": null,
            "max_width": null,
            "order": null,
            "_view_module_version": "1.2.0",
            "grid_template_areas": null,
            "object_position": null,
            "object_fit": null,
            "grid_auto_columns": null,
            "margin": null,
            "display": null,
            "left": null
          }
        },
        "f52f4aba05214432b851a8eb6193ebb4": {
          "model_module": "@jupyter-widgets/controls",
          "model_name": "HBoxModel",
          "state": {
            "_view_name": "HBoxView",
            "_dom_classes": [],
            "_model_name": "HBoxModel",
            "_view_module": "@jupyter-widgets/controls",
            "_model_module_version": "1.5.0",
            "_view_count": null,
            "_view_module_version": "1.5.0",
            "box_style": "",
            "layout": "IPY_MODEL_d3c0c1545394442cbc116bfe3b5c725b",
            "_model_module": "@jupyter-widgets/controls",
            "children": [
              "IPY_MODEL_84f615d94c4b48d09435ea3b43a87836",
              "IPY_MODEL_c1a8feb621af4ab3a6411579d038ce84"
            ]
          }
        },
        "d3c0c1545394442cbc116bfe3b5c725b": {
          "model_module": "@jupyter-widgets/base",
          "model_name": "LayoutModel",
          "state": {
            "_view_name": "LayoutView",
            "grid_template_rows": null,
            "right": null,
            "justify_content": null,
            "_view_module": "@jupyter-widgets/base",
            "overflow": null,
            "_model_module_version": "1.2.0",
            "_view_count": null,
            "flex_flow": null,
            "width": null,
            "min_width": null,
            "border": null,
            "align_items": null,
            "bottom": null,
            "_model_module": "@jupyter-widgets/base",
            "top": null,
            "grid_column": null,
            "overflow_y": null,
            "overflow_x": null,
            "grid_auto_flow": null,
            "grid_area": null,
            "grid_template_columns": null,
            "flex": null,
            "_model_name": "LayoutModel",
            "justify_items": null,
            "grid_row": null,
            "max_height": null,
            "align_content": null,
            "visibility": null,
            "align_self": null,
            "height": null,
            "min_height": null,
            "padding": null,
            "grid_auto_rows": null,
            "grid_gap": null,
            "max_width": null,
            "order": null,
            "_view_module_version": "1.2.0",
            "grid_template_areas": null,
            "object_position": null,
            "object_fit": null,
            "grid_auto_columns": null,
            "margin": null,
            "display": null,
            "left": null
          }
        },
        "84f615d94c4b48d09435ea3b43a87836": {
          "model_module": "@jupyter-widgets/controls",
          "model_name": "FloatProgressModel",
          "state": {
            "_view_name": "ProgressView",
            "style": "IPY_MODEL_f2668b96fb794ce2b085e2157b12ae7c",
            "_dom_classes": [],
            "description": "",
            "_model_name": "FloatProgressModel",
            "bar_style": "success",
            "max": 1,
            "_view_module": "@jupyter-widgets/controls",
            "_model_module_version": "1.5.0",
            "value": 1,
            "_view_count": null,
            "_view_module_version": "1.5.0",
            "orientation": "horizontal",
            "min": 0,
            "description_tooltip": null,
            "_model_module": "@jupyter-widgets/controls",
            "layout": "IPY_MODEL_7c5bc095718c40c3b0e857938beb23cc"
          }
        },
        "c1a8feb621af4ab3a6411579d038ce84": {
          "model_module": "@jupyter-widgets/controls",
          "model_name": "HTMLModel",
          "state": {
            "_view_name": "HTMLView",
            "style": "IPY_MODEL_637aa70c02a645848d7b2c09355ebc73",
            "_dom_classes": [],
            "description": "",
            "_model_name": "HTMLModel",
            "placeholder": "​",
            "_view_module": "@jupyter-widgets/controls",
            "_model_module_version": "1.5.0",
            "value": " 1/? [00:06&lt;00:00,  6.32s/it]",
            "_view_count": null,
            "_view_module_version": "1.5.0",
            "description_tooltip": null,
            "_model_module": "@jupyter-widgets/controls",
            "layout": "IPY_MODEL_fb581d33529b4d818df557bde49f43d7"
          }
        },
        "f2668b96fb794ce2b085e2157b12ae7c": {
          "model_module": "@jupyter-widgets/controls",
          "model_name": "ProgressStyleModel",
          "state": {
            "_view_name": "StyleView",
            "_model_name": "ProgressStyleModel",
            "description_width": "initial",
            "_view_module": "@jupyter-widgets/base",
            "_model_module_version": "1.5.0",
            "_view_count": null,
            "_view_module_version": "1.2.0",
            "bar_color": null,
            "_model_module": "@jupyter-widgets/controls"
          }
        },
        "7c5bc095718c40c3b0e857938beb23cc": {
          "model_module": "@jupyter-widgets/base",
          "model_name": "LayoutModel",
          "state": {
            "_view_name": "LayoutView",
            "grid_template_rows": null,
            "right": null,
            "justify_content": null,
            "_view_module": "@jupyter-widgets/base",
            "overflow": null,
            "_model_module_version": "1.2.0",
            "_view_count": null,
            "flex_flow": null,
            "width": null,
            "min_width": null,
            "border": null,
            "align_items": null,
            "bottom": null,
            "_model_module": "@jupyter-widgets/base",
            "top": null,
            "grid_column": null,
            "overflow_y": null,
            "overflow_x": null,
            "grid_auto_flow": null,
            "grid_area": null,
            "grid_template_columns": null,
            "flex": null,
            "_model_name": "LayoutModel",
            "justify_items": null,
            "grid_row": null,
            "max_height": null,
            "align_content": null,
            "visibility": null,
            "align_self": null,
            "height": null,
            "min_height": null,
            "padding": null,
            "grid_auto_rows": null,
            "grid_gap": null,
            "max_width": null,
            "order": null,
            "_view_module_version": "1.2.0",
            "grid_template_areas": null,
            "object_position": null,
            "object_fit": null,
            "grid_auto_columns": null,
            "margin": null,
            "display": null,
            "left": null
          }
        },
        "637aa70c02a645848d7b2c09355ebc73": {
          "model_module": "@jupyter-widgets/controls",
          "model_name": "DescriptionStyleModel",
          "state": {
            "_view_name": "StyleView",
            "_model_name": "DescriptionStyleModel",
            "description_width": "",
            "_view_module": "@jupyter-widgets/base",
            "_model_module_version": "1.5.0",
            "_view_count": null,
            "_view_module_version": "1.2.0",
            "_model_module": "@jupyter-widgets/controls"
          }
        },
        "fb581d33529b4d818df557bde49f43d7": {
          "model_module": "@jupyter-widgets/base",
          "model_name": "LayoutModel",
          "state": {
            "_view_name": "LayoutView",
            "grid_template_rows": null,
            "right": null,
            "justify_content": null,
            "_view_module": "@jupyter-widgets/base",
            "overflow": null,
            "_model_module_version": "1.2.0",
            "_view_count": null,
            "flex_flow": null,
            "width": null,
            "min_width": null,
            "border": null,
            "align_items": null,
            "bottom": null,
            "_model_module": "@jupyter-widgets/base",
            "top": null,
            "grid_column": null,
            "overflow_y": null,
            "overflow_x": null,
            "grid_auto_flow": null,
            "grid_area": null,
            "grid_template_columns": null,
            "flex": null,
            "_model_name": "LayoutModel",
            "justify_items": null,
            "grid_row": null,
            "max_height": null,
            "align_content": null,
            "visibility": null,
            "align_self": null,
            "height": null,
            "min_height": null,
            "padding": null,
            "grid_auto_rows": null,
            "grid_gap": null,
            "max_width": null,
            "order": null,
            "_view_module_version": "1.2.0",
            "grid_template_areas": null,
            "object_position": null,
            "object_fit": null,
            "grid_auto_columns": null,
            "margin": null,
            "display": null,
            "left": null
          }
        },
        "d71d65b011b04d798baaf40f0d061b3f": {
          "model_module": "@jupyter-widgets/controls",
          "model_name": "HBoxModel",
          "state": {
            "_view_name": "HBoxView",
            "_dom_classes": [],
            "_model_name": "HBoxModel",
            "_view_module": "@jupyter-widgets/controls",
            "_model_module_version": "1.5.0",
            "_view_count": null,
            "_view_module_version": "1.5.0",
            "box_style": "",
            "layout": "IPY_MODEL_5ee50942b72e4f899a2a47d0d3119f7c",
            "_model_module": "@jupyter-widgets/controls",
            "children": [
              "IPY_MODEL_a56ef8debc2b4f53af700b86e2f7c954",
              "IPY_MODEL_35bf55715fdf455f8bfd2063c40ea9ae"
            ]
          }
        },
        "5ee50942b72e4f899a2a47d0d3119f7c": {
          "model_module": "@jupyter-widgets/base",
          "model_name": "LayoutModel",
          "state": {
            "_view_name": "LayoutView",
            "grid_template_rows": null,
            "right": null,
            "justify_content": null,
            "_view_module": "@jupyter-widgets/base",
            "overflow": null,
            "_model_module_version": "1.2.0",
            "_view_count": null,
            "flex_flow": null,
            "width": null,
            "min_width": null,
            "border": null,
            "align_items": null,
            "bottom": null,
            "_model_module": "@jupyter-widgets/base",
            "top": null,
            "grid_column": null,
            "overflow_y": null,
            "overflow_x": null,
            "grid_auto_flow": null,
            "grid_area": null,
            "grid_template_columns": null,
            "flex": null,
            "_model_name": "LayoutModel",
            "justify_items": null,
            "grid_row": null,
            "max_height": null,
            "align_content": null,
            "visibility": null,
            "align_self": null,
            "height": null,
            "min_height": null,
            "padding": null,
            "grid_auto_rows": null,
            "grid_gap": null,
            "max_width": null,
            "order": null,
            "_view_module_version": "1.2.0",
            "grid_template_areas": null,
            "object_position": null,
            "object_fit": null,
            "grid_auto_columns": null,
            "margin": null,
            "display": null,
            "left": null
          }
        },
        "a56ef8debc2b4f53af700b86e2f7c954": {
          "model_module": "@jupyter-widgets/controls",
          "model_name": "FloatProgressModel",
          "state": {
            "_view_name": "ProgressView",
            "style": "IPY_MODEL_ffdb42bf2e3c4c9686c02d4549f72736",
            "_dom_classes": [],
            "description": "",
            "_model_name": "FloatProgressModel",
            "bar_style": "success",
            "max": 1,
            "_view_module": "@jupyter-widgets/controls",
            "_model_module_version": "1.5.0",
            "value": 1,
            "_view_count": null,
            "_view_module_version": "1.5.0",
            "orientation": "horizontal",
            "min": 0,
            "description_tooltip": null,
            "_model_module": "@jupyter-widgets/controls",
            "layout": "IPY_MODEL_770efbb3f3b5488982e6bb933bd090b8"
          }
        },
        "35bf55715fdf455f8bfd2063c40ea9ae": {
          "model_module": "@jupyter-widgets/controls",
          "model_name": "HTMLModel",
          "state": {
            "_view_name": "HTMLView",
            "style": "IPY_MODEL_63d0f475ccca4978bd3424fe26aff037",
            "_dom_classes": [],
            "description": "",
            "_model_name": "HTMLModel",
            "placeholder": "​",
            "_view_module": "@jupyter-widgets/controls",
            "_model_module_version": "1.5.0",
            "value": " 6/? [00:27&lt;00:00,  4.58s/it]",
            "_view_count": null,
            "_view_module_version": "1.5.0",
            "description_tooltip": null,
            "_model_module": "@jupyter-widgets/controls",
            "layout": "IPY_MODEL_f41e5cd8a6924d15a777e9cb55976396"
          }
        },
        "ffdb42bf2e3c4c9686c02d4549f72736": {
          "model_module": "@jupyter-widgets/controls",
          "model_name": "ProgressStyleModel",
          "state": {
            "_view_name": "StyleView",
            "_model_name": "ProgressStyleModel",
            "description_width": "initial",
            "_view_module": "@jupyter-widgets/base",
            "_model_module_version": "1.5.0",
            "_view_count": null,
            "_view_module_version": "1.2.0",
            "bar_color": null,
            "_model_module": "@jupyter-widgets/controls"
          }
        },
        "770efbb3f3b5488982e6bb933bd090b8": {
          "model_module": "@jupyter-widgets/base",
          "model_name": "LayoutModel",
          "state": {
            "_view_name": "LayoutView",
            "grid_template_rows": null,
            "right": null,
            "justify_content": null,
            "_view_module": "@jupyter-widgets/base",
            "overflow": null,
            "_model_module_version": "1.2.0",
            "_view_count": null,
            "flex_flow": null,
            "width": null,
            "min_width": null,
            "border": null,
            "align_items": null,
            "bottom": null,
            "_model_module": "@jupyter-widgets/base",
            "top": null,
            "grid_column": null,
            "overflow_y": null,
            "overflow_x": null,
            "grid_auto_flow": null,
            "grid_area": null,
            "grid_template_columns": null,
            "flex": null,
            "_model_name": "LayoutModel",
            "justify_items": null,
            "grid_row": null,
            "max_height": null,
            "align_content": null,
            "visibility": null,
            "align_self": null,
            "height": null,
            "min_height": null,
            "padding": null,
            "grid_auto_rows": null,
            "grid_gap": null,
            "max_width": null,
            "order": null,
            "_view_module_version": "1.2.0",
            "grid_template_areas": null,
            "object_position": null,
            "object_fit": null,
            "grid_auto_columns": null,
            "margin": null,
            "display": null,
            "left": null
          }
        },
        "63d0f475ccca4978bd3424fe26aff037": {
          "model_module": "@jupyter-widgets/controls",
          "model_name": "DescriptionStyleModel",
          "state": {
            "_view_name": "StyleView",
            "_model_name": "DescriptionStyleModel",
            "description_width": "",
            "_view_module": "@jupyter-widgets/base",
            "_model_module_version": "1.5.0",
            "_view_count": null,
            "_view_module_version": "1.2.0",
            "_model_module": "@jupyter-widgets/controls"
          }
        },
        "f41e5cd8a6924d15a777e9cb55976396": {
          "model_module": "@jupyter-widgets/base",
          "model_name": "LayoutModel",
          "state": {
            "_view_name": "LayoutView",
            "grid_template_rows": null,
            "right": null,
            "justify_content": null,
            "_view_module": "@jupyter-widgets/base",
            "overflow": null,
            "_model_module_version": "1.2.0",
            "_view_count": null,
            "flex_flow": null,
            "width": null,
            "min_width": null,
            "border": null,
            "align_items": null,
            "bottom": null,
            "_model_module": "@jupyter-widgets/base",
            "top": null,
            "grid_column": null,
            "overflow_y": null,
            "overflow_x": null,
            "grid_auto_flow": null,
            "grid_area": null,
            "grid_template_columns": null,
            "flex": null,
            "_model_name": "LayoutModel",
            "justify_items": null,
            "grid_row": null,
            "max_height": null,
            "align_content": null,
            "visibility": null,
            "align_self": null,
            "height": null,
            "min_height": null,
            "padding": null,
            "grid_auto_rows": null,
            "grid_gap": null,
            "max_width": null,
            "order": null,
            "_view_module_version": "1.2.0",
            "grid_template_areas": null,
            "object_position": null,
            "object_fit": null,
            "grid_auto_columns": null,
            "margin": null,
            "display": null,
            "left": null
          }
        },
        "d5e796518f7445c68aa7c4daed251f3e": {
          "model_module": "@jupyter-widgets/controls",
          "model_name": "HBoxModel",
          "state": {
            "_view_name": "HBoxView",
            "_dom_classes": [],
            "_model_name": "HBoxModel",
            "_view_module": "@jupyter-widgets/controls",
            "_model_module_version": "1.5.0",
            "_view_count": null,
            "_view_module_version": "1.5.0",
            "box_style": "",
            "layout": "IPY_MODEL_677a98548c4e42ab86d975f8cf46dda9",
            "_model_module": "@jupyter-widgets/controls",
            "children": [
              "IPY_MODEL_0d3102b8c879493b833536c903ba13b6",
              "IPY_MODEL_411fc29757794a9d9687863e36a1038e"
            ]
          }
        },
        "677a98548c4e42ab86d975f8cf46dda9": {
          "model_module": "@jupyter-widgets/base",
          "model_name": "LayoutModel",
          "state": {
            "_view_name": "LayoutView",
            "grid_template_rows": null,
            "right": null,
            "justify_content": null,
            "_view_module": "@jupyter-widgets/base",
            "overflow": null,
            "_model_module_version": "1.2.0",
            "_view_count": null,
            "flex_flow": null,
            "width": null,
            "min_width": null,
            "border": null,
            "align_items": null,
            "bottom": null,
            "_model_module": "@jupyter-widgets/base",
            "top": null,
            "grid_column": null,
            "overflow_y": null,
            "overflow_x": null,
            "grid_auto_flow": null,
            "grid_area": null,
            "grid_template_columns": null,
            "flex": null,
            "_model_name": "LayoutModel",
            "justify_items": null,
            "grid_row": null,
            "max_height": null,
            "align_content": null,
            "visibility": null,
            "align_self": null,
            "height": null,
            "min_height": null,
            "padding": null,
            "grid_auto_rows": null,
            "grid_gap": null,
            "max_width": null,
            "order": null,
            "_view_module_version": "1.2.0",
            "grid_template_areas": null,
            "object_position": null,
            "object_fit": null,
            "grid_auto_columns": null,
            "margin": null,
            "display": null,
            "left": null
          }
        },
        "0d3102b8c879493b833536c903ba13b6": {
          "model_module": "@jupyter-widgets/controls",
          "model_name": "FloatProgressModel",
          "state": {
            "_view_name": "ProgressView",
            "style": "IPY_MODEL_d09aa3a5fa864987a164e540d7287d49",
            "_dom_classes": [],
            "description": "100%",
            "_model_name": "FloatProgressModel",
            "bar_style": "success",
            "max": 9,
            "_view_module": "@jupyter-widgets/controls",
            "_model_module_version": "1.5.0",
            "value": 9,
            "_view_count": null,
            "_view_module_version": "1.5.0",
            "orientation": "horizontal",
            "min": 0,
            "description_tooltip": null,
            "_model_module": "@jupyter-widgets/controls",
            "layout": "IPY_MODEL_4ef1b9209cfd43fda876e4b817efb703"
          }
        },
        "411fc29757794a9d9687863e36a1038e": {
          "model_module": "@jupyter-widgets/controls",
          "model_name": "HTMLModel",
          "state": {
            "_view_name": "HTMLView",
            "style": "IPY_MODEL_54c33d2f681d4b40bc56eea52bd5514d",
            "_dom_classes": [],
            "description": "",
            "_model_name": "HTMLModel",
            "placeholder": "​",
            "_view_module": "@jupyter-widgets/controls",
            "_model_module_version": "1.5.0",
            "value": " 9/9 [02:09&lt;00:00, 14.34s/it]",
            "_view_count": null,
            "_view_module_version": "1.5.0",
            "description_tooltip": null,
            "_model_module": "@jupyter-widgets/controls",
            "layout": "IPY_MODEL_acd55f654eec465cb806daa4ee851db0"
          }
        },
        "d09aa3a5fa864987a164e540d7287d49": {
          "model_module": "@jupyter-widgets/controls",
          "model_name": "ProgressStyleModel",
          "state": {
            "_view_name": "StyleView",
            "_model_name": "ProgressStyleModel",
            "description_width": "initial",
            "_view_module": "@jupyter-widgets/base",
            "_model_module_version": "1.5.0",
            "_view_count": null,
            "_view_module_version": "1.2.0",
            "bar_color": null,
            "_model_module": "@jupyter-widgets/controls"
          }
        },
        "4ef1b9209cfd43fda876e4b817efb703": {
          "model_module": "@jupyter-widgets/base",
          "model_name": "LayoutModel",
          "state": {
            "_view_name": "LayoutView",
            "grid_template_rows": null,
            "right": null,
            "justify_content": null,
            "_view_module": "@jupyter-widgets/base",
            "overflow": null,
            "_model_module_version": "1.2.0",
            "_view_count": null,
            "flex_flow": null,
            "width": null,
            "min_width": null,
            "border": null,
            "align_items": null,
            "bottom": null,
            "_model_module": "@jupyter-widgets/base",
            "top": null,
            "grid_column": null,
            "overflow_y": null,
            "overflow_x": null,
            "grid_auto_flow": null,
            "grid_area": null,
            "grid_template_columns": null,
            "flex": null,
            "_model_name": "LayoutModel",
            "justify_items": null,
            "grid_row": null,
            "max_height": null,
            "align_content": null,
            "visibility": null,
            "align_self": null,
            "height": null,
            "min_height": null,
            "padding": null,
            "grid_auto_rows": null,
            "grid_gap": null,
            "max_width": null,
            "order": null,
            "_view_module_version": "1.2.0",
            "grid_template_areas": null,
            "object_position": null,
            "object_fit": null,
            "grid_auto_columns": null,
            "margin": null,
            "display": null,
            "left": null
          }
        },
        "54c33d2f681d4b40bc56eea52bd5514d": {
          "model_module": "@jupyter-widgets/controls",
          "model_name": "DescriptionStyleModel",
          "state": {
            "_view_name": "StyleView",
            "_model_name": "DescriptionStyleModel",
            "description_width": "",
            "_view_module": "@jupyter-widgets/base",
            "_model_module_version": "1.5.0",
            "_view_count": null,
            "_view_module_version": "1.2.0",
            "_model_module": "@jupyter-widgets/controls"
          }
        },
        "acd55f654eec465cb806daa4ee851db0": {
          "model_module": "@jupyter-widgets/base",
          "model_name": "LayoutModel",
          "state": {
            "_view_name": "LayoutView",
            "grid_template_rows": null,
            "right": null,
            "justify_content": null,
            "_view_module": "@jupyter-widgets/base",
            "overflow": null,
            "_model_module_version": "1.2.0",
            "_view_count": null,
            "flex_flow": null,
            "width": null,
            "min_width": null,
            "border": null,
            "align_items": null,
            "bottom": null,
            "_model_module": "@jupyter-widgets/base",
            "top": null,
            "grid_column": null,
            "overflow_y": null,
            "overflow_x": null,
            "grid_auto_flow": null,
            "grid_area": null,
            "grid_template_columns": null,
            "flex": null,
            "_model_name": "LayoutModel",
            "justify_items": null,
            "grid_row": null,
            "max_height": null,
            "align_content": null,
            "visibility": null,
            "align_self": null,
            "height": null,
            "min_height": null,
            "padding": null,
            "grid_auto_rows": null,
            "grid_gap": null,
            "max_width": null,
            "order": null,
            "_view_module_version": "1.2.0",
            "grid_template_areas": null,
            "object_position": null,
            "object_fit": null,
            "grid_auto_columns": null,
            "margin": null,
            "display": null,
            "left": null
          }
        },
        "75573830777a41fc875cbcde807489f1": {
          "model_module": "@jupyter-widgets/controls",
          "model_name": "HBoxModel",
          "state": {
            "_view_name": "HBoxView",
            "_dom_classes": [],
            "_model_name": "HBoxModel",
            "_view_module": "@jupyter-widgets/controls",
            "_model_module_version": "1.5.0",
            "_view_count": null,
            "_view_module_version": "1.5.0",
            "box_style": "",
            "layout": "IPY_MODEL_4d8bc688c04b40ec8035534078ab7a53",
            "_model_module": "@jupyter-widgets/controls",
            "children": [
              "IPY_MODEL_7ccbcc7f847843a6bcaa7ee034777ef3",
              "IPY_MODEL_d2175e20db364fae8845727c1f570c15"
            ]
          }
        },
        "4d8bc688c04b40ec8035534078ab7a53": {
          "model_module": "@jupyter-widgets/base",
          "model_name": "LayoutModel",
          "state": {
            "_view_name": "LayoutView",
            "grid_template_rows": null,
            "right": null,
            "justify_content": null,
            "_view_module": "@jupyter-widgets/base",
            "overflow": null,
            "_model_module_version": "1.2.0",
            "_view_count": null,
            "flex_flow": null,
            "width": null,
            "min_width": null,
            "border": null,
            "align_items": null,
            "bottom": null,
            "_model_module": "@jupyter-widgets/base",
            "top": null,
            "grid_column": null,
            "overflow_y": null,
            "overflow_x": null,
            "grid_auto_flow": null,
            "grid_area": null,
            "grid_template_columns": null,
            "flex": null,
            "_model_name": "LayoutModel",
            "justify_items": null,
            "grid_row": null,
            "max_height": null,
            "align_content": null,
            "visibility": null,
            "align_self": null,
            "height": null,
            "min_height": null,
            "padding": null,
            "grid_auto_rows": null,
            "grid_gap": null,
            "max_width": null,
            "order": null,
            "_view_module_version": "1.2.0",
            "grid_template_areas": null,
            "object_position": null,
            "object_fit": null,
            "grid_auto_columns": null,
            "margin": null,
            "display": null,
            "left": null
          }
        },
        "7ccbcc7f847843a6bcaa7ee034777ef3": {
          "model_module": "@jupyter-widgets/controls",
          "model_name": "FloatProgressModel",
          "state": {
            "_view_name": "ProgressView",
            "style": "IPY_MODEL_691b767cf1934db2a0d13ff64bcb4b1a",
            "_dom_classes": [],
            "description": "100%",
            "_model_name": "FloatProgressModel",
            "bar_style": "success",
            "max": 183592,
            "_view_module": "@jupyter-widgets/controls",
            "_model_module_version": "1.5.0",
            "value": 183592,
            "_view_count": null,
            "_view_module_version": "1.5.0",
            "orientation": "horizontal",
            "min": 0,
            "description_tooltip": null,
            "_model_module": "@jupyter-widgets/controls",
            "layout": "IPY_MODEL_5c489b63a694474ab827e9cc28357896"
          }
        },
        "d2175e20db364fae8845727c1f570c15": {
          "model_module": "@jupyter-widgets/controls",
          "model_name": "HTMLModel",
          "state": {
            "_view_name": "HTMLView",
            "style": "IPY_MODEL_c74d34623343449f958897fc651133d6",
            "_dom_classes": [],
            "description": "",
            "_model_name": "HTMLModel",
            "placeholder": "​",
            "_view_module": "@jupyter-widgets/controls",
            "_model_module_version": "1.5.0",
            "value": " 183592/183592 [00:00&lt;00:00, 466066.50it/s]",
            "_view_count": null,
            "_view_module_version": "1.5.0",
            "description_tooltip": null,
            "_model_module": "@jupyter-widgets/controls",
            "layout": "IPY_MODEL_5173cbcc61af48fb95f6c4b23a814df1"
          }
        },
        "691b767cf1934db2a0d13ff64bcb4b1a": {
          "model_module": "@jupyter-widgets/controls",
          "model_name": "ProgressStyleModel",
          "state": {
            "_view_name": "StyleView",
            "_model_name": "ProgressStyleModel",
            "description_width": "initial",
            "_view_module": "@jupyter-widgets/base",
            "_model_module_version": "1.5.0",
            "_view_count": null,
            "_view_module_version": "1.2.0",
            "bar_color": null,
            "_model_module": "@jupyter-widgets/controls"
          }
        },
        "5c489b63a694474ab827e9cc28357896": {
          "model_module": "@jupyter-widgets/base",
          "model_name": "LayoutModel",
          "state": {
            "_view_name": "LayoutView",
            "grid_template_rows": null,
            "right": null,
            "justify_content": null,
            "_view_module": "@jupyter-widgets/base",
            "overflow": null,
            "_model_module_version": "1.2.0",
            "_view_count": null,
            "flex_flow": null,
            "width": null,
            "min_width": null,
            "border": null,
            "align_items": null,
            "bottom": null,
            "_model_module": "@jupyter-widgets/base",
            "top": null,
            "grid_column": null,
            "overflow_y": null,
            "overflow_x": null,
            "grid_auto_flow": null,
            "grid_area": null,
            "grid_template_columns": null,
            "flex": null,
            "_model_name": "LayoutModel",
            "justify_items": null,
            "grid_row": null,
            "max_height": null,
            "align_content": null,
            "visibility": null,
            "align_self": null,
            "height": null,
            "min_height": null,
            "padding": null,
            "grid_auto_rows": null,
            "grid_gap": null,
            "max_width": null,
            "order": null,
            "_view_module_version": "1.2.0",
            "grid_template_areas": null,
            "object_position": null,
            "object_fit": null,
            "grid_auto_columns": null,
            "margin": null,
            "display": null,
            "left": null
          }
        },
        "c74d34623343449f958897fc651133d6": {
          "model_module": "@jupyter-widgets/controls",
          "model_name": "DescriptionStyleModel",
          "state": {
            "_view_name": "StyleView",
            "_model_name": "DescriptionStyleModel",
            "description_width": "",
            "_view_module": "@jupyter-widgets/base",
            "_model_module_version": "1.5.0",
            "_view_count": null,
            "_view_module_version": "1.2.0",
            "_model_module": "@jupyter-widgets/controls"
          }
        },
        "5173cbcc61af48fb95f6c4b23a814df1": {
          "model_module": "@jupyter-widgets/base",
          "model_name": "LayoutModel",
          "state": {
            "_view_name": "LayoutView",
            "grid_template_rows": null,
            "right": null,
            "justify_content": null,
            "_view_module": "@jupyter-widgets/base",
            "overflow": null,
            "_model_module_version": "1.2.0",
            "_view_count": null,
            "flex_flow": null,
            "width": null,
            "min_width": null,
            "border": null,
            "align_items": null,
            "bottom": null,
            "_model_module": "@jupyter-widgets/base",
            "top": null,
            "grid_column": null,
            "overflow_y": null,
            "overflow_x": null,
            "grid_auto_flow": null,
            "grid_area": null,
            "grid_template_columns": null,
            "flex": null,
            "_model_name": "LayoutModel",
            "justify_items": null,
            "grid_row": null,
            "max_height": null,
            "align_content": null,
            "visibility": null,
            "align_self": null,
            "height": null,
            "min_height": null,
            "padding": null,
            "grid_auto_rows": null,
            "grid_gap": null,
            "max_width": null,
            "order": null,
            "_view_module_version": "1.2.0",
            "grid_template_areas": null,
            "object_position": null,
            "object_fit": null,
            "grid_auto_columns": null,
            "margin": null,
            "display": null,
            "left": null
          }
        },
        "eba02de4908b46bc808df10af553d650": {
          "model_module": "@jupyter-widgets/controls",
          "model_name": "HBoxModel",
          "state": {
            "_view_name": "HBoxView",
            "_dom_classes": [],
            "_model_name": "HBoxModel",
            "_view_module": "@jupyter-widgets/controls",
            "_model_module_version": "1.5.0",
            "_view_count": null,
            "_view_module_version": "1.5.0",
            "box_style": "",
            "layout": "IPY_MODEL_e30d6882a6fa4bb0b08104b3c280e746",
            "_model_module": "@jupyter-widgets/controls",
            "children": [
              "IPY_MODEL_196310375ccd4819909d42269e3a2630",
              "IPY_MODEL_ff4d95f13b554d2481850ed388ba0e22"
            ]
          }
        },
        "e30d6882a6fa4bb0b08104b3c280e746": {
          "model_module": "@jupyter-widgets/base",
          "model_name": "LayoutModel",
          "state": {
            "_view_name": "LayoutView",
            "grid_template_rows": null,
            "right": null,
            "justify_content": null,
            "_view_module": "@jupyter-widgets/base",
            "overflow": null,
            "_model_module_version": "1.2.0",
            "_view_count": null,
            "flex_flow": null,
            "width": null,
            "min_width": null,
            "border": null,
            "align_items": null,
            "bottom": null,
            "_model_module": "@jupyter-widgets/base",
            "top": null,
            "grid_column": null,
            "overflow_y": null,
            "overflow_x": null,
            "grid_auto_flow": null,
            "grid_area": null,
            "grid_template_columns": null,
            "flex": null,
            "_model_name": "LayoutModel",
            "justify_items": null,
            "grid_row": null,
            "max_height": null,
            "align_content": null,
            "visibility": null,
            "align_self": null,
            "height": null,
            "min_height": null,
            "padding": null,
            "grid_auto_rows": null,
            "grid_gap": null,
            "max_width": null,
            "order": null,
            "_view_module_version": "1.2.0",
            "grid_template_areas": null,
            "object_position": null,
            "object_fit": null,
            "grid_auto_columns": null,
            "margin": null,
            "display": null,
            "left": null
          }
        },
        "196310375ccd4819909d42269e3a2630": {
          "model_module": "@jupyter-widgets/controls",
          "model_name": "FloatProgressModel",
          "state": {
            "_view_name": "ProgressView",
            "style": "IPY_MODEL_ecca1b70ebdb4270927c639a9e03d566",
            "_dom_classes": [],
            "description": "100%",
            "_model_name": "FloatProgressModel",
            "bar_style": "success",
            "max": 1767,
            "_view_module": "@jupyter-widgets/controls",
            "_model_module_version": "1.5.0",
            "value": 1767,
            "_view_count": null,
            "_view_module_version": "1.5.0",
            "orientation": "horizontal",
            "min": 0,
            "description_tooltip": null,
            "_model_module": "@jupyter-widgets/controls",
            "layout": "IPY_MODEL_15afd87ede5a4cb98bf88766e7b4e0fb"
          }
        },
        "ff4d95f13b554d2481850ed388ba0e22": {
          "model_module": "@jupyter-widgets/controls",
          "model_name": "HTMLModel",
          "state": {
            "_view_name": "HTMLView",
            "style": "IPY_MODEL_41afa50fab1e4e03b9c4711e6eac5c21",
            "_dom_classes": [],
            "description": "",
            "_model_name": "HTMLModel",
            "placeholder": "​",
            "_view_module": "@jupyter-widgets/controls",
            "_model_module_version": "1.5.0",
            "value": " 1767/1767 [00:41&lt;00:00, 42.48it/s]",
            "_view_count": null,
            "_view_module_version": "1.5.0",
            "description_tooltip": null,
            "_model_module": "@jupyter-widgets/controls",
            "layout": "IPY_MODEL_5d3a4b8a5c684d62854bc483b058f93b"
          }
        },
        "ecca1b70ebdb4270927c639a9e03d566": {
          "model_module": "@jupyter-widgets/controls",
          "model_name": "ProgressStyleModel",
          "state": {
            "_view_name": "StyleView",
            "_model_name": "ProgressStyleModel",
            "description_width": "initial",
            "_view_module": "@jupyter-widgets/base",
            "_model_module_version": "1.5.0",
            "_view_count": null,
            "_view_module_version": "1.2.0",
            "bar_color": null,
            "_model_module": "@jupyter-widgets/controls"
          }
        },
        "15afd87ede5a4cb98bf88766e7b4e0fb": {
          "model_module": "@jupyter-widgets/base",
          "model_name": "LayoutModel",
          "state": {
            "_view_name": "LayoutView",
            "grid_template_rows": null,
            "right": null,
            "justify_content": null,
            "_view_module": "@jupyter-widgets/base",
            "overflow": null,
            "_model_module_version": "1.2.0",
            "_view_count": null,
            "flex_flow": null,
            "width": null,
            "min_width": null,
            "border": null,
            "align_items": null,
            "bottom": null,
            "_model_module": "@jupyter-widgets/base",
            "top": null,
            "grid_column": null,
            "overflow_y": null,
            "overflow_x": null,
            "grid_auto_flow": null,
            "grid_area": null,
            "grid_template_columns": null,
            "flex": null,
            "_model_name": "LayoutModel",
            "justify_items": null,
            "grid_row": null,
            "max_height": null,
            "align_content": null,
            "visibility": null,
            "align_self": null,
            "height": null,
            "min_height": null,
            "padding": null,
            "grid_auto_rows": null,
            "grid_gap": null,
            "max_width": null,
            "order": null,
            "_view_module_version": "1.2.0",
            "grid_template_areas": null,
            "object_position": null,
            "object_fit": null,
            "grid_auto_columns": null,
            "margin": null,
            "display": null,
            "left": null
          }
        },
        "41afa50fab1e4e03b9c4711e6eac5c21": {
          "model_module": "@jupyter-widgets/controls",
          "model_name": "DescriptionStyleModel",
          "state": {
            "_view_name": "StyleView",
            "_model_name": "DescriptionStyleModel",
            "description_width": "",
            "_view_module": "@jupyter-widgets/base",
            "_model_module_version": "1.5.0",
            "_view_count": null,
            "_view_module_version": "1.2.0",
            "_model_module": "@jupyter-widgets/controls"
          }
        },
        "5d3a4b8a5c684d62854bc483b058f93b": {
          "model_module": "@jupyter-widgets/base",
          "model_name": "LayoutModel",
          "state": {
            "_view_name": "LayoutView",
            "grid_template_rows": null,
            "right": null,
            "justify_content": null,
            "_view_module": "@jupyter-widgets/base",
            "overflow": null,
            "_model_module_version": "1.2.0",
            "_view_count": null,
            "flex_flow": null,
            "width": null,
            "min_width": null,
            "border": null,
            "align_items": null,
            "bottom": null,
            "_model_module": "@jupyter-widgets/base",
            "top": null,
            "grid_column": null,
            "overflow_y": null,
            "overflow_x": null,
            "grid_auto_flow": null,
            "grid_area": null,
            "grid_template_columns": null,
            "flex": null,
            "_model_name": "LayoutModel",
            "justify_items": null,
            "grid_row": null,
            "max_height": null,
            "align_content": null,
            "visibility": null,
            "align_self": null,
            "height": null,
            "min_height": null,
            "padding": null,
            "grid_auto_rows": null,
            "grid_gap": null,
            "max_width": null,
            "order": null,
            "_view_module_version": "1.2.0",
            "grid_template_areas": null,
            "object_position": null,
            "object_fit": null,
            "grid_auto_columns": null,
            "margin": null,
            "display": null,
            "left": null
          }
        },
        "6d9643342b7149059e02e76a2e4f251e": {
          "model_module": "@jupyter-widgets/controls",
          "model_name": "HBoxModel",
          "state": {
            "_view_name": "HBoxView",
            "_dom_classes": [],
            "_model_name": "HBoxModel",
            "_view_module": "@jupyter-widgets/controls",
            "_model_module_version": "1.5.0",
            "_view_count": null,
            "_view_module_version": "1.5.0",
            "box_style": "",
            "layout": "IPY_MODEL_e655089599664746ae1e9e13de3e001e",
            "_model_module": "@jupyter-widgets/controls",
            "children": [
              "IPY_MODEL_aeba10b5c39743e182b6c74206834466",
              "IPY_MODEL_156aac63d688429988e14fba91574a05"
            ]
          }
        },
        "e655089599664746ae1e9e13de3e001e": {
          "model_module": "@jupyter-widgets/base",
          "model_name": "LayoutModel",
          "state": {
            "_view_name": "LayoutView",
            "grid_template_rows": null,
            "right": null,
            "justify_content": null,
            "_view_module": "@jupyter-widgets/base",
            "overflow": null,
            "_model_module_version": "1.2.0",
            "_view_count": null,
            "flex_flow": null,
            "width": null,
            "min_width": null,
            "border": null,
            "align_items": null,
            "bottom": null,
            "_model_module": "@jupyter-widgets/base",
            "top": null,
            "grid_column": null,
            "overflow_y": null,
            "overflow_x": null,
            "grid_auto_flow": null,
            "grid_area": null,
            "grid_template_columns": null,
            "flex": null,
            "_model_name": "LayoutModel",
            "justify_items": null,
            "grid_row": null,
            "max_height": null,
            "align_content": null,
            "visibility": null,
            "align_self": null,
            "height": null,
            "min_height": null,
            "padding": null,
            "grid_auto_rows": null,
            "grid_gap": null,
            "max_width": null,
            "order": null,
            "_view_module_version": "1.2.0",
            "grid_template_areas": null,
            "object_position": null,
            "object_fit": null,
            "grid_auto_columns": null,
            "margin": null,
            "display": null,
            "left": null
          }
        },
        "aeba10b5c39743e182b6c74206834466": {
          "model_module": "@jupyter-widgets/controls",
          "model_name": "FloatProgressModel",
          "state": {
            "_view_name": "ProgressView",
            "style": "IPY_MODEL_926c1430ed3d4bd4ba53dbbd1cdea598",
            "_dom_classes": [],
            "description": "100%",
            "_model_name": "FloatProgressModel",
            "bar_style": "success",
            "max": 183592,
            "_view_module": "@jupyter-widgets/controls",
            "_model_module_version": "1.5.0",
            "value": 183592,
            "_view_count": null,
            "_view_module_version": "1.5.0",
            "orientation": "horizontal",
            "min": 0,
            "description_tooltip": null,
            "_model_module": "@jupyter-widgets/controls",
            "layout": "IPY_MODEL_cd5b0f1c541d47139907c0d45b2910f7"
          }
        },
        "156aac63d688429988e14fba91574a05": {
          "model_module": "@jupyter-widgets/controls",
          "model_name": "HTMLModel",
          "state": {
            "_view_name": "HTMLView",
            "style": "IPY_MODEL_d13f68e026c542119f1b75374f2a8e27",
            "_dom_classes": [],
            "description": "",
            "_model_name": "HTMLModel",
            "placeholder": "​",
            "_view_module": "@jupyter-widgets/controls",
            "_model_module_version": "1.5.0",
            "value": " 183592/183592 [00:00&lt;00:00, 373407.18it/s]",
            "_view_count": null,
            "_view_module_version": "1.5.0",
            "description_tooltip": null,
            "_model_module": "@jupyter-widgets/controls",
            "layout": "IPY_MODEL_5b26d927afb244479fec2f179e444513"
          }
        },
        "926c1430ed3d4bd4ba53dbbd1cdea598": {
          "model_module": "@jupyter-widgets/controls",
          "model_name": "ProgressStyleModel",
          "state": {
            "_view_name": "StyleView",
            "_model_name": "ProgressStyleModel",
            "description_width": "initial",
            "_view_module": "@jupyter-widgets/base",
            "_model_module_version": "1.5.0",
            "_view_count": null,
            "_view_module_version": "1.2.0",
            "bar_color": null,
            "_model_module": "@jupyter-widgets/controls"
          }
        },
        "cd5b0f1c541d47139907c0d45b2910f7": {
          "model_module": "@jupyter-widgets/base",
          "model_name": "LayoutModel",
          "state": {
            "_view_name": "LayoutView",
            "grid_template_rows": null,
            "right": null,
            "justify_content": null,
            "_view_module": "@jupyter-widgets/base",
            "overflow": null,
            "_model_module_version": "1.2.0",
            "_view_count": null,
            "flex_flow": null,
            "width": null,
            "min_width": null,
            "border": null,
            "align_items": null,
            "bottom": null,
            "_model_module": "@jupyter-widgets/base",
            "top": null,
            "grid_column": null,
            "overflow_y": null,
            "overflow_x": null,
            "grid_auto_flow": null,
            "grid_area": null,
            "grid_template_columns": null,
            "flex": null,
            "_model_name": "LayoutModel",
            "justify_items": null,
            "grid_row": null,
            "max_height": null,
            "align_content": null,
            "visibility": null,
            "align_self": null,
            "height": null,
            "min_height": null,
            "padding": null,
            "grid_auto_rows": null,
            "grid_gap": null,
            "max_width": null,
            "order": null,
            "_view_module_version": "1.2.0",
            "grid_template_areas": null,
            "object_position": null,
            "object_fit": null,
            "grid_auto_columns": null,
            "margin": null,
            "display": null,
            "left": null
          }
        },
        "d13f68e026c542119f1b75374f2a8e27": {
          "model_module": "@jupyter-widgets/controls",
          "model_name": "DescriptionStyleModel",
          "state": {
            "_view_name": "StyleView",
            "_model_name": "DescriptionStyleModel",
            "description_width": "",
            "_view_module": "@jupyter-widgets/base",
            "_model_module_version": "1.5.0",
            "_view_count": null,
            "_view_module_version": "1.2.0",
            "_model_module": "@jupyter-widgets/controls"
          }
        },
        "5b26d927afb244479fec2f179e444513": {
          "model_module": "@jupyter-widgets/base",
          "model_name": "LayoutModel",
          "state": {
            "_view_name": "LayoutView",
            "grid_template_rows": null,
            "right": null,
            "justify_content": null,
            "_view_module": "@jupyter-widgets/base",
            "overflow": null,
            "_model_module_version": "1.2.0",
            "_view_count": null,
            "flex_flow": null,
            "width": null,
            "min_width": null,
            "border": null,
            "align_items": null,
            "bottom": null,
            "_model_module": "@jupyter-widgets/base",
            "top": null,
            "grid_column": null,
            "overflow_y": null,
            "overflow_x": null,
            "grid_auto_flow": null,
            "grid_area": null,
            "grid_template_columns": null,
            "flex": null,
            "_model_name": "LayoutModel",
            "justify_items": null,
            "grid_row": null,
            "max_height": null,
            "align_content": null,
            "visibility": null,
            "align_self": null,
            "height": null,
            "min_height": null,
            "padding": null,
            "grid_auto_rows": null,
            "grid_gap": null,
            "max_width": null,
            "order": null,
            "_view_module_version": "1.2.0",
            "grid_template_areas": null,
            "object_position": null,
            "object_fit": null,
            "grid_auto_columns": null,
            "margin": null,
            "display": null,
            "left": null
          }
        },
        "7e904102234f4811a7fe2433a22615f2": {
          "model_module": "@jupyter-widgets/controls",
          "model_name": "HBoxModel",
          "state": {
            "_view_name": "HBoxView",
            "_dom_classes": [],
            "_model_name": "HBoxModel",
            "_view_module": "@jupyter-widgets/controls",
            "_model_module_version": "1.5.0",
            "_view_count": null,
            "_view_module_version": "1.5.0",
            "box_style": "",
            "layout": "IPY_MODEL_37fba1d90eba4ec385ca1a3ba017ffef",
            "_model_module": "@jupyter-widgets/controls",
            "children": [
              "IPY_MODEL_df2ceed377b9438f828f9d4d77670982",
              "IPY_MODEL_93093cec30fa4407b823c2219da113e4"
            ]
          }
        },
        "37fba1d90eba4ec385ca1a3ba017ffef": {
          "model_module": "@jupyter-widgets/base",
          "model_name": "LayoutModel",
          "state": {
            "_view_name": "LayoutView",
            "grid_template_rows": null,
            "right": null,
            "justify_content": null,
            "_view_module": "@jupyter-widgets/base",
            "overflow": null,
            "_model_module_version": "1.2.0",
            "_view_count": null,
            "flex_flow": null,
            "width": null,
            "min_width": null,
            "border": null,
            "align_items": null,
            "bottom": null,
            "_model_module": "@jupyter-widgets/base",
            "top": null,
            "grid_column": null,
            "overflow_y": null,
            "overflow_x": null,
            "grid_auto_flow": null,
            "grid_area": null,
            "grid_template_columns": null,
            "flex": null,
            "_model_name": "LayoutModel",
            "justify_items": null,
            "grid_row": null,
            "max_height": null,
            "align_content": null,
            "visibility": null,
            "align_self": null,
            "height": null,
            "min_height": null,
            "padding": null,
            "grid_auto_rows": null,
            "grid_gap": null,
            "max_width": null,
            "order": null,
            "_view_module_version": "1.2.0",
            "grid_template_areas": null,
            "object_position": null,
            "object_fit": null,
            "grid_auto_columns": null,
            "margin": null,
            "display": null,
            "left": null
          }
        },
        "df2ceed377b9438f828f9d4d77670982": {
          "model_module": "@jupyter-widgets/controls",
          "model_name": "IntProgressModel",
          "state": {
            "_view_name": "ProgressView",
            "style": "IPY_MODEL_bd9ed00bfcac4a2aa38f008a1161e2e3",
            "_dom_classes": [],
            "description": "100%",
            "_model_name": "IntProgressModel",
            "bar_style": "success",
            "max": 2255,
            "_view_module": "@jupyter-widgets/controls",
            "_model_module_version": "1.5.0",
            "value": 2255,
            "_view_count": null,
            "_view_module_version": "1.5.0",
            "orientation": "horizontal",
            "min": 0,
            "description_tooltip": null,
            "_model_module": "@jupyter-widgets/controls",
            "layout": "IPY_MODEL_bd34ebe576294a758e8654de4ab4a7a4"
          }
        },
        "93093cec30fa4407b823c2219da113e4": {
          "model_module": "@jupyter-widgets/controls",
          "model_name": "HTMLModel",
          "state": {
            "_view_name": "HTMLView",
            "style": "IPY_MODEL_34903792c8824333b32ddd062d5a21c0",
            "_dom_classes": [],
            "description": "",
            "_model_name": "HTMLModel",
            "placeholder": "​",
            "_view_module": "@jupyter-widgets/controls",
            "_model_module_version": "1.5.0",
            "value": " 2255/2255 [39:42&lt;00:00,  1.06s/it]",
            "_view_count": null,
            "_view_module_version": "1.5.0",
            "description_tooltip": null,
            "_model_module": "@jupyter-widgets/controls",
            "layout": "IPY_MODEL_4ec782887ca446c799030a6886ee5c23"
          }
        },
        "bd9ed00bfcac4a2aa38f008a1161e2e3": {
          "model_module": "@jupyter-widgets/controls",
          "model_name": "ProgressStyleModel",
          "state": {
            "_view_name": "StyleView",
            "_model_name": "ProgressStyleModel",
            "description_width": "initial",
            "_view_module": "@jupyter-widgets/base",
            "_model_module_version": "1.5.0",
            "_view_count": null,
            "_view_module_version": "1.2.0",
            "bar_color": null,
            "_model_module": "@jupyter-widgets/controls"
          }
        },
        "bd34ebe576294a758e8654de4ab4a7a4": {
          "model_module": "@jupyter-widgets/base",
          "model_name": "LayoutModel",
          "state": {
            "_view_name": "LayoutView",
            "grid_template_rows": null,
            "right": null,
            "justify_content": null,
            "_view_module": "@jupyter-widgets/base",
            "overflow": null,
            "_model_module_version": "1.2.0",
            "_view_count": null,
            "flex_flow": null,
            "width": null,
            "min_width": null,
            "border": null,
            "align_items": null,
            "bottom": null,
            "_model_module": "@jupyter-widgets/base",
            "top": null,
            "grid_column": null,
            "overflow_y": null,
            "overflow_x": null,
            "grid_auto_flow": null,
            "grid_area": null,
            "grid_template_columns": null,
            "flex": null,
            "_model_name": "LayoutModel",
            "justify_items": null,
            "grid_row": null,
            "max_height": null,
            "align_content": null,
            "visibility": null,
            "align_self": null,
            "height": null,
            "min_height": null,
            "padding": null,
            "grid_auto_rows": null,
            "grid_gap": null,
            "max_width": null,
            "order": null,
            "_view_module_version": "1.2.0",
            "grid_template_areas": null,
            "object_position": null,
            "object_fit": null,
            "grid_auto_columns": null,
            "margin": null,
            "display": null,
            "left": null
          }
        },
        "34903792c8824333b32ddd062d5a21c0": {
          "model_module": "@jupyter-widgets/controls",
          "model_name": "DescriptionStyleModel",
          "state": {
            "_view_name": "StyleView",
            "_model_name": "DescriptionStyleModel",
            "description_width": "",
            "_view_module": "@jupyter-widgets/base",
            "_model_module_version": "1.5.0",
            "_view_count": null,
            "_view_module_version": "1.2.0",
            "_model_module": "@jupyter-widgets/controls"
          }
        },
        "4ec782887ca446c799030a6886ee5c23": {
          "model_module": "@jupyter-widgets/base",
          "model_name": "LayoutModel",
          "state": {
            "_view_name": "LayoutView",
            "grid_template_rows": null,
            "right": null,
            "justify_content": null,
            "_view_module": "@jupyter-widgets/base",
            "overflow": null,
            "_model_module_version": "1.2.0",
            "_view_count": null,
            "flex_flow": null,
            "width": null,
            "min_width": null,
            "border": null,
            "align_items": null,
            "bottom": null,
            "_model_module": "@jupyter-widgets/base",
            "top": null,
            "grid_column": null,
            "overflow_y": null,
            "overflow_x": null,
            "grid_auto_flow": null,
            "grid_area": null,
            "grid_template_columns": null,
            "flex": null,
            "_model_name": "LayoutModel",
            "justify_items": null,
            "grid_row": null,
            "max_height": null,
            "align_content": null,
            "visibility": null,
            "align_self": null,
            "height": null,
            "min_height": null,
            "padding": null,
            "grid_auto_rows": null,
            "grid_gap": null,
            "max_width": null,
            "order": null,
            "_view_module_version": "1.2.0",
            "grid_template_areas": null,
            "object_position": null,
            "object_fit": null,
            "grid_auto_columns": null,
            "margin": null,
            "display": null,
            "left": null
          }
        },
        "47d9b9229d76400f931fb1d1bb343490": {
          "model_module": "@jupyter-widgets/controls",
          "model_name": "HBoxModel",
          "state": {
            "_view_name": "HBoxView",
            "_dom_classes": [],
            "_model_name": "HBoxModel",
            "_view_module": "@jupyter-widgets/controls",
            "_model_module_version": "1.5.0",
            "_view_count": null,
            "_view_module_version": "1.5.0",
            "box_style": "",
            "layout": "IPY_MODEL_16a7f55ec422478a9f307c89d261d580",
            "_model_module": "@jupyter-widgets/controls",
            "children": [
              "IPY_MODEL_ab1b969128da4f50a28b9b877a7967fb",
              "IPY_MODEL_7efe936e4c5d464eab7eb7fa65eaaef2"
            ]
          }
        },
        "16a7f55ec422478a9f307c89d261d580": {
          "model_module": "@jupyter-widgets/base",
          "model_name": "LayoutModel",
          "state": {
            "_view_name": "LayoutView",
            "grid_template_rows": null,
            "right": null,
            "justify_content": null,
            "_view_module": "@jupyter-widgets/base",
            "overflow": null,
            "_model_module_version": "1.2.0",
            "_view_count": null,
            "flex_flow": null,
            "width": null,
            "min_width": null,
            "border": null,
            "align_items": null,
            "bottom": null,
            "_model_module": "@jupyter-widgets/base",
            "top": null,
            "grid_column": null,
            "overflow_y": null,
            "overflow_x": null,
            "grid_auto_flow": null,
            "grid_area": null,
            "grid_template_columns": null,
            "flex": null,
            "_model_name": "LayoutModel",
            "justify_items": null,
            "grid_row": null,
            "max_height": null,
            "align_content": null,
            "visibility": null,
            "align_self": null,
            "height": null,
            "min_height": null,
            "padding": null,
            "grid_auto_rows": null,
            "grid_gap": null,
            "max_width": null,
            "order": null,
            "_view_module_version": "1.2.0",
            "grid_template_areas": null,
            "object_position": null,
            "object_fit": null,
            "grid_auto_columns": null,
            "margin": null,
            "display": null,
            "left": null
          }
        },
        "ab1b969128da4f50a28b9b877a7967fb": {
          "model_module": "@jupyter-widgets/controls",
          "model_name": "IntProgressModel",
          "state": {
            "_view_name": "ProgressView",
            "style": "IPY_MODEL_e96b8c00abc84e1ea1213ec963166313",
            "_dom_classes": [],
            "description": "100%",
            "_model_name": "IntProgressModel",
            "bar_style": "success",
            "max": 2255,
            "_view_module": "@jupyter-widgets/controls",
            "_model_module_version": "1.5.0",
            "value": 2255,
            "_view_count": null,
            "_view_module_version": "1.5.0",
            "orientation": "horizontal",
            "min": 0,
            "description_tooltip": null,
            "_model_module": "@jupyter-widgets/controls",
            "layout": "IPY_MODEL_3617a686b9fc480a829788c1cab7afe7"
          }
        },
        "7efe936e4c5d464eab7eb7fa65eaaef2": {
          "model_module": "@jupyter-widgets/controls",
          "model_name": "HTMLModel",
          "state": {
            "_view_name": "HTMLView",
            "style": "IPY_MODEL_055b4c34139544ffb325d16b751581f6",
            "_dom_classes": [],
            "description": "",
            "_model_name": "HTMLModel",
            "placeholder": "​",
            "_view_module": "@jupyter-widgets/controls",
            "_model_module_version": "1.5.0",
            "value": " 2255/2255 [36:20&lt;00:00,  1.03it/s]",
            "_view_count": null,
            "_view_module_version": "1.5.0",
            "description_tooltip": null,
            "_model_module": "@jupyter-widgets/controls",
            "layout": "IPY_MODEL_1d76d03163b14125b14cce62168759b5"
          }
        },
        "e96b8c00abc84e1ea1213ec963166313": {
          "model_module": "@jupyter-widgets/controls",
          "model_name": "ProgressStyleModel",
          "state": {
            "_view_name": "StyleView",
            "_model_name": "ProgressStyleModel",
            "description_width": "initial",
            "_view_module": "@jupyter-widgets/base",
            "_model_module_version": "1.5.0",
            "_view_count": null,
            "_view_module_version": "1.2.0",
            "bar_color": null,
            "_model_module": "@jupyter-widgets/controls"
          }
        },
        "3617a686b9fc480a829788c1cab7afe7": {
          "model_module": "@jupyter-widgets/base",
          "model_name": "LayoutModel",
          "state": {
            "_view_name": "LayoutView",
            "grid_template_rows": null,
            "right": null,
            "justify_content": null,
            "_view_module": "@jupyter-widgets/base",
            "overflow": null,
            "_model_module_version": "1.2.0",
            "_view_count": null,
            "flex_flow": null,
            "width": null,
            "min_width": null,
            "border": null,
            "align_items": null,
            "bottom": null,
            "_model_module": "@jupyter-widgets/base",
            "top": null,
            "grid_column": null,
            "overflow_y": null,
            "overflow_x": null,
            "grid_auto_flow": null,
            "grid_area": null,
            "grid_template_columns": null,
            "flex": null,
            "_model_name": "LayoutModel",
            "justify_items": null,
            "grid_row": null,
            "max_height": null,
            "align_content": null,
            "visibility": null,
            "align_self": null,
            "height": null,
            "min_height": null,
            "padding": null,
            "grid_auto_rows": null,
            "grid_gap": null,
            "max_width": null,
            "order": null,
            "_view_module_version": "1.2.0",
            "grid_template_areas": null,
            "object_position": null,
            "object_fit": null,
            "grid_auto_columns": null,
            "margin": null,
            "display": null,
            "left": null
          }
        },
        "055b4c34139544ffb325d16b751581f6": {
          "model_module": "@jupyter-widgets/controls",
          "model_name": "DescriptionStyleModel",
          "state": {
            "_view_name": "StyleView",
            "_model_name": "DescriptionStyleModel",
            "description_width": "",
            "_view_module": "@jupyter-widgets/base",
            "_model_module_version": "1.5.0",
            "_view_count": null,
            "_view_module_version": "1.2.0",
            "_model_module": "@jupyter-widgets/controls"
          }
        },
        "1d76d03163b14125b14cce62168759b5": {
          "model_module": "@jupyter-widgets/base",
          "model_name": "LayoutModel",
          "state": {
            "_view_name": "LayoutView",
            "grid_template_rows": null,
            "right": null,
            "justify_content": null,
            "_view_module": "@jupyter-widgets/base",
            "overflow": null,
            "_model_module_version": "1.2.0",
            "_view_count": null,
            "flex_flow": null,
            "width": null,
            "min_width": null,
            "border": null,
            "align_items": null,
            "bottom": null,
            "_model_module": "@jupyter-widgets/base",
            "top": null,
            "grid_column": null,
            "overflow_y": null,
            "overflow_x": null,
            "grid_auto_flow": null,
            "grid_area": null,
            "grid_template_columns": null,
            "flex": null,
            "_model_name": "LayoutModel",
            "justify_items": null,
            "grid_row": null,
            "max_height": null,
            "align_content": null,
            "visibility": null,
            "align_self": null,
            "height": null,
            "min_height": null,
            "padding": null,
            "grid_auto_rows": null,
            "grid_gap": null,
            "max_width": null,
            "order": null,
            "_view_module_version": "1.2.0",
            "grid_template_areas": null,
            "object_position": null,
            "object_fit": null,
            "grid_auto_columns": null,
            "margin": null,
            "display": null,
            "left": null
          }
        },
        "04f3cbd165ee478585d463398f3bd9c5": {
          "model_module": "@jupyter-widgets/controls",
          "model_name": "HBoxModel",
          "state": {
            "_view_name": "HBoxView",
            "_dom_classes": [],
            "_model_name": "HBoxModel",
            "_view_module": "@jupyter-widgets/controls",
            "_model_module_version": "1.5.0",
            "_view_count": null,
            "_view_module_version": "1.5.0",
            "box_style": "",
            "layout": "IPY_MODEL_f8acc13f1082425bad4be3e65a64a45d",
            "_model_module": "@jupyter-widgets/controls",
            "children": [
              "IPY_MODEL_254d9297b2bc424681d682144dc87198",
              "IPY_MODEL_ff9ab599a65340e58d74463bdaae70a0"
            ]
          }
        },
        "f8acc13f1082425bad4be3e65a64a45d": {
          "model_module": "@jupyter-widgets/base",
          "model_name": "LayoutModel",
          "state": {
            "_view_name": "LayoutView",
            "grid_template_rows": null,
            "right": null,
            "justify_content": null,
            "_view_module": "@jupyter-widgets/base",
            "overflow": null,
            "_model_module_version": "1.2.0",
            "_view_count": null,
            "flex_flow": null,
            "width": null,
            "min_width": null,
            "border": null,
            "align_items": null,
            "bottom": null,
            "_model_module": "@jupyter-widgets/base",
            "top": null,
            "grid_column": null,
            "overflow_y": null,
            "overflow_x": null,
            "grid_auto_flow": null,
            "grid_area": null,
            "grid_template_columns": null,
            "flex": null,
            "_model_name": "LayoutModel",
            "justify_items": null,
            "grid_row": null,
            "max_height": null,
            "align_content": null,
            "visibility": null,
            "align_self": null,
            "height": null,
            "min_height": null,
            "padding": null,
            "grid_auto_rows": null,
            "grid_gap": null,
            "max_width": null,
            "order": null,
            "_view_module_version": "1.2.0",
            "grid_template_areas": null,
            "object_position": null,
            "object_fit": null,
            "grid_auto_columns": null,
            "margin": null,
            "display": null,
            "left": null
          }
        },
        "254d9297b2bc424681d682144dc87198": {
          "model_module": "@jupyter-widgets/controls",
          "model_name": "IntProgressModel",
          "state": {
            "_view_name": "ProgressView",
            "style": "IPY_MODEL_cf7638746d114d8fa3389bc7933a6811",
            "_dom_classes": [],
            "description": "100%",
            "_model_name": "IntProgressModel",
            "bar_style": "success",
            "max": 2255,
            "_view_module": "@jupyter-widgets/controls",
            "_model_module_version": "1.5.0",
            "value": 2255,
            "_view_count": null,
            "_view_module_version": "1.5.0",
            "orientation": "horizontal",
            "min": 0,
            "description_tooltip": null,
            "_model_module": "@jupyter-widgets/controls",
            "layout": "IPY_MODEL_548ac14eb8ef48a2b218a7fae8317165"
          }
        },
        "ff9ab599a65340e58d74463bdaae70a0": {
          "model_module": "@jupyter-widgets/controls",
          "model_name": "HTMLModel",
          "state": {
            "_view_name": "HTMLView",
            "style": "IPY_MODEL_c1ded8aea9b24eba8047875ce8a04075",
            "_dom_classes": [],
            "description": "",
            "_model_name": "HTMLModel",
            "placeholder": "​",
            "_view_module": "@jupyter-widgets/controls",
            "_model_module_version": "1.5.0",
            "value": " 2255/2255 [32:54&lt;00:00,  1.14it/s]",
            "_view_count": null,
            "_view_module_version": "1.5.0",
            "description_tooltip": null,
            "_model_module": "@jupyter-widgets/controls",
            "layout": "IPY_MODEL_f6f93094325c468fb899d7f5215ab5ea"
          }
        },
        "cf7638746d114d8fa3389bc7933a6811": {
          "model_module": "@jupyter-widgets/controls",
          "model_name": "ProgressStyleModel",
          "state": {
            "_view_name": "StyleView",
            "_model_name": "ProgressStyleModel",
            "description_width": "initial",
            "_view_module": "@jupyter-widgets/base",
            "_model_module_version": "1.5.0",
            "_view_count": null,
            "_view_module_version": "1.2.0",
            "bar_color": null,
            "_model_module": "@jupyter-widgets/controls"
          }
        },
        "548ac14eb8ef48a2b218a7fae8317165": {
          "model_module": "@jupyter-widgets/base",
          "model_name": "LayoutModel",
          "state": {
            "_view_name": "LayoutView",
            "grid_template_rows": null,
            "right": null,
            "justify_content": null,
            "_view_module": "@jupyter-widgets/base",
            "overflow": null,
            "_model_module_version": "1.2.0",
            "_view_count": null,
            "flex_flow": null,
            "width": null,
            "min_width": null,
            "border": null,
            "align_items": null,
            "bottom": null,
            "_model_module": "@jupyter-widgets/base",
            "top": null,
            "grid_column": null,
            "overflow_y": null,
            "overflow_x": null,
            "grid_auto_flow": null,
            "grid_area": null,
            "grid_template_columns": null,
            "flex": null,
            "_model_name": "LayoutModel",
            "justify_items": null,
            "grid_row": null,
            "max_height": null,
            "align_content": null,
            "visibility": null,
            "align_self": null,
            "height": null,
            "min_height": null,
            "padding": null,
            "grid_auto_rows": null,
            "grid_gap": null,
            "max_width": null,
            "order": null,
            "_view_module_version": "1.2.0",
            "grid_template_areas": null,
            "object_position": null,
            "object_fit": null,
            "grid_auto_columns": null,
            "margin": null,
            "display": null,
            "left": null
          }
        },
        "c1ded8aea9b24eba8047875ce8a04075": {
          "model_module": "@jupyter-widgets/controls",
          "model_name": "DescriptionStyleModel",
          "state": {
            "_view_name": "StyleView",
            "_model_name": "DescriptionStyleModel",
            "description_width": "",
            "_view_module": "@jupyter-widgets/base",
            "_model_module_version": "1.5.0",
            "_view_count": null,
            "_view_module_version": "1.2.0",
            "_model_module": "@jupyter-widgets/controls"
          }
        },
        "f6f93094325c468fb899d7f5215ab5ea": {
          "model_module": "@jupyter-widgets/base",
          "model_name": "LayoutModel",
          "state": {
            "_view_name": "LayoutView",
            "grid_template_rows": null,
            "right": null,
            "justify_content": null,
            "_view_module": "@jupyter-widgets/base",
            "overflow": null,
            "_model_module_version": "1.2.0",
            "_view_count": null,
            "flex_flow": null,
            "width": null,
            "min_width": null,
            "border": null,
            "align_items": null,
            "bottom": null,
            "_model_module": "@jupyter-widgets/base",
            "top": null,
            "grid_column": null,
            "overflow_y": null,
            "overflow_x": null,
            "grid_auto_flow": null,
            "grid_area": null,
            "grid_template_columns": null,
            "flex": null,
            "_model_name": "LayoutModel",
            "justify_items": null,
            "grid_row": null,
            "max_height": null,
            "align_content": null,
            "visibility": null,
            "align_self": null,
            "height": null,
            "min_height": null,
            "padding": null,
            "grid_auto_rows": null,
            "grid_gap": null,
            "max_width": null,
            "order": null,
            "_view_module_version": "1.2.0",
            "grid_template_areas": null,
            "object_position": null,
            "object_fit": null,
            "grid_auto_columns": null,
            "margin": null,
            "display": null,
            "left": null
          }
        },
        "69c1da6763754e9bb99bed83d41239ef": {
          "model_module": "@jupyter-widgets/controls",
          "model_name": "HBoxModel",
          "state": {
            "_view_name": "HBoxView",
            "_dom_classes": [],
            "_model_name": "HBoxModel",
            "_view_module": "@jupyter-widgets/controls",
            "_model_module_version": "1.5.0",
            "_view_count": null,
            "_view_module_version": "1.5.0",
            "box_style": "",
            "layout": "IPY_MODEL_f8b779b6e5de4f93a3bc9f21f0ecfff9",
            "_model_module": "@jupyter-widgets/controls",
            "children": [
              "IPY_MODEL_f532f43185fd48149eba181d96705f3b",
              "IPY_MODEL_f41c5ecf36f3483fb726d2a6b6fb6750"
            ]
          }
        },
        "f8b779b6e5de4f93a3bc9f21f0ecfff9": {
          "model_module": "@jupyter-widgets/base",
          "model_name": "LayoutModel",
          "state": {
            "_view_name": "LayoutView",
            "grid_template_rows": null,
            "right": null,
            "justify_content": null,
            "_view_module": "@jupyter-widgets/base",
            "overflow": null,
            "_model_module_version": "1.2.0",
            "_view_count": null,
            "flex_flow": null,
            "width": null,
            "min_width": null,
            "border": null,
            "align_items": null,
            "bottom": null,
            "_model_module": "@jupyter-widgets/base",
            "top": null,
            "grid_column": null,
            "overflow_y": null,
            "overflow_x": null,
            "grid_auto_flow": null,
            "grid_area": null,
            "grid_template_columns": null,
            "flex": null,
            "_model_name": "LayoutModel",
            "justify_items": null,
            "grid_row": null,
            "max_height": null,
            "align_content": null,
            "visibility": null,
            "align_self": null,
            "height": null,
            "min_height": null,
            "padding": null,
            "grid_auto_rows": null,
            "grid_gap": null,
            "max_width": null,
            "order": null,
            "_view_module_version": "1.2.0",
            "grid_template_areas": null,
            "object_position": null,
            "object_fit": null,
            "grid_auto_columns": null,
            "margin": null,
            "display": null,
            "left": null
          }
        },
        "f532f43185fd48149eba181d96705f3b": {
          "model_module": "@jupyter-widgets/controls",
          "model_name": "IntProgressModel",
          "state": {
            "_view_name": "ProgressView",
            "style": "IPY_MODEL_a1f374e5676d4d15b6d023c1957be937",
            "_dom_classes": [],
            "description": "100%",
            "_model_name": "IntProgressModel",
            "bar_style": "success",
            "max": 2255,
            "_view_module": "@jupyter-widgets/controls",
            "_model_module_version": "1.5.0",
            "value": 2255,
            "_view_count": null,
            "_view_module_version": "1.5.0",
            "orientation": "horizontal",
            "min": 0,
            "description_tooltip": null,
            "_model_module": "@jupyter-widgets/controls",
            "layout": "IPY_MODEL_5662fffc3aae4b45955492d6319fed83"
          }
        },
        "f41c5ecf36f3483fb726d2a6b6fb6750": {
          "model_module": "@jupyter-widgets/controls",
          "model_name": "HTMLModel",
          "state": {
            "_view_name": "HTMLView",
            "style": "IPY_MODEL_c7f46e01b9fa4c2c9d1026fe3b5caaf5",
            "_dom_classes": [],
            "description": "",
            "_model_name": "HTMLModel",
            "placeholder": "​",
            "_view_module": "@jupyter-widgets/controls",
            "_model_module_version": "1.5.0",
            "value": " 2255/2255 [29:28&lt;00:00,  1.27it/s]",
            "_view_count": null,
            "_view_module_version": "1.5.0",
            "description_tooltip": null,
            "_model_module": "@jupyter-widgets/controls",
            "layout": "IPY_MODEL_514414d67e6040dabac3f8495bc521b0"
          }
        },
        "a1f374e5676d4d15b6d023c1957be937": {
          "model_module": "@jupyter-widgets/controls",
          "model_name": "ProgressStyleModel",
          "state": {
            "_view_name": "StyleView",
            "_model_name": "ProgressStyleModel",
            "description_width": "initial",
            "_view_module": "@jupyter-widgets/base",
            "_model_module_version": "1.5.0",
            "_view_count": null,
            "_view_module_version": "1.2.0",
            "bar_color": null,
            "_model_module": "@jupyter-widgets/controls"
          }
        },
        "5662fffc3aae4b45955492d6319fed83": {
          "model_module": "@jupyter-widgets/base",
          "model_name": "LayoutModel",
          "state": {
            "_view_name": "LayoutView",
            "grid_template_rows": null,
            "right": null,
            "justify_content": null,
            "_view_module": "@jupyter-widgets/base",
            "overflow": null,
            "_model_module_version": "1.2.0",
            "_view_count": null,
            "flex_flow": null,
            "width": null,
            "min_width": null,
            "border": null,
            "align_items": null,
            "bottom": null,
            "_model_module": "@jupyter-widgets/base",
            "top": null,
            "grid_column": null,
            "overflow_y": null,
            "overflow_x": null,
            "grid_auto_flow": null,
            "grid_area": null,
            "grid_template_columns": null,
            "flex": null,
            "_model_name": "LayoutModel",
            "justify_items": null,
            "grid_row": null,
            "max_height": null,
            "align_content": null,
            "visibility": null,
            "align_self": null,
            "height": null,
            "min_height": null,
            "padding": null,
            "grid_auto_rows": null,
            "grid_gap": null,
            "max_width": null,
            "order": null,
            "_view_module_version": "1.2.0",
            "grid_template_areas": null,
            "object_position": null,
            "object_fit": null,
            "grid_auto_columns": null,
            "margin": null,
            "display": null,
            "left": null
          }
        },
        "c7f46e01b9fa4c2c9d1026fe3b5caaf5": {
          "model_module": "@jupyter-widgets/controls",
          "model_name": "DescriptionStyleModel",
          "state": {
            "_view_name": "StyleView",
            "_model_name": "DescriptionStyleModel",
            "description_width": "",
            "_view_module": "@jupyter-widgets/base",
            "_model_module_version": "1.5.0",
            "_view_count": null,
            "_view_module_version": "1.2.0",
            "_model_module": "@jupyter-widgets/controls"
          }
        },
        "514414d67e6040dabac3f8495bc521b0": {
          "model_module": "@jupyter-widgets/base",
          "model_name": "LayoutModel",
          "state": {
            "_view_name": "LayoutView",
            "grid_template_rows": null,
            "right": null,
            "justify_content": null,
            "_view_module": "@jupyter-widgets/base",
            "overflow": null,
            "_model_module_version": "1.2.0",
            "_view_count": null,
            "flex_flow": null,
            "width": null,
            "min_width": null,
            "border": null,
            "align_items": null,
            "bottom": null,
            "_model_module": "@jupyter-widgets/base",
            "top": null,
            "grid_column": null,
            "overflow_y": null,
            "overflow_x": null,
            "grid_auto_flow": null,
            "grid_area": null,
            "grid_template_columns": null,
            "flex": null,
            "_model_name": "LayoutModel",
            "justify_items": null,
            "grid_row": null,
            "max_height": null,
            "align_content": null,
            "visibility": null,
            "align_self": null,
            "height": null,
            "min_height": null,
            "padding": null,
            "grid_auto_rows": null,
            "grid_gap": null,
            "max_width": null,
            "order": null,
            "_view_module_version": "1.2.0",
            "grid_template_areas": null,
            "object_position": null,
            "object_fit": null,
            "grid_auto_columns": null,
            "margin": null,
            "display": null,
            "left": null
          }
        },
        "d736c1a6a2b043c386546e14902f0b4a": {
          "model_module": "@jupyter-widgets/controls",
          "model_name": "HBoxModel",
          "state": {
            "_view_name": "HBoxView",
            "_dom_classes": [],
            "_model_name": "HBoxModel",
            "_view_module": "@jupyter-widgets/controls",
            "_model_module_version": "1.5.0",
            "_view_count": null,
            "_view_module_version": "1.5.0",
            "box_style": "",
            "layout": "IPY_MODEL_93df8c6011d54fcebd99647a5746e1a0",
            "_model_module": "@jupyter-widgets/controls",
            "children": [
              "IPY_MODEL_fd053e38cce24ac0892caecba57e55d4",
              "IPY_MODEL_8578a27916d440b6bb05649b33688c34"
            ]
          }
        },
        "93df8c6011d54fcebd99647a5746e1a0": {
          "model_module": "@jupyter-widgets/base",
          "model_name": "LayoutModel",
          "state": {
            "_view_name": "LayoutView",
            "grid_template_rows": null,
            "right": null,
            "justify_content": null,
            "_view_module": "@jupyter-widgets/base",
            "overflow": null,
            "_model_module_version": "1.2.0",
            "_view_count": null,
            "flex_flow": null,
            "width": null,
            "min_width": null,
            "border": null,
            "align_items": null,
            "bottom": null,
            "_model_module": "@jupyter-widgets/base",
            "top": null,
            "grid_column": null,
            "overflow_y": null,
            "overflow_x": null,
            "grid_auto_flow": null,
            "grid_area": null,
            "grid_template_columns": null,
            "flex": null,
            "_model_name": "LayoutModel",
            "justify_items": null,
            "grid_row": null,
            "max_height": null,
            "align_content": null,
            "visibility": null,
            "align_self": null,
            "height": null,
            "min_height": null,
            "padding": null,
            "grid_auto_rows": null,
            "grid_gap": null,
            "max_width": null,
            "order": null,
            "_view_module_version": "1.2.0",
            "grid_template_areas": null,
            "object_position": null,
            "object_fit": null,
            "grid_auto_columns": null,
            "margin": null,
            "display": null,
            "left": null
          }
        },
        "fd053e38cce24ac0892caecba57e55d4": {
          "model_module": "@jupyter-widgets/controls",
          "model_name": "IntProgressModel",
          "state": {
            "_view_name": "ProgressView",
            "style": "IPY_MODEL_3b30d64281f14dc28bbcd83df710707b",
            "_dom_classes": [],
            "description": "100%",
            "_model_name": "IntProgressModel",
            "bar_style": "success",
            "max": 2255,
            "_view_module": "@jupyter-widgets/controls",
            "_model_module_version": "1.5.0",
            "value": 2255,
            "_view_count": null,
            "_view_module_version": "1.5.0",
            "orientation": "horizontal",
            "min": 0,
            "description_tooltip": null,
            "_model_module": "@jupyter-widgets/controls",
            "layout": "IPY_MODEL_0638c687c5e14cd182b1702c5de45b1e"
          }
        },
        "8578a27916d440b6bb05649b33688c34": {
          "model_module": "@jupyter-widgets/controls",
          "model_name": "HTMLModel",
          "state": {
            "_view_name": "HTMLView",
            "style": "IPY_MODEL_16c766f9096a49dca4150dc6082201a1",
            "_dom_classes": [],
            "description": "",
            "_model_name": "HTMLModel",
            "placeholder": "​",
            "_view_module": "@jupyter-widgets/controls",
            "_model_module_version": "1.5.0",
            "value": " 2255/2255 [25:57&lt;00:00,  1.45it/s]",
            "_view_count": null,
            "_view_module_version": "1.5.0",
            "description_tooltip": null,
            "_model_module": "@jupyter-widgets/controls",
            "layout": "IPY_MODEL_c47767040be74af69e303dfe0d432d64"
          }
        },
        "3b30d64281f14dc28bbcd83df710707b": {
          "model_module": "@jupyter-widgets/controls",
          "model_name": "ProgressStyleModel",
          "state": {
            "_view_name": "StyleView",
            "_model_name": "ProgressStyleModel",
            "description_width": "initial",
            "_view_module": "@jupyter-widgets/base",
            "_model_module_version": "1.5.0",
            "_view_count": null,
            "_view_module_version": "1.2.0",
            "bar_color": null,
            "_model_module": "@jupyter-widgets/controls"
          }
        },
        "0638c687c5e14cd182b1702c5de45b1e": {
          "model_module": "@jupyter-widgets/base",
          "model_name": "LayoutModel",
          "state": {
            "_view_name": "LayoutView",
            "grid_template_rows": null,
            "right": null,
            "justify_content": null,
            "_view_module": "@jupyter-widgets/base",
            "overflow": null,
            "_model_module_version": "1.2.0",
            "_view_count": null,
            "flex_flow": null,
            "width": null,
            "min_width": null,
            "border": null,
            "align_items": null,
            "bottom": null,
            "_model_module": "@jupyter-widgets/base",
            "top": null,
            "grid_column": null,
            "overflow_y": null,
            "overflow_x": null,
            "grid_auto_flow": null,
            "grid_area": null,
            "grid_template_columns": null,
            "flex": null,
            "_model_name": "LayoutModel",
            "justify_items": null,
            "grid_row": null,
            "max_height": null,
            "align_content": null,
            "visibility": null,
            "align_self": null,
            "height": null,
            "min_height": null,
            "padding": null,
            "grid_auto_rows": null,
            "grid_gap": null,
            "max_width": null,
            "order": null,
            "_view_module_version": "1.2.0",
            "grid_template_areas": null,
            "object_position": null,
            "object_fit": null,
            "grid_auto_columns": null,
            "margin": null,
            "display": null,
            "left": null
          }
        },
        "16c766f9096a49dca4150dc6082201a1": {
          "model_module": "@jupyter-widgets/controls",
          "model_name": "DescriptionStyleModel",
          "state": {
            "_view_name": "StyleView",
            "_model_name": "DescriptionStyleModel",
            "description_width": "",
            "_view_module": "@jupyter-widgets/base",
            "_model_module_version": "1.5.0",
            "_view_count": null,
            "_view_module_version": "1.2.0",
            "_model_module": "@jupyter-widgets/controls"
          }
        },
        "c47767040be74af69e303dfe0d432d64": {
          "model_module": "@jupyter-widgets/base",
          "model_name": "LayoutModel",
          "state": {
            "_view_name": "LayoutView",
            "grid_template_rows": null,
            "right": null,
            "justify_content": null,
            "_view_module": "@jupyter-widgets/base",
            "overflow": null,
            "_model_module_version": "1.2.0",
            "_view_count": null,
            "flex_flow": null,
            "width": null,
            "min_width": null,
            "border": null,
            "align_items": null,
            "bottom": null,
            "_model_module": "@jupyter-widgets/base",
            "top": null,
            "grid_column": null,
            "overflow_y": null,
            "overflow_x": null,
            "grid_auto_flow": null,
            "grid_area": null,
            "grid_template_columns": null,
            "flex": null,
            "_model_name": "LayoutModel",
            "justify_items": null,
            "grid_row": null,
            "max_height": null,
            "align_content": null,
            "visibility": null,
            "align_self": null,
            "height": null,
            "min_height": null,
            "padding": null,
            "grid_auto_rows": null,
            "grid_gap": null,
            "max_width": null,
            "order": null,
            "_view_module_version": "1.2.0",
            "grid_template_areas": null,
            "object_position": null,
            "object_fit": null,
            "grid_auto_columns": null,
            "margin": null,
            "display": null,
            "left": null
          }
        },
        "0a635b20c7524b7ca3ced8742f4e4793": {
          "model_module": "@jupyter-widgets/controls",
          "model_name": "HBoxModel",
          "state": {
            "_view_name": "HBoxView",
            "_dom_classes": [],
            "_model_name": "HBoxModel",
            "_view_module": "@jupyter-widgets/controls",
            "_model_module_version": "1.5.0",
            "_view_count": null,
            "_view_module_version": "1.5.0",
            "box_style": "",
            "layout": "IPY_MODEL_b8f0d80299cc441abdf7e42ffba96e74",
            "_model_module": "@jupyter-widgets/controls",
            "children": [
              "IPY_MODEL_70dadd21caed4152bb196402c789c98e",
              "IPY_MODEL_ac583f4eac3b4de2bae1c704c70ff1e8"
            ]
          }
        },
        "b8f0d80299cc441abdf7e42ffba96e74": {
          "model_module": "@jupyter-widgets/base",
          "model_name": "LayoutModel",
          "state": {
            "_view_name": "LayoutView",
            "grid_template_rows": null,
            "right": null,
            "justify_content": null,
            "_view_module": "@jupyter-widgets/base",
            "overflow": null,
            "_model_module_version": "1.2.0",
            "_view_count": null,
            "flex_flow": null,
            "width": null,
            "min_width": null,
            "border": null,
            "align_items": null,
            "bottom": null,
            "_model_module": "@jupyter-widgets/base",
            "top": null,
            "grid_column": null,
            "overflow_y": null,
            "overflow_x": null,
            "grid_auto_flow": null,
            "grid_area": null,
            "grid_template_columns": null,
            "flex": null,
            "_model_name": "LayoutModel",
            "justify_items": null,
            "grid_row": null,
            "max_height": null,
            "align_content": null,
            "visibility": null,
            "align_self": null,
            "height": null,
            "min_height": null,
            "padding": null,
            "grid_auto_rows": null,
            "grid_gap": null,
            "max_width": null,
            "order": null,
            "_view_module_version": "1.2.0",
            "grid_template_areas": null,
            "object_position": null,
            "object_fit": null,
            "grid_auto_columns": null,
            "margin": null,
            "display": null,
            "left": null
          }
        },
        "70dadd21caed4152bb196402c789c98e": {
          "model_module": "@jupyter-widgets/controls",
          "model_name": "IntProgressModel",
          "state": {
            "_view_name": "ProgressView",
            "style": "IPY_MODEL_29d12a955dcb41dfbb072afab1b20fb8",
            "_dom_classes": [],
            "description": "100%",
            "_model_name": "IntProgressModel",
            "bar_style": "success",
            "max": 2521,
            "_view_module": "@jupyter-widgets/controls",
            "_model_module_version": "1.5.0",
            "value": 2521,
            "_view_count": null,
            "_view_module_version": "1.5.0",
            "orientation": "horizontal",
            "min": 0,
            "description_tooltip": null,
            "_model_module": "@jupyter-widgets/controls",
            "layout": "IPY_MODEL_07ae9108041641e18d31faa500f4949a"
          }
        },
        "ac583f4eac3b4de2bae1c704c70ff1e8": {
          "model_module": "@jupyter-widgets/controls",
          "model_name": "HTMLModel",
          "state": {
            "_view_name": "HTMLView",
            "style": "IPY_MODEL_19fde73e0a3c4e0c88f58beefb3e762f",
            "_dom_classes": [],
            "description": "",
            "_model_name": "HTMLModel",
            "placeholder": "​",
            "_view_module": "@jupyter-widgets/controls",
            "_model_module_version": "1.5.0",
            "value": " 2521/2521 [05:41&lt;00:00,  7.39it/s]",
            "_view_count": null,
            "_view_module_version": "1.5.0",
            "description_tooltip": null,
            "_model_module": "@jupyter-widgets/controls",
            "layout": "IPY_MODEL_f7148d1419a54132ae0bc4a902898b14"
          }
        },
        "29d12a955dcb41dfbb072afab1b20fb8": {
          "model_module": "@jupyter-widgets/controls",
          "model_name": "ProgressStyleModel",
          "state": {
            "_view_name": "StyleView",
            "_model_name": "ProgressStyleModel",
            "description_width": "initial",
            "_view_module": "@jupyter-widgets/base",
            "_model_module_version": "1.5.0",
            "_view_count": null,
            "_view_module_version": "1.2.0",
            "bar_color": null,
            "_model_module": "@jupyter-widgets/controls"
          }
        },
        "07ae9108041641e18d31faa500f4949a": {
          "model_module": "@jupyter-widgets/base",
          "model_name": "LayoutModel",
          "state": {
            "_view_name": "LayoutView",
            "grid_template_rows": null,
            "right": null,
            "justify_content": null,
            "_view_module": "@jupyter-widgets/base",
            "overflow": null,
            "_model_module_version": "1.2.0",
            "_view_count": null,
            "flex_flow": null,
            "width": null,
            "min_width": null,
            "border": null,
            "align_items": null,
            "bottom": null,
            "_model_module": "@jupyter-widgets/base",
            "top": null,
            "grid_column": null,
            "overflow_y": null,
            "overflow_x": null,
            "grid_auto_flow": null,
            "grid_area": null,
            "grid_template_columns": null,
            "flex": null,
            "_model_name": "LayoutModel",
            "justify_items": null,
            "grid_row": null,
            "max_height": null,
            "align_content": null,
            "visibility": null,
            "align_self": null,
            "height": null,
            "min_height": null,
            "padding": null,
            "grid_auto_rows": null,
            "grid_gap": null,
            "max_width": null,
            "order": null,
            "_view_module_version": "1.2.0",
            "grid_template_areas": null,
            "object_position": null,
            "object_fit": null,
            "grid_auto_columns": null,
            "margin": null,
            "display": null,
            "left": null
          }
        },
        "19fde73e0a3c4e0c88f58beefb3e762f": {
          "model_module": "@jupyter-widgets/controls",
          "model_name": "DescriptionStyleModel",
          "state": {
            "_view_name": "StyleView",
            "_model_name": "DescriptionStyleModel",
            "description_width": "",
            "_view_module": "@jupyter-widgets/base",
            "_model_module_version": "1.5.0",
            "_view_count": null,
            "_view_module_version": "1.2.0",
            "_model_module": "@jupyter-widgets/controls"
          }
        },
        "f7148d1419a54132ae0bc4a902898b14": {
          "model_module": "@jupyter-widgets/base",
          "model_name": "LayoutModel",
          "state": {
            "_view_name": "LayoutView",
            "grid_template_rows": null,
            "right": null,
            "justify_content": null,
            "_view_module": "@jupyter-widgets/base",
            "overflow": null,
            "_model_module_version": "1.2.0",
            "_view_count": null,
            "flex_flow": null,
            "width": null,
            "min_width": null,
            "border": null,
            "align_items": null,
            "bottom": null,
            "_model_module": "@jupyter-widgets/base",
            "top": null,
            "grid_column": null,
            "overflow_y": null,
            "overflow_x": null,
            "grid_auto_flow": null,
            "grid_area": null,
            "grid_template_columns": null,
            "flex": null,
            "_model_name": "LayoutModel",
            "justify_items": null,
            "grid_row": null,
            "max_height": null,
            "align_content": null,
            "visibility": null,
            "align_self": null,
            "height": null,
            "min_height": null,
            "padding": null,
            "grid_auto_rows": null,
            "grid_gap": null,
            "max_width": null,
            "order": null,
            "_view_module_version": "1.2.0",
            "grid_template_areas": null,
            "object_position": null,
            "object_fit": null,
            "grid_auto_columns": null,
            "margin": null,
            "display": null,
            "left": null
          }
        },
        "5534564789e34408b6d502e6f48bbde6": {
          "model_module": "@jupyter-widgets/controls",
          "model_name": "HBoxModel",
          "state": {
            "_view_name": "HBoxView",
            "_dom_classes": [],
            "_model_name": "HBoxModel",
            "_view_module": "@jupyter-widgets/controls",
            "_model_module_version": "1.5.0",
            "_view_count": null,
            "_view_module_version": "1.5.0",
            "box_style": "",
            "layout": "IPY_MODEL_6eefd8aa93114180af78a200f087ae80",
            "_model_module": "@jupyter-widgets/controls",
            "children": [
              "IPY_MODEL_96d81b8df14f4c4980f801024ac17500",
              "IPY_MODEL_4bccaed42164475fad91a776e2fa82d9"
            ]
          }
        },
        "6eefd8aa93114180af78a200f087ae80": {
          "model_module": "@jupyter-widgets/base",
          "model_name": "LayoutModel",
          "state": {
            "_view_name": "LayoutView",
            "grid_template_rows": null,
            "right": null,
            "justify_content": null,
            "_view_module": "@jupyter-widgets/base",
            "overflow": null,
            "_model_module_version": "1.2.0",
            "_view_count": null,
            "flex_flow": null,
            "width": null,
            "min_width": null,
            "border": null,
            "align_items": null,
            "bottom": null,
            "_model_module": "@jupyter-widgets/base",
            "top": null,
            "grid_column": null,
            "overflow_y": null,
            "overflow_x": null,
            "grid_auto_flow": null,
            "grid_area": null,
            "grid_template_columns": null,
            "flex": null,
            "_model_name": "LayoutModel",
            "justify_items": null,
            "grid_row": null,
            "max_height": null,
            "align_content": null,
            "visibility": null,
            "align_self": null,
            "height": null,
            "min_height": null,
            "padding": null,
            "grid_auto_rows": null,
            "grid_gap": null,
            "max_width": null,
            "order": null,
            "_view_module_version": "1.2.0",
            "grid_template_areas": null,
            "object_position": null,
            "object_fit": null,
            "grid_auto_columns": null,
            "margin": null,
            "display": null,
            "left": null
          }
        },
        "96d81b8df14f4c4980f801024ac17500": {
          "model_module": "@jupyter-widgets/controls",
          "model_name": "IntProgressModel",
          "state": {
            "_view_name": "ProgressView",
            "style": "IPY_MODEL_295bb34ac43643bbbdd5a3f01254b683",
            "_dom_classes": [],
            "description": "100%",
            "_model_name": "IntProgressModel",
            "bar_style": "success",
            "max": 5287,
            "_view_module": "@jupyter-widgets/controls",
            "_model_module_version": "1.5.0",
            "value": 5287,
            "_view_count": null,
            "_view_module_version": "1.5.0",
            "orientation": "horizontal",
            "min": 0,
            "description_tooltip": null,
            "_model_module": "@jupyter-widgets/controls",
            "layout": "IPY_MODEL_e594098e5ad540f2b04bdabbec6d931e"
          }
        },
        "4bccaed42164475fad91a776e2fa82d9": {
          "model_module": "@jupyter-widgets/controls",
          "model_name": "HTMLModel",
          "state": {
            "_view_name": "HTMLView",
            "style": "IPY_MODEL_1e692e7816f7428591c55c5051cc16a9",
            "_dom_classes": [],
            "description": "",
            "_model_name": "HTMLModel",
            "placeholder": "​",
            "_view_module": "@jupyter-widgets/controls",
            "_model_module_version": "1.5.0",
            "value": " 5287/5287 [07:21&lt;00:00, 11.99it/s]",
            "_view_count": null,
            "_view_module_version": "1.5.0",
            "description_tooltip": null,
            "_model_module": "@jupyter-widgets/controls",
            "layout": "IPY_MODEL_d92ad12411a641a6b855a1f3270c534b"
          }
        },
        "295bb34ac43643bbbdd5a3f01254b683": {
          "model_module": "@jupyter-widgets/controls",
          "model_name": "ProgressStyleModel",
          "state": {
            "_view_name": "StyleView",
            "_model_name": "ProgressStyleModel",
            "description_width": "initial",
            "_view_module": "@jupyter-widgets/base",
            "_model_module_version": "1.5.0",
            "_view_count": null,
            "_view_module_version": "1.2.0",
            "bar_color": null,
            "_model_module": "@jupyter-widgets/controls"
          }
        },
        "e594098e5ad540f2b04bdabbec6d931e": {
          "model_module": "@jupyter-widgets/base",
          "model_name": "LayoutModel",
          "state": {
            "_view_name": "LayoutView",
            "grid_template_rows": null,
            "right": null,
            "justify_content": null,
            "_view_module": "@jupyter-widgets/base",
            "overflow": null,
            "_model_module_version": "1.2.0",
            "_view_count": null,
            "flex_flow": null,
            "width": null,
            "min_width": null,
            "border": null,
            "align_items": null,
            "bottom": null,
            "_model_module": "@jupyter-widgets/base",
            "top": null,
            "grid_column": null,
            "overflow_y": null,
            "overflow_x": null,
            "grid_auto_flow": null,
            "grid_area": null,
            "grid_template_columns": null,
            "flex": null,
            "_model_name": "LayoutModel",
            "justify_items": null,
            "grid_row": null,
            "max_height": null,
            "align_content": null,
            "visibility": null,
            "align_self": null,
            "height": null,
            "min_height": null,
            "padding": null,
            "grid_auto_rows": null,
            "grid_gap": null,
            "max_width": null,
            "order": null,
            "_view_module_version": "1.2.0",
            "grid_template_areas": null,
            "object_position": null,
            "object_fit": null,
            "grid_auto_columns": null,
            "margin": null,
            "display": null,
            "left": null
          }
        },
        "1e692e7816f7428591c55c5051cc16a9": {
          "model_module": "@jupyter-widgets/controls",
          "model_name": "DescriptionStyleModel",
          "state": {
            "_view_name": "StyleView",
            "_model_name": "DescriptionStyleModel",
            "description_width": "",
            "_view_module": "@jupyter-widgets/base",
            "_model_module_version": "1.5.0",
            "_view_count": null,
            "_view_module_version": "1.2.0",
            "_model_module": "@jupyter-widgets/controls"
          }
        },
        "d92ad12411a641a6b855a1f3270c534b": {
          "model_module": "@jupyter-widgets/base",
          "model_name": "LayoutModel",
          "state": {
            "_view_name": "LayoutView",
            "grid_template_rows": null,
            "right": null,
            "justify_content": null,
            "_view_module": "@jupyter-widgets/base",
            "overflow": null,
            "_model_module_version": "1.2.0",
            "_view_count": null,
            "flex_flow": null,
            "width": null,
            "min_width": null,
            "border": null,
            "align_items": null,
            "bottom": null,
            "_model_module": "@jupyter-widgets/base",
            "top": null,
            "grid_column": null,
            "overflow_y": null,
            "overflow_x": null,
            "grid_auto_flow": null,
            "grid_area": null,
            "grid_template_columns": null,
            "flex": null,
            "_model_name": "LayoutModel",
            "justify_items": null,
            "grid_row": null,
            "max_height": null,
            "align_content": null,
            "visibility": null,
            "align_self": null,
            "height": null,
            "min_height": null,
            "padding": null,
            "grid_auto_rows": null,
            "grid_gap": null,
            "max_width": null,
            "order": null,
            "_view_module_version": "1.2.0",
            "grid_template_areas": null,
            "object_position": null,
            "object_fit": null,
            "grid_auto_columns": null,
            "margin": null,
            "display": null,
            "left": null
          }
        },
        "8641e8fc8c724f7eabcec1c78716e74c": {
          "model_module": "@jupyter-widgets/controls",
          "model_name": "HBoxModel",
          "state": {
            "_view_name": "HBoxView",
            "_dom_classes": [],
            "_model_name": "HBoxModel",
            "_view_module": "@jupyter-widgets/controls",
            "_model_module_version": "1.5.0",
            "_view_count": null,
            "_view_module_version": "1.5.0",
            "box_style": "",
            "layout": "IPY_MODEL_5040c835515940f8892e0b80628598a4",
            "_model_module": "@jupyter-widgets/controls",
            "children": [
              "IPY_MODEL_77f916e24f84472295fa2cb51912918b",
              "IPY_MODEL_59298cf24a28433f8727a883c7e89897"
            ]
          }
        },
        "5040c835515940f8892e0b80628598a4": {
          "model_module": "@jupyter-widgets/base",
          "model_name": "LayoutModel",
          "state": {
            "_view_name": "LayoutView",
            "grid_template_rows": null,
            "right": null,
            "justify_content": null,
            "_view_module": "@jupyter-widgets/base",
            "overflow": null,
            "_model_module_version": "1.2.0",
            "_view_count": null,
            "flex_flow": null,
            "width": null,
            "min_width": null,
            "border": null,
            "align_items": null,
            "bottom": null,
            "_model_module": "@jupyter-widgets/base",
            "top": null,
            "grid_column": null,
            "overflow_y": null,
            "overflow_x": null,
            "grid_auto_flow": null,
            "grid_area": null,
            "grid_template_columns": null,
            "flex": null,
            "_model_name": "LayoutModel",
            "justify_items": null,
            "grid_row": null,
            "max_height": null,
            "align_content": null,
            "visibility": null,
            "align_self": null,
            "height": null,
            "min_height": null,
            "padding": null,
            "grid_auto_rows": null,
            "grid_gap": null,
            "max_width": null,
            "order": null,
            "_view_module_version": "1.2.0",
            "grid_template_areas": null,
            "object_position": null,
            "object_fit": null,
            "grid_auto_columns": null,
            "margin": null,
            "display": null,
            "left": null
          }
        },
        "77f916e24f84472295fa2cb51912918b": {
          "model_module": "@jupyter-widgets/controls",
          "model_name": "IntProgressModel",
          "state": {
            "_view_name": "ProgressView",
            "style": "IPY_MODEL_cc5879f3f6814f58a7ebc4a0d45df837",
            "_dom_classes": [],
            "description": "100%",
            "_model_name": "IntProgressModel",
            "bar_style": "success",
            "max": 33,
            "_view_module": "@jupyter-widgets/controls",
            "_model_module_version": "1.5.0",
            "value": 33,
            "_view_count": null,
            "_view_module_version": "1.5.0",
            "orientation": "horizontal",
            "min": 0,
            "description_tooltip": null,
            "_model_module": "@jupyter-widgets/controls",
            "layout": "IPY_MODEL_26662148f9fb4aac9bcd553a9ddbe7eb"
          }
        },
        "59298cf24a28433f8727a883c7e89897": {
          "model_module": "@jupyter-widgets/controls",
          "model_name": "HTMLModel",
          "state": {
            "_view_name": "HTMLView",
            "style": "IPY_MODEL_775d3a6c9d8345739b8c43b274ec20ef",
            "_dom_classes": [],
            "description": "",
            "_model_name": "HTMLModel",
            "placeholder": "​",
            "_view_module": "@jupyter-widgets/controls",
            "_model_module_version": "1.5.0",
            "value": " 33/33 [02:43&lt;00:00,  4.97s/it]",
            "_view_count": null,
            "_view_module_version": "1.5.0",
            "description_tooltip": null,
            "_model_module": "@jupyter-widgets/controls",
            "layout": "IPY_MODEL_752d36d07ca5497db6901dbfc1bc25d8"
          }
        },
        "cc5879f3f6814f58a7ebc4a0d45df837": {
          "model_module": "@jupyter-widgets/controls",
          "model_name": "ProgressStyleModel",
          "state": {
            "_view_name": "StyleView",
            "_model_name": "ProgressStyleModel",
            "description_width": "initial",
            "_view_module": "@jupyter-widgets/base",
            "_model_module_version": "1.5.0",
            "_view_count": null,
            "_view_module_version": "1.2.0",
            "bar_color": null,
            "_model_module": "@jupyter-widgets/controls"
          }
        },
        "26662148f9fb4aac9bcd553a9ddbe7eb": {
          "model_module": "@jupyter-widgets/base",
          "model_name": "LayoutModel",
          "state": {
            "_view_name": "LayoutView",
            "grid_template_rows": null,
            "right": null,
            "justify_content": null,
            "_view_module": "@jupyter-widgets/base",
            "overflow": null,
            "_model_module_version": "1.2.0",
            "_view_count": null,
            "flex_flow": null,
            "width": null,
            "min_width": null,
            "border": null,
            "align_items": null,
            "bottom": null,
            "_model_module": "@jupyter-widgets/base",
            "top": null,
            "grid_column": null,
            "overflow_y": null,
            "overflow_x": null,
            "grid_auto_flow": null,
            "grid_area": null,
            "grid_template_columns": null,
            "flex": null,
            "_model_name": "LayoutModel",
            "justify_items": null,
            "grid_row": null,
            "max_height": null,
            "align_content": null,
            "visibility": null,
            "align_self": null,
            "height": null,
            "min_height": null,
            "padding": null,
            "grid_auto_rows": null,
            "grid_gap": null,
            "max_width": null,
            "order": null,
            "_view_module_version": "1.2.0",
            "grid_template_areas": null,
            "object_position": null,
            "object_fit": null,
            "grid_auto_columns": null,
            "margin": null,
            "display": null,
            "left": null
          }
        },
        "775d3a6c9d8345739b8c43b274ec20ef": {
          "model_module": "@jupyter-widgets/controls",
          "model_name": "DescriptionStyleModel",
          "state": {
            "_view_name": "StyleView",
            "_model_name": "DescriptionStyleModel",
            "description_width": "",
            "_view_module": "@jupyter-widgets/base",
            "_model_module_version": "1.5.0",
            "_view_count": null,
            "_view_module_version": "1.2.0",
            "_model_module": "@jupyter-widgets/controls"
          }
        },
        "752d36d07ca5497db6901dbfc1bc25d8": {
          "model_module": "@jupyter-widgets/base",
          "model_name": "LayoutModel",
          "state": {
            "_view_name": "LayoutView",
            "grid_template_rows": null,
            "right": null,
            "justify_content": null,
            "_view_module": "@jupyter-widgets/base",
            "overflow": null,
            "_model_module_version": "1.2.0",
            "_view_count": null,
            "flex_flow": null,
            "width": null,
            "min_width": null,
            "border": null,
            "align_items": null,
            "bottom": null,
            "_model_module": "@jupyter-widgets/base",
            "top": null,
            "grid_column": null,
            "overflow_y": null,
            "overflow_x": null,
            "grid_auto_flow": null,
            "grid_area": null,
            "grid_template_columns": null,
            "flex": null,
            "_model_name": "LayoutModel",
            "justify_items": null,
            "grid_row": null,
            "max_height": null,
            "align_content": null,
            "visibility": null,
            "align_self": null,
            "height": null,
            "min_height": null,
            "padding": null,
            "grid_auto_rows": null,
            "grid_gap": null,
            "max_width": null,
            "order": null,
            "_view_module_version": "1.2.0",
            "grid_template_areas": null,
            "object_position": null,
            "object_fit": null,
            "grid_auto_columns": null,
            "margin": null,
            "display": null,
            "left": null
          }
        }
      }
    }
  },
  "cells": [
    {
      "cell_type": "code",
      "metadata": {
        "id": "4yglRX9tjimG",
        "colab_type": "code",
        "colab": {}
      },
      "source": [
        "'''\n",
        "Code based upon https://github.com/mfaruqui/retrofitting \n",
        "Reference paper: https://arxiv.org/abs/1411.4166 by Faruqui et al\n",
        "\n",
        "'''"
      ],
      "execution_count": null,
      "outputs": []
    },
    {
      "cell_type": "code",
      "metadata": {
        "id": "y4bA6Z3ttB58",
        "colab_type": "code",
        "colab": {
          "base_uri": "https://localhost:8080/",
          "height": 139
        },
        "outputId": "2850dbf7-9845-405b-9fbe-a20bc4fb9ad0"
      },
      "source": [
        "from google.colab import drive\n",
        "drive.mount('/gdrive')\n",
        "%cd /gdrive"
      ],
      "execution_count": null,
      "outputs": [
        {
          "output_type": "stream",
          "text": [
            "Go to this URL in a browser: https://accounts.google.com/o/oauth2/auth?client_id=947318989803-6bn6qk8qdgf4n4g3pfee6491hc0brc4i.apps.googleusercontent.com&redirect_uri=urn%3aietf%3awg%3aoauth%3a2.0%3aoob&response_type=code&scope=email%20https%3a%2f%2fwww.googleapis.com%2fauth%2fdocs.test%20https%3a%2f%2fwww.googleapis.com%2fauth%2fdrive%20https%3a%2f%2fwww.googleapis.com%2fauth%2fdrive.photos.readonly%20https%3a%2f%2fwww.googleapis.com%2fauth%2fpeopleapi.readonly\n",
            "\n",
            "Enter your authorization code:\n",
            "··········\n",
            "Mounted at /gdrive\n",
            "/gdrive\n"
          ],
          "name": "stdout"
        }
      ]
    },
    {
      "cell_type": "code",
      "metadata": {
        "id": "kigNezCCtEYP",
        "colab_type": "code",
        "colab": {
          "base_uri": "https://localhost:8080/",
          "height": 306
        },
        "outputId": "16a84b07-cdeb-43d9-db17-c8f16201278a"
      },
      "source": [
        "import os\n",
        "os.chdir('./My Drive/NLP_Project_Programs/Retrofitting_ESA')\n",
        "os.listdir()"
      ],
      "execution_count": null,
      "outputs": [
        {
          "output_type": "execute_result",
          "data": {
            "text/plain": [
              "['Graphs',\n",
              " 'Datasets',\n",
              " 'OtherFiles',\n",
              " 'Evaluation_Benchmarks',\n",
              " 'TOEFL Task.ipynb',\n",
              " 'Wikipedia-RG65_10titles.xml',\n",
              " 'Wikipedia-RG65_20titles.xml',\n",
              " 'Wikipedia-MEN_5titles.xml',\n",
              " 'Wikipedia-MEN_3titles.xml',\n",
              " 'Eval_Dataset_String.ipynb',\n",
              " 'Graph_Processing.ipynb',\n",
              " 'Sentiment_Analysis.ipynb',\n",
              " 'Word Similarity Tasks.ipynb',\n",
              " 'WS_6titles.txt',\n",
              " 'ws353_6titles_1perline.txt',\n",
              " 'titles_extract.ipynb',\n",
              " 'explicit_semantic_anlaysis+retrofitting.ipynb']"
            ]
          },
          "metadata": {
            "tags": []
          },
          "execution_count": 2
        }
      ]
    },
    {
      "cell_type": "code",
      "metadata": {
        "id": "PFXS0shIoftH",
        "colab_type": "code",
        "colab": {
          "base_uri": "https://localhost:8080/",
          "height": 156
        },
        "outputId": "e470b706-44ad-48c9-9867-0edad474ec09"
      },
      "source": [
        "import numpy as np\n",
        "import pandas as pd\n",
        "from copy import deepcopy\n",
        "\n",
        "from gensim.models import KeyedVectors\n",
        "from nltk.tokenize import word_tokenize\n",
        "from gensim.models import TfidfModel\n",
        "from itertools import combinations\n",
        "from collections import Counter\n",
        "from nltk.corpus import stopwords\n",
        "from nltk.stem import PorterStemmer\n",
        "from tqdm.notebook import tqdm\n",
        "from gensim.corpora import Dictionary\n",
        "import matplotlib.pyplot as plt\n",
        "import seaborn as sns\n",
        "from gensim.models.phrases import Phrases, Phraser\n",
        "from sklearn.preprocessing import normalize\n",
        "\n",
        "import json\n",
        "import os\n",
        "# %matplotlib qt\n",
        "import nltk\n",
        "nltk.download('stopwords')\n",
        "nltk.download('punkt')"
      ],
      "execution_count": null,
      "outputs": [
        {
          "output_type": "stream",
          "text": [
            "/usr/local/lib/python3.6/dist-packages/statsmodels/tools/_testing.py:19: FutureWarning: pandas.util.testing is deprecated. Use the functions in the public API at pandas.testing instead.\n",
            "  import pandas.util.testing as tm\n"
          ],
          "name": "stderr"
        },
        {
          "output_type": "stream",
          "text": [
            "[nltk_data] Downloading package stopwords to /root/nltk_data...\n",
            "[nltk_data]   Unzipping corpora/stopwords.zip.\n",
            "[nltk_data] Downloading package punkt to /root/nltk_data...\n",
            "[nltk_data]   Unzipping tokenizers/punkt.zip.\n"
          ],
          "name": "stdout"
        },
        {
          "output_type": "execute_result",
          "data": {
            "text/plain": [
              "True"
            ]
          },
          "metadata": {
            "tags": []
          },
          "execution_count": 3
        }
      ]
    },
    {
      "cell_type": "code",
      "metadata": {
        "id": "KTDASS9uoftb",
        "colab_type": "code",
        "colab": {}
      },
      "source": [
        "# Set of all stopwords.\n",
        "stop_words = set(stopwords.words('english'))\n",
        "\n",
        "# Finds if in a given list of words there is a Bi-gram. Returns word1_word2 is Bi-gram else returns the word itself.\n",
        "# bigram_edu = Phraser.load(\"./Datasets/bigram_data_wiki15.pkl\")\n",
        "# Returns the word after stemming.\n",
        "ps = PorterStemmer()\n",
        "\n",
        "def clean_data(d):\n",
        "    ''' \n",
        "    Function to clean sentences and return list of tokens (words).\n",
        "    '''\n",
        "    # Split sentence into word tokens.\n",
        "    res = word_tokenize(d)\n",
        "    # Convert all word tokens to lower case.\n",
        "    res = [token.lower() for token in res]\n",
        "    # Keep only those words that are alphanumeric.\n",
        "    res = [token for token in res if (token.isalnum())]\n",
        "\n",
        "    # Stemming and removing stop words.\n",
        "    tokens = []\n",
        "    for token in res:\n",
        "        tmp = ps.stem(token)\n",
        "        # print(tmp)\n",
        "        if tmp not in stop_words:\n",
        "            tokens.append(tmp)\n",
        "    other = []\n",
        "    # Add Bi-Grams also as tokens.\n",
        "    # print('DEBUG',tokens)\n",
        "    # for k in bigram_edu[tokens]:\n",
        "    #     # If k is Bi-Gram:\n",
        "    #     if k not in tokens:\n",
        "    #         other.append(k)\n",
        "    # # Attach all Bi-grams to Word Tokens.\n",
        "    # tokens.extend(other)\n",
        "    return tokens"
      ],
      "execution_count": null,
      "outputs": []
    },
    {
      "cell_type": "code",
      "metadata": {
        "id": "n4utIJMYNeZH",
        "colab_type": "code",
        "colab": {
          "base_uri": "https://localhost:8080/",
          "height": 515,
          "referenced_widgets": [
            "14c4823e461f469d9ba9bf6a6f22f306",
            "76c52d53e0244764ac59fb3e52f38d12",
            "98b9439e3c544c74b991831a03a5966b",
            "e266ff1cc4b44576b6305be646348306",
            "55182e1dd013425b9ad98bfb00346ecc",
            "ae70ab2b6bcb40c6a2eb42c14bda7609",
            "4e592d21414445fbb51ab0af361c3b53",
            "eb85058f501d4be5a6bf1d9461b3f87e",
            "639333fbff884e2486337192b21bddd5",
            "ba0ec16f45804297a2847dfc5446f417",
            "d1ee1d15272a492e87fd95a8b3b703e6",
            "f5bff91728f44fcfa19f40a22dcf5ba4",
            "b644e255f4e5491aab94f19d3165cd51",
            "8d7605f056f742fb94df1b0ff44f1a7c",
            "4a4d881aa14f4afdaca2755c6b13fdc6",
            "9fb7cd97da6b46719c091aa61138ff1f",
            "264af9b04da847e9810f1e089853f3a9",
            "6168f77d12f941c7bfec49f67c6bd6f3",
            "b8546e6a84434592909404549e606c69",
            "3c0775e2e5b94c9bb5a5ebf710b4a93d",
            "0d1a9faa0e704e579a4221118a2329d2",
            "753aced2be8548258dab009f969ae26f",
            "74c850b61c214d65b4f66e01587d823b",
            "8f331b3ef8534f989675c668ccf690a6",
            "991737f6869f4f0d94ff224090f9e516",
            "98c25d21dc2840c791e5da90d7c4563c",
            "edf1a520710345af9352530b2254a7a5",
            "a7782e63bafe4f3eaf98059c63dfdd06",
            "3ef0c9c852f04cc7978891bf7ad9ae40",
            "f89db8ddecbd4027a75d1601c0ae4d66",
            "acbe2e43b39944ee8d96de483dcc0069",
            "7f3cf5ee562b4c1380e873a670dfc2f9",
            "82a5aad9b9b042a5a8e74263cfec396d",
            "9ce4a5655a9b4567bd7bfcd5e8787131",
            "0625ef89160044dfb6ea5ce379e8e95b",
            "ee8d76f4f9f4422db3e1c842965c24e5",
            "cc3f11dc1624474ca94973a9e13a0106",
            "6433f449067c453fb3d5bd2ec5f8715e",
            "dcd8197714c3447f948e67d3903c76bc",
            "97ce6bc0d6354feda38474ed48db0de9",
            "f52f4aba05214432b851a8eb6193ebb4",
            "d3c0c1545394442cbc116bfe3b5c725b",
            "84f615d94c4b48d09435ea3b43a87836",
            "c1a8feb621af4ab3a6411579d038ce84",
            "f2668b96fb794ce2b085e2157b12ae7c",
            "7c5bc095718c40c3b0e857938beb23cc",
            "637aa70c02a645848d7b2c09355ebc73",
            "fb581d33529b4d818df557bde49f43d7"
          ]
        },
        "outputId": "4771718b-5f6e-4fd3-ca73-59da51968dc2"
      },
      "source": [
        "'''\n",
        "pth = 'OtherFiles/word_strings/'\n",
        "p_ws353 = pth + 'ws353_word_string.txt'\n",
        "p_rg = pth + 'rg_word_string.txt'\n",
        "p_men = pth + 'men_word_string.txt'\n",
        "p_sa_tr = pth + 'SA-train_word_string.txt'\n",
        "p_sa_ts = pth +'SA-test_word_string.txt'\n",
        "p_sa_trts = pth + 'SA-traintest_word_string.txt'\n",
        "\n",
        "pth_list = [p_ws353,p_rg,p_men,p_sa_tr,p_sa_ts,p_sa_trts]\n",
        "word_eval_list = []\n",
        "count = 0\n",
        "for path in pth_list:\n",
        "  count+=1\n",
        "  #if count==2:break\n",
        "  file = open(path,'r')\n",
        "  for index,line in tqdm(enumerate(file)):\n",
        "    print(type(line))\n",
        "    word_data = clean_data(line)\n",
        "    print(type(word_data))\n",
        "    word_eval_list.append(word_data)\n",
        "  file.close()  \n",
        "'''"
      ],
      "execution_count": null,
      "outputs": [
        {
          "output_type": "display_data",
          "data": {
            "application/vnd.jupyter.widget-view+json": {
              "model_id": "14c4823e461f469d9ba9bf6a6f22f306",
              "version_minor": 0,
              "version_major": 2
            },
            "text/plain": [
              "HBox(children=(FloatProgress(value=1.0, bar_style='info', max=1.0), HTML(value='')))"
            ]
          },
          "metadata": {
            "tags": []
          }
        },
        {
          "output_type": "stream",
          "text": [
            "<class 'str'>\n",
            "<class 'list'>\n",
            "\n"
          ],
          "name": "stdout"
        },
        {
          "output_type": "display_data",
          "data": {
            "application/vnd.jupyter.widget-view+json": {
              "model_id": "639333fbff884e2486337192b21bddd5",
              "version_minor": 0,
              "version_major": 2
            },
            "text/plain": [
              "HBox(children=(FloatProgress(value=1.0, bar_style='info', max=1.0), HTML(value='')))"
            ]
          },
          "metadata": {
            "tags": []
          }
        },
        {
          "output_type": "stream",
          "text": [
            "<class 'str'>\n",
            "<class 'list'>\n",
            "\n"
          ],
          "name": "stdout"
        },
        {
          "output_type": "display_data",
          "data": {
            "application/vnd.jupyter.widget-view+json": {
              "model_id": "264af9b04da847e9810f1e089853f3a9",
              "version_minor": 0,
              "version_major": 2
            },
            "text/plain": [
              "HBox(children=(FloatProgress(value=1.0, bar_style='info', max=1.0), HTML(value='')))"
            ]
          },
          "metadata": {
            "tags": []
          }
        },
        {
          "output_type": "stream",
          "text": [
            "<class 'str'>\n",
            "<class 'list'>\n",
            "\n"
          ],
          "name": "stdout"
        },
        {
          "output_type": "display_data",
          "data": {
            "application/vnd.jupyter.widget-view+json": {
              "model_id": "991737f6869f4f0d94ff224090f9e516",
              "version_minor": 0,
              "version_major": 2
            },
            "text/plain": [
              "HBox(children=(FloatProgress(value=1.0, bar_style='info', max=1.0), HTML(value='')))"
            ]
          },
          "metadata": {
            "tags": []
          }
        },
        {
          "output_type": "stream",
          "text": [
            "<class 'str'>\n",
            "<class 'list'>\n",
            "\n"
          ],
          "name": "stdout"
        },
        {
          "output_type": "display_data",
          "data": {
            "application/vnd.jupyter.widget-view+json": {
              "model_id": "82a5aad9b9b042a5a8e74263cfec396d",
              "version_minor": 0,
              "version_major": 2
            },
            "text/plain": [
              "HBox(children=(FloatProgress(value=1.0, bar_style='info', max=1.0), HTML(value='')))"
            ]
          },
          "metadata": {
            "tags": []
          }
        },
        {
          "output_type": "stream",
          "text": [
            "<class 'str'>\n",
            "<class 'list'>\n",
            "\n"
          ],
          "name": "stdout"
        },
        {
          "output_type": "display_data",
          "data": {
            "application/vnd.jupyter.widget-view+json": {
              "model_id": "f52f4aba05214432b851a8eb6193ebb4",
              "version_minor": 0,
              "version_major": 2
            },
            "text/plain": [
              "HBox(children=(FloatProgress(value=1.0, bar_style='info', max=1.0), HTML(value='')))"
            ]
          },
          "metadata": {
            "tags": []
          }
        },
        {
          "output_type": "stream",
          "text": [
            "<class 'str'>\n",
            "<class 'list'>\n",
            "\n"
          ],
          "name": "stdout"
        }
      ]
    },
    {
      "cell_type": "code",
      "metadata": {
        "id": "asGoQW16RBg0",
        "colab_type": "code",
        "colab": {
          "base_uri": "https://localhost:8080/",
          "height": 304,
          "referenced_widgets": [
            "d71d65b011b04d798baaf40f0d061b3f",
            "5ee50942b72e4f899a2a47d0d3119f7c",
            "a56ef8debc2b4f53af700b86e2f7c954",
            "35bf55715fdf455f8bfd2063c40ea9ae",
            "ffdb42bf2e3c4c9686c02d4549f72736",
            "770efbb3f3b5488982e6bb933bd090b8",
            "63d0f475ccca4978bd3424fe26aff037",
            "f41e5cd8a6924d15a777e9cb55976396"
          ]
        },
        "outputId": "ce89b760-88f1-4977-8c62-440d7b3c75d8"
      },
      "source": [
        "'''\n",
        "set_word_eval_list = [0]*6\n",
        "\n",
        "print(\"length of clean-data lists\\n\")\n",
        "for i, token_list in tqdm(enumerate(word_eval_list)):\n",
        "  print(pth_list[i],\":length:\",len(token_list))\n",
        "  set_word_eval_list[i]=set(token_list)\n",
        "  print(\"unique list length:\",len(set(token_list)))\n",
        "\n",
        "ws353_word_set = set_word_eval_list[0]\n",
        "rg_word_set = set_word_eval_list[1]\n",
        "men_word_set = set_word_eval_list[2]\n",
        "satrain_word_set = set_word_eval_list[3]\n",
        "satest_word_set = set_word_eval_list[4] \n",
        "satraintest_word_set = set_word_eval_list[5]\n",
        "''' "
      ],
      "execution_count": null,
      "outputs": [
        {
          "output_type": "stream",
          "text": [
            "length of clean-data lists\n",
            "\n"
          ],
          "name": "stdout"
        },
        {
          "output_type": "display_data",
          "data": {
            "application/vnd.jupyter.widget-view+json": {
              "model_id": "d71d65b011b04d798baaf40f0d061b3f",
              "version_minor": 0,
              "version_major": 2
            },
            "text/plain": [
              "HBox(children=(FloatProgress(value=1.0, bar_style='info', max=1.0), HTML(value='')))"
            ]
          },
          "metadata": {
            "tags": []
          }
        },
        {
          "output_type": "stream",
          "text": [
            "OtherFiles/word_strings/ws353_word_string.txt :length: 706\n",
            "unique list length: 434\n",
            "OtherFiles/word_strings/rg_word_string.txt :length: 130\n",
            "unique list length: 48\n",
            "OtherFiles/word_strings/men_word_string.txt :length: 5998\n",
            "unique list length: 740\n",
            "OtherFiles/word_strings/SA-train_word_string.txt :length: 62828\n",
            "unique list length: 9347\n",
            "OtherFiles/word_strings/SA-test_word_string.txt :length: 16407\n",
            "unique list length: 4902\n",
            "OtherFiles/word_strings/SA-traintest_word_string.txt :length: 79235\n",
            "unique list length: 10305\n",
            "\n"
          ],
          "name": "stdout"
        }
      ]
    },
    {
      "cell_type": "code",
      "metadata": {
        "id": "E8HQ5X-scrNT",
        "colab_type": "code",
        "colab": {}
      },
      "source": [
        "'''\n",
        "#Read the wiki article relations as a dictionary \n",
        "def read_lexicon(filename):\n",
        "  lexicon = {}\n",
        "  for line in open(filename, 'r',encoding = \"utf8\"):\n",
        "    words = line.strip().split(\"--\")\n",
        "    lexicon[words[0]] = [word for word in words[1:]]\n",
        "  return lexicon\n",
        "\n",
        "lexicon = read_lexicon(filename = \"./Graphs/wiki_graph_2_men5.txt\")\n",
        "graph_articles_set = []\n",
        "for key, value in lexicon.items():\n",
        "  graph_articles_set.append(key)\n",
        "  for val in value:\n",
        "    graph_articles_set.append(val)\n",
        "graph_articles_set = set(graph_articles_set)\n",
        "'''"
      ],
      "execution_count": null,
      "outputs": []
    },
    {
      "cell_type": "code",
      "metadata": {
        "id": "-bm-qlGMoftr",
        "colab_type": "code",
        "colab": {
          "base_uri": "https://localhost:8080/",
          "height": 100,
          "referenced_widgets": [
            "d5e796518f7445c68aa7c4daed251f3e",
            "677a98548c4e42ab86d975f8cf46dda9",
            "0d3102b8c879493b833536c903ba13b6",
            "411fc29757794a9d9687863e36a1038e",
            "d09aa3a5fa864987a164e540d7287d49",
            "4ef1b9209cfd43fda876e4b817efb703",
            "54c33d2f681d4b40bc56eea52bd5514d",
            "acd55f654eec465cb806daa4ee851db0"
          ]
        },
        "outputId": "c38890b1-94c8-4adf-b3f0-24712bdb8c27"
      },
      "source": [
        "##For getting temp directory do the following:\n",
        "#1. The wikipedia downloaded is given as input to \"python xml_parse.py wikifile\" \n",
        "##from https://github.com/bjarkemoensted/Wiki-ESA. This cleans wikidata and outputs temp directory with cleaned text\n",
        "%%time\n",
        "import random\n",
        "random.seed(10)\n",
        "\n",
        "# Store list of concepts description as list of tokens.\n",
        "dataset = []\n",
        "dataset_orig = []\n",
        "# Store index-concept mapping as dictionary.\n",
        "id2concept = {}\n",
        "count = 0\n",
        "# Find all text files within temp folder.\n",
        "for filename in tqdm(os.listdir('./Datasets/ws6/temp/')):\n",
        "    if filename.endswith(\".raw\"):\n",
        "        # path to the file.\n",
        "        # print('-'*25, filename)\n",
        "        file = os.path.join('./Datasets/ws6/temp/', filename)\n",
        "        # Open the file.\n",
        "        with open(file) as json_file:\n",
        "            # Load json.\n",
        "            concepts = json.load(json_file)\n",
        "            # print(concepts['Mercury'])\n",
        "            # break\n",
        "            # For each concept.\n",
        "            for concept in concepts.keys():\n",
        "                if concepts[concept]['links_out']:\n",
        "                  orig_data = concepts[concept]['text']\n",
        "                  len_document = len(concepts[concept]['text'].split(\" \"))\n",
        "                  # if len_document>200 and len_document<250:\n",
        "                  if len_document > 0:\n",
        "                  # if concept in graph_articles_set:\n",
        "                  # if random.random()<0.2: # 10% of the docs\n",
        "                    # Update dictionary with key as count(index) and value as the name of concept.\n",
        "                    id2concept[count] = concept\n",
        "                    count+=1\n",
        "                    # Clean the data present in 'text' field for the concept in json.\n",
        "                    data = clean_data(orig_data)\n",
        "                    # Append the list of tokens(words).\n",
        "                    # dataset_orig.append(orig_data)\n",
        "                    \n",
        "                    '''\n",
        "                    #----------For using Term-doc matrix containing words from Evaln. task alone--------\n",
        "                    only_words = []\n",
        "                    # <dataset>_word_set is cleaned list of word-tokens from chosen evaluation benchmark dataset (RG,MEN, SA.....)\n",
        "                    for token in data:\n",
        "                      if token in satraintest_word_set: \n",
        "                        only_words.append(token)\n",
        "                    dataset.append(only_words)\n",
        "                    '''\n",
        "                    dataset.append(data)\n",
        "                    # print(concept, concepts[concept])\n",
        "                    # if count>50: break\n",
        "                    # break\n",
        "    else:\n",
        "        continue\n",
        "    # break"
      ],
      "execution_count": null,
      "outputs": [
        {
          "output_type": "display_data",
          "data": {
            "application/vnd.jupyter.widget-view+json": {
              "model_id": "d5e796518f7445c68aa7c4daed251f3e",
              "version_minor": 0,
              "version_major": 2
            },
            "text/plain": [
              "HBox(children=(FloatProgress(value=0.0, max=9.0), HTML(value='')))"
            ]
          },
          "metadata": {
            "tags": []
          }
        },
        {
          "output_type": "stream",
          "text": [
            "\n",
            "CPU times: user 2min 5s, sys: 68.2 ms, total: 2min 6s\n",
            "Wall time: 2min 9s\n"
          ],
          "name": "stdout"
        }
      ]
    },
    {
      "cell_type": "code",
      "metadata": {
        "id": "rKgi5mqCWdu_",
        "colab_type": "code",
        "colab": {
          "base_uri": "https://localhost:8080/",
          "height": 34
        },
        "outputId": "ec59d8d5-fa02-46a7-d239-bd911cacb374"
      },
      "source": [
        "id2word = Dictionary(dataset)\n",
        "sum([1 for _ in id2word.iterkeys()]), len(dataset)"
      ],
      "execution_count": null,
      "outputs": [
        {
          "output_type": "execute_result",
          "data": {
            "text/plain": [
              "(183592, 2555)"
            ]
          },
          "metadata": {
            "tags": []
          },
          "execution_count": 15
        }
      ]
    },
    {
      "cell_type": "code",
      "metadata": {
        "id": "icJ7BoE95UvY",
        "colab_type": "code",
        "colab": {
          "base_uri": "https://localhost:8080/",
          "height": 51
        },
        "outputId": "543c7882-32ff-4932-999b-f45b7f55439d"
      },
      "source": [
        "import pickle\n",
        "\n",
        "with open('Datasets/id2concept_smaller_ws6.pickle', 'wb') as handle:\n",
        "    pickle.dump(id2concept, handle, protocol=pickle.HIGHEST_PROTOCOL)\n",
        "\n",
        "with open('Datasets/id2concept_smaller_ws6.pickle', 'rb') as handle:\n",
        "    b = pickle.load(handle)\n",
        "\n",
        "print(id2concept == b)\n",
        "\n",
        "with open('Datasets/dataset_smaller_ws6.pickle', 'wb') as handle:\n",
        "    pickle.dump(dataset, handle, protocol=pickle.HIGHEST_PROTOCOL)\n",
        "\n",
        "with open('Datasets/dataset_smaller_ws6.pickle', 'rb') as handle:\n",
        "    b = pickle.load(handle)\n",
        "\n",
        "print(dataset == b)"
      ],
      "execution_count": null,
      "outputs": [
        {
          "output_type": "stream",
          "text": [
            "True\n",
            "True\n"
          ],
          "name": "stdout"
        }
      ]
    },
    {
      "cell_type": "code",
      "metadata": {
        "id": "JGcQm4vlvizb",
        "colab_type": "code",
        "colab": {}
      },
      "source": [
        ""
      ],
      "execution_count": null,
      "outputs": []
    },
    {
      "cell_type": "code",
      "metadata": {
        "id": "j-6tP7mW6lsf",
        "colab_type": "code",
        "colab": {}
      },
      "source": [
        "# LOAD AND START FROM HERE. (There are ~230 files to read and it takes ~15 minutes. So just load from here) \n",
        "import pickle\n",
        "\n",
        "with open('Datasets/id2concept_smaller_ws6.pickle', 'rb') as handle:\n",
        "    id2concept = pickle.load(handle)\n",
        "\n",
        "with open('Datasets/dataset_smaller_ws6.pickle', 'rb') as handle:\n",
        "    dataset = pickle.load(handle)"
      ],
      "execution_count": null,
      "outputs": []
    },
    {
      "cell_type": "code",
      "metadata": {
        "id": "Ev9mYvb0Je4O",
        "colab_type": "code",
        "colab": {}
      },
      "source": [
        "'''temp_dataset = [['bus','car','speed','mapple','ball','bus'],['when','wheress','mapple','whyss','whose','whom0'],['ball','fall','wheress','whom',]]\n",
        "id2word = Dictionary(temp_dataset)\n",
        "print(\"-\"*20,id2word)\n",
        "corpus = [id2word.doc2bow(line) for line in temp_dataset]\n",
        "model = TfidfModel(corpus)\n",
        "\n",
        "print(\"->\"*3,corpus[0])\n",
        "\n",
        "print(dict(model[corpus[0]])) \n",
        "print(model[corpus[0]])\n",
        "\n",
        "print(\"..\"*10,id2word.doc2bow(['what','why','where','mapple','ball']))\n",
        "for x in id2word.itervalues():\n",
        "  print(x)\n",
        "'''"
      ],
      "execution_count": null,
      "outputs": []
    },
    {
      "cell_type": "code",
      "metadata": {
        "id": "c7qV4sv6oft8",
        "colab_type": "code",
        "colab": {
          "base_uri": "https://localhost:8080/",
          "height": 51
        },
        "outputId": "06b78c27-4d6c-45ab-862d-355d1db24518"
      },
      "source": [
        "%%time\n",
        "# maps each unique word to an id.\n",
        "id2word = Dictionary(dataset)\n",
        "# corpus is list of documents. For each document in dataset create a bag-of-words list with each element of form (word_id,count).\n",
        "corpus = [id2word.doc2bow(line) for line in dataset]\n",
        "# Create the Tf-Idf model.\n",
        "model = TfidfModel(corpus)"
      ],
      "execution_count": null,
      "outputs": [
        {
          "output_type": "stream",
          "text": [
            "CPU times: user 6.88 s, sys: 49.8 ms, total: 6.93 s\n",
            "Wall time: 6.93 s\n"
          ],
          "name": "stdout"
        }
      ]
    },
    {
      "cell_type": "code",
      "metadata": {
        "id": "WtbtPo0c4Kz1",
        "colab_type": "code",
        "colab": {
          "base_uri": "https://localhost:8080/",
          "height": 51
        },
        "outputId": "063bb0df-5518-4f5b-ceb6-301518c9b2d8"
      },
      "source": [
        "from scipy.sparse import csc_matrix, lil_matrix, dok_matrix\n",
        "import time\n",
        "\n",
        "def pre_process_tfidf(model, corpus, id2word):\n",
        "  n_words = sum([1 for _ in id2word.iterkeys()])\n",
        "  n_concepts = len(id2concept)\n",
        "  print(n_words, n_concepts)\n",
        "  tfidf_matrix = np.zeros((n_words, n_concepts))\n",
        "  # tfidf_matrix = dok_matrix((n_words, n_concepts), dtype=np.float32)\n",
        "  start = time.time()\n",
        "  for concept_id in range(n_concepts):\n",
        "    tfidf_concept = model[corpus[concept_id]]\n",
        "    \n",
        "    for word_id, score in tfidf_concept:\n",
        "      tfidf_matrix[word_id, concept_id] = score\n",
        "  print('Took =>', time.time()-start,'s(seconds)')\n",
        "  return tfidf_matrix\n",
        "  \n",
        "tfidf_matrix = pre_process_tfidf(model, corpus, id2word)\n",
        "# tfidf_matrix_orig = deepcopy(tfidf_matrix)"
      ],
      "execution_count": null,
      "outputs": [
        {
          "output_type": "stream",
          "text": [
            "183592 2555\n",
            "Took => 7.354796886444092 s(seconds)\n"
          ],
          "name": "stdout"
        }
      ]
    },
    {
      "cell_type": "code",
      "metadata": {
        "id": "QOKDo-awwZqy",
        "colab_type": "code",
        "colab": {
          "base_uri": "https://localhost:8080/",
          "height": 51
        },
        "outputId": "08331185-7126-4267-f713-2b0e8998e9eb"
      },
      "source": [
        "n_words_per_doc = []\n",
        "for col_index in range(tfidf_matrix.shape[1]):\n",
        "  n_words_per_doc.append(np.sum(tfidf_matrix[:,col_index]>0))\n",
        "\n",
        "print(\"words/doc:\",np.mean(n_words_per_doc))\n",
        "\n",
        "n_docs_per_word = []\n",
        "for row_index in range(tfidf_matrix.shape[0]):\n",
        "  n_docs_per_word.append(np.sum(tfidf_matrix[row_index,:]>0))\n",
        "\n",
        "print(\"docs/word:\",np.mean(n_docs_per_word))"
      ],
      "execution_count": null,
      "outputs": [
        {
          "output_type": "stream",
          "text": [
            "words/doc: 596.6262230919765\n",
            "docs/word: 8.303085101747353\n"
          ],
          "name": "stdout"
        }
      ]
    },
    {
      "cell_type": "code",
      "metadata": {
        "id": "inKRko2EZzB9",
        "colab_type": "code",
        "colab": {
          "base_uri": "https://localhost:8080/",
          "height": 83,
          "referenced_widgets": [
            "75573830777a41fc875cbcde807489f1",
            "4d8bc688c04b40ec8035534078ab7a53",
            "7ccbcc7f847843a6bcaa7ee034777ef3",
            "d2175e20db364fae8845727c1f570c15",
            "691b767cf1934db2a0d13ff64bcb4b1a",
            "5c489b63a694474ab827e9cc28357896",
            "c74d34623343449f958897fc651133d6",
            "5173cbcc61af48fb95f6c4b23a814df1"
          ]
        },
        "outputId": "eb931ba6-ef9e-4967-8c65-7e72fdec6be4"
      },
      "source": [
        "def generate_baseline_wordvec(tfidf_matrix, model, id2word):\n",
        "  print(tfidf_matrix.shape)\n",
        "  tfidf_matrix_normalize = normalize(tfidf_matrix, axis=0)\n",
        "  word_vec = {}\n",
        "  for word_id in tqdm(range(tfidf_matrix_normalize.shape[0])):\n",
        "    word_vec[id2word[word_id]] = tfidf_matrix_normalize[word_id,:]\n",
        "  with open('Datasets/ws6/word_vec_baseline.pickle', 'wb') as handle:\n",
        "    pickle.dump(word_vec, handle, protocol=pickle.HIGHEST_PROTOCOL)\n",
        "  return word_vec\n",
        "  \n",
        "_ = generate_baseline_wordvec(tfidf_matrix, model, id2word)"
      ],
      "execution_count": null,
      "outputs": [
        {
          "output_type": "stream",
          "text": [
            "(183592, 2555)\n"
          ],
          "name": "stdout"
        },
        {
          "output_type": "display_data",
          "data": {
            "application/vnd.jupyter.widget-view+json": {
              "model_id": "75573830777a41fc875cbcde807489f1",
              "version_minor": 0,
              "version_major": 2
            },
            "text/plain": [
              "HBox(children=(FloatProgress(value=0.0, max=183592.0), HTML(value='')))"
            ]
          },
          "metadata": {
            "tags": []
          }
        },
        {
          "output_type": "stream",
          "text": [
            "\n"
          ],
          "name": "stdout"
        }
      ]
    },
    {
      "cell_type": "code",
      "metadata": {
        "id": "fWLZMnhHQNLi",
        "colab_type": "code",
        "colab": {}
      },
      "source": [
        "''' Read the PPDB word relations as a dictionary '''\n",
        "def read_lexicon(filename):\n",
        "  lexicon = {}\n",
        "  for line in open(filename, 'r',encoding = \"utf8\"):\n",
        "    words = line.strip().split(\"--\")\n",
        "    lexicon[words[0]] = [word for word in words[1:]]\n",
        "  return lexicon\n",
        "\n",
        "lexicon = read_lexicon(filename = \"Graphs/wiki_graph_3_ws6.txt\")"
      ],
      "execution_count": null,
      "outputs": []
    },
    {
      "cell_type": "code",
      "metadata": {
        "id": "ZyMEpTzVzXFh",
        "colab_type": "code",
        "colab": {
          "base_uri": "https://localhost:8080/",
          "height": 134,
          "referenced_widgets": [
            "eba02de4908b46bc808df10af553d650",
            "e30d6882a6fa4bb0b08104b3c280e746",
            "196310375ccd4819909d42269e3a2630",
            "ff4d95f13b554d2481850ed388ba0e22",
            "ecca1b70ebdb4270927c639a9e03d566",
            "15afd87ede5a4cb98bf88766e7b4e0fb",
            "41afa50fab1e4e03b9c4711e6eac5c21",
            "5d3a4b8a5c684d62854bc483b058f93b"
          ]
        },
        "outputId": "926f162c-5811-4285-f1a1-e4f935fb45c4"
      },
      "source": [
        "%%time\n",
        "def retrofit(tfidf_matrix, lexicon, concept2id):\n",
        "  '''newWordVecs = deepcopy(wordVecs)\n",
        "  wvVocab = set(newWordVecs.keys())\n",
        "  loopVocab = wvVocab.intersection(set(lexicon.keys()))\n",
        "  for it in range(numIters):\n",
        "    # loop through every node also in ontology (else just use data estimate)\n",
        "    for word in loopVocab:\n",
        "      wordNeighbours = set(lexicon[word]).intersection(wvVocab)\n",
        "      numNeighbours = len(wordNeighbours)\n",
        "      #no neighbours, pass - use data estimate\n",
        "      if numNeighbours == 0:\n",
        "        continue'''\n",
        "\n",
        "  cvVocab = set([concept for _, concept in id2concept.items()])\n",
        "  loopVocab = cvVocab.intersection(set(lexicon.keys()))\n",
        "  print(len(loopVocab), len(cvVocab), len(set(lexicon.keys())))\n",
        "  print(tfidf_matrix.shape, len(lexicon), len(concept2id))\n",
        "  alpha = 1.0\n",
        "  # tfidf_matrix_orig_bool = tfidf_matrix_orig>0\n",
        "  # loop through every node also in ontology (else just use data estimate)\n",
        "  tfidf_matrix = normalize(tfidf_matrix, axis=0)\n",
        "  for concept in tqdm(loopVocab):\n",
        "    conceptNeighbours = set(lexicon[concept]).intersection(cvVocab)\n",
        "    numNeighbours = len(conceptNeighbours)\n",
        "    # alpha = 1.0/numNeighbours\n",
        "    #no neighbours, pass - use data estimate\n",
        "    if numNeighbours == 0:\n",
        "      continue\n",
        "    '''# the weight of the data estimate if the number of neighbours\n",
        "    newVec = numNeighbours * wordVecs[word]\n",
        "    # loop over neighbours and add to new vector (currently with weight 1)\n",
        "    for ppWord in wordNeighbours:\n",
        "      newVec += newWordVecs[ppWord]\n",
        "    newWordVecs[word] = newVec/(2*numNeighbours)'''\n",
        "    # start = time.time()\n",
        "    concept_id = concept2id[concept]\n",
        "    # newVec = tfidf_matrix[:, concept_id].toarray()\n",
        "    newVec = tfidf_matrix[:, concept_id]\n",
        "    # boolVec = newVec>0\n",
        "    # print(np.sum(boolVec), boolVec)\n",
        "    # break\n",
        "    # print(sum(boolVec), np.where(newVec>0)[0].shape)\n",
        "    newVec = alpha * numNeighbours * newVec\n",
        "    for ppConcept in conceptNeighbours:\n",
        "      ppConcept_id = concept2id[ppConcept]\n",
        "      # newVec += tfidf_matrix[:, ppConcept_id].toarray()\n",
        "      newVec += tfidf_matrix[:, ppConcept_id]\n",
        "    newVec = newVec/((alpha+1)*numNeighbours)\n",
        "    # print(boolVec, newVec)\n",
        "    # for row_index, value in enumerate(newVec):\n",
        "    #   # if boolVec[row_index][0]:\n",
        "    #   if boolVec[row_index]:\n",
        "    #     # tfidf_matrix[row_index, concept_id] = value[0]\n",
        "    #     tfidf_matrix[row_index, concept_id] = value\n",
        "    tfidf_matrix[:, concept_id] = newVec\n",
        "    # print('Took =>', time.time()-start,'s(seconds)')\n",
        "    # break\n",
        "\n",
        "  return tfidf_matrix\n",
        "\n",
        "concept2id = {value:key for key, value in id2concept.items()}\n",
        "# tfidf_matrix = tfidf_matrix.todok()\n",
        "tfidf_matrix = retrofit(tfidf_matrix, lexicon, concept2id)"
      ],
      "execution_count": null,
      "outputs": [
        {
          "output_type": "stream",
          "text": [
            "1767 2555 1768\n",
            "(183592, 2555) 1768 2555\n"
          ],
          "name": "stdout"
        },
        {
          "output_type": "display_data",
          "data": {
            "application/vnd.jupyter.widget-view+json": {
              "model_id": "eba02de4908b46bc808df10af553d650",
              "version_minor": 0,
              "version_major": 2
            },
            "text/plain": [
              "HBox(children=(FloatProgress(value=0.0, max=1767.0), HTML(value='')))"
            ]
          },
          "metadata": {
            "tags": []
          }
        },
        {
          "output_type": "stream",
          "text": [
            "\n",
            "CPU times: user 43.7 s, sys: 271 ms, total: 44 s\n",
            "Wall time: 43.8 s\n"
          ],
          "name": "stdout"
        }
      ]
    },
    {
      "cell_type": "code",
      "metadata": {
        "id": "PA4BZIN7cBBc",
        "colab_type": "code",
        "colab": {
          "base_uri": "https://localhost:8080/",
          "height": 83,
          "referenced_widgets": [
            "6d9643342b7149059e02e76a2e4f251e",
            "e655089599664746ae1e9e13de3e001e",
            "aeba10b5c39743e182b6c74206834466",
            "156aac63d688429988e14fba91574a05",
            "926c1430ed3d4bd4ba53dbbd1cdea598",
            "cd5b0f1c541d47139907c0d45b2910f7",
            "d13f68e026c542119f1b75374f2a8e27",
            "5b26d927afb244479fec2f179e444513"
          ]
        },
        "outputId": "39fd256b-51e0-4f56-dcc7-984ce3877842"
      },
      "source": [
        "def generate_retrofit_wordvec(tfidf_matrix, model, id2word):\n",
        "  print(tfidf_matrix.shape)\n",
        "  word_vec = {}\n",
        "  for word_id in tqdm(range(tfidf_matrix.shape[0])):\n",
        "    word_vec[id2word[word_id]] = tfidf_matrix[word_id,:]\n",
        "  with open('Datasets/ws6/word_vec_retrofit_1iter.pickle', 'wb') as handle:\n",
        "    pickle.dump(word_vec, handle, protocol=pickle.HIGHEST_PROTOCOL)\n",
        "  return word_vec\n",
        "  \n",
        "_ = generate_retrofit_wordvec(tfidf_matrix, model, id2word)"
      ],
      "execution_count": null,
      "outputs": [
        {
          "output_type": "stream",
          "text": [
            "(183592, 2555)\n"
          ],
          "name": "stdout"
        },
        {
          "output_type": "display_data",
          "data": {
            "application/vnd.jupyter.widget-view+json": {
              "model_id": "6d9643342b7149059e02e76a2e4f251e",
              "version_minor": 0,
              "version_major": 2
            },
            "text/plain": [
              "HBox(children=(FloatProgress(value=0.0, max=183592.0), HTML(value='')))"
            ]
          },
          "metadata": {
            "tags": []
          }
        },
        {
          "output_type": "stream",
          "text": [
            "\n"
          ],
          "name": "stdout"
        }
      ]
    },
    {
      "cell_type": "code",
      "metadata": {
        "id": "PCiEjudQbkeL",
        "colab_type": "code",
        "colab": {}
      },
      "source": [
        "cvVocab = set([concept for _, concept in id2concept.items()])\n",
        "loopVocab = cvVocab.intersection(set(lexicon.keys()))\n",
        "sorted(list(cvVocab))[:5], sorted(list(set(lexicon.keys())))[:5]"
      ],
      "execution_count": null,
      "outputs": []
    },
    {
      "cell_type": "code",
      "metadata": {
        "id": "ldG8Ei2m01BW",
        "colab_type": "code",
        "colab": {
          "base_uri": "https://localhost:8080/",
          "height": 35
        },
        "outputId": "e3e450dc-eacb-4b6b-8768-e9e4d450550d"
      },
      "source": [
        "from sklearn.preprocessing import normalize\n",
        "print(np.sum(tfidf_matrix[1,:]))\n",
        "\n",
        "# print(np.sum(normalize(tfidf_matrix, axis=1)[1,:]))\n",
        "x = normalize(tfidf_matrix, axis=1)\n",
        "# x = tfidf_matrix/np.sum(tfidf_matrix, axis=1)\n",
        "# x = np.divide(tfidf_matrix, np.sum(tfidf_matrix, axis=1)[:])\n",
        "# np.sum(x[1,:])"
      ],
      "execution_count": null,
      "outputs": [
        {
          "output_type": "stream",
          "text": [
            "5.280177131871051\n"
          ],
          "name": "stdout"
        }
      ]
    },
    {
      "cell_type": "code",
      "metadata": {
        "id": "o8xVeRWrQXjz",
        "colab_type": "code",
        "colab": {
          "base_uri": "https://localhost:8080/",
          "height": 35
        },
        "outputId": "fdd02788-0a48-4425-a23a-bfe92d460f73"
      },
      "source": [
        "import math\n",
        "\n",
        "math.sqrt((x[1,:]**2).sum())"
      ],
      "execution_count": null,
      "outputs": [
        {
          "output_type": "execute_result",
          "data": {
            "text/plain": [
              "1.0000000000000004"
            ]
          },
          "metadata": {
            "tags": []
          },
          "execution_count": 58
        }
      ]
    },
    {
      "cell_type": "code",
      "metadata": {
        "id": "JIOFFhGexPbo",
        "colab_type": "code",
        "colab": {
          "base_uri": "https://localhost:8080/",
          "height": 90
        },
        "outputId": "0ceb6455-cbfd-4ad0-8630-500aadbb9c46"
      },
      "source": [
        "boolVec = tfidf_matrix[:, 0]>0\n",
        "boolVec[1] = False\n",
        "(boolVec)*tfidf_matrix[:, 0], tfidf_matrix[:, 0]"
      ],
      "execution_count": null,
      "outputs": [
        {
          "output_type": "execute_result",
          "data": {
            "text/plain": [
              "(array([0.        , 0.00643216, 0.        , ..., 0.        , 0.        ,\n",
              "        0.        ]),\n",
              " array([0.00400508, 0.00643216, 0.00904029, ..., 0.        , 0.        ,\n",
              "        0.        ]))"
            ]
          },
          "metadata": {
            "tags": []
          },
          "execution_count": 25
        }
      ]
    },
    {
      "cell_type": "code",
      "metadata": {
        "id": "MVOZB_pk27HR",
        "colab_type": "code",
        "colab": {
          "base_uri": "https://localhost:8080/",
          "height": 35
        },
        "outputId": "8b46e070-24ae-4b67-d245-d817ac89220c"
      },
      "source": [
        "0*tfidf_matrix[:, 0]"
      ],
      "execution_count": null,
      "outputs": [
        {
          "output_type": "execute_result",
          "data": {
            "text/plain": [
              "array([0., 0., 0., ..., 0., 0., 0.])"
            ]
          },
          "metadata": {
            "tags": []
          },
          "execution_count": 26
        }
      ]
    },
    {
      "cell_type": "code",
      "metadata": {
        "id": "bYLuA_qVuEqf",
        "colab_type": "code",
        "colab": {
          "base_uri": "https://localhost:8080/",
          "height": 90
        },
        "outputId": "921986a7-6234-41f0-ef3e-b43934696bce"
      },
      "source": [
        " boolVec = tfidf_matrix[:, 0]>0\n",
        " boolVec*tfidf_matrix[:, 0], tfidf_matrix[:, 0]"
      ],
      "execution_count": null,
      "outputs": [
        {
          "output_type": "execute_result",
          "data": {
            "text/plain": [
              "(array([6.25793018e-05, 3.30841206e-04, 2.78590155e-04, ...,\n",
              "        0.00000000e+00, 0.00000000e+00, 0.00000000e+00]),\n",
              " array([6.25793018e-05, 3.30841206e-04, 2.78590155e-04, ...,\n",
              "        0.00000000e+00, 0.00000000e+00, 0.00000000e+00]))"
            ]
          },
          "metadata": {
            "tags": []
          },
          "execution_count": 75
        }
      ]
    },
    {
      "cell_type": "code",
      "metadata": {
        "id": "oNh7cquK5Loo",
        "colab_type": "code",
        "colab": {
          "base_uri": "https://localhost:8080/",
          "height": 90
        },
        "outputId": "d9d9dd4c-b6f7-427b-dbed-3ffa55221b8e"
      },
      "source": [
        " boolVec = tfidf_matrix[:, 0]>0\n",
        " boolVec*tfidf_matrix[:, 0], tfidf_matrix[:, 0]"
      ],
      "execution_count": null,
      "outputs": [
        {
          "output_type": "execute_result",
          "data": {
            "text/plain": [
              "(array([0.00400508, 0.00643216, 0.00904029, ..., 0.        , 0.        ,\n",
              "        0.        ]),\n",
              " array([0.00400508, 0.00643216, 0.00904029, ..., 0.        , 0.        ,\n",
              "        0.        ]))"
            ]
          },
          "metadata": {
            "tags": []
          },
          "execution_count": 34
        }
      ]
    },
    {
      "cell_type": "code",
      "metadata": {
        "id": "ESxR62uiAD6h",
        "colab_type": "code",
        "colab": {
          "base_uri": "https://localhost:8080/",
          "height": 35
        },
        "outputId": "b608b6cd-6d61-4713-bb1a-f55e01ab212d"
      },
      "source": [
        "tfidf_matrix[0,:].shape"
      ],
      "execution_count": null,
      "outputs": [
        {
          "output_type": "execute_result",
          "data": {
            "text/plain": [
              "(2521,)"
            ]
          },
          "metadata": {
            "tags": []
          },
          "execution_count": 38
        }
      ]
    },
    {
      "cell_type": "code",
      "metadata": {
        "id": "wEoBi6OiSiws",
        "colab_type": "code",
        "colab": {}
      },
      "source": [
        "  with open('Datasets/tfidf_matrix.pickle', 'wb') as handle:\n",
        "    pickle.dump(tfidf_matrix, handle, protocol=pickle.HIGHEST_PROTOCOL)"
      ],
      "execution_count": null,
      "outputs": []
    },
    {
      "cell_type": "code",
      "metadata": {
        "id": "LpPaN8IjS2GF",
        "colab_type": "code",
        "colab": {}
      },
      "source": [
        "import numpy as np\n",
        "np.save('Datasets/tfidf_matrix_npy', tfidf_matrix)"
      ],
      "execution_count": null,
      "outputs": []
    },
    {
      "cell_type": "markdown",
      "metadata": {
        "id": "p-WddOUEziZT",
        "colab_type": "text"
      },
      "source": [
        "# Different versions of Retrofitting"
      ]
    },
    {
      "cell_type": "code",
      "metadata": {
        "id": "CxzhqlxhQ2XH",
        "colab_type": "code",
        "colab": {}
      },
      "source": [
        "def retrofit(tfidf_matrix, lexicon, concept2id, numIters=1):\n",
        "  '''newWordVecs = deepcopy(wordVecs)\n",
        "  wvVocab = set(newWordVecs.keys())\n",
        "  loopVocab = wvVocab.intersection(set(lexicon.keys()))\n",
        "  for it in range(numIters):\n",
        "    # loop through every node also in ontology (else just use data estimate)\n",
        "    for word in loopVocab:\n",
        "      wordNeighbours = set(lexicon[word]).intersection(wvVocab)\n",
        "      numNeighbours = len(wordNeighbours)\n",
        "      #no neighbours, pass - use data estimate\n",
        "      if numNeighbours == 0:\n",
        "        continue'''\n",
        "\n",
        "  cvVocab = set([concept for _, concept in id2concept.items()])\n",
        "  loopVocab = cvVocab.intersection(set(lexicon.keys()))\n",
        "  print(len(loopVocab), len(cvVocab), len(set(lexicon.keys())))\n",
        "  print(tfidf_matrix.shape, len(lexicon), len(concept2id))\n",
        "  alpha = 0.0\n",
        "  tfidf_matrix_orig_bool = tfidf_matrix_orig>0\n",
        "  for it in range(numIters):\n",
        "    # loop through every node also in ontology (else just use data estimate)\n",
        "    \n",
        "    for concept in tqdm(loopVocab):\n",
        "      conceptNeighbours = set(lexicon[concept]).intersection(cvVocab)\n",
        "      numNeighbours = len(conceptNeighbours)\n",
        "      #no neighbours, pass - use data estimate\n",
        "      if numNeighbours == 0:\n",
        "        continue\n",
        "\n",
        "\n",
        "      '''# the weight of the data estimate if the number of neighbours\n",
        "      newVec = numNeighbours * wordVecs[word]\n",
        "      # loop over neighbours and add to new vector (currently with weight 1)\n",
        "      for ppWord in wordNeighbours:\n",
        "        newVec += newWordVecs[ppWord]\n",
        "      newWordVecs[word] = newVec/(2*numNeighbours)'''\n",
        "      # start = time.time()\n",
        "      concept_id = concept2id[concept]\n",
        "      # newVec = tfidf_matrix[:, concept_id].toarray()\n",
        "      newVec = tfidf_matrix[:, concept_id]\n",
        "      newVec = alpha * numNeighbours * newVec\n",
        "      update_word_bool = tfidf_matrix_orig_bool[:,concept_id]\n",
        "      intersec_words_bool = np.array([True for _ in range(tfidf_matrix.shape[0])])\n",
        "      for ppConcept in conceptNeighbours:\n",
        "        ppConcept_id = concept2id[ppConcept]\n",
        "        intersec_words_bool = intersec_words_bool & tfidf_matrix_orig_bool[:,ppConcept_id]\n",
        "        # newVec += tfidf_matrix[:, ppConcept_id].toarray()\n",
        "        newVec += tfidf_matrix[:, ppConcept_id]\n",
        "      # print(np.sum(intersec_words_bool))\n",
        "      # break\n",
        "      newVec = newVec/((alpha+1)*numNeighbours)\n",
        "      # print(boolVec, newVec)\n",
        "      # for row_index, value in enumerate(newVec):\n",
        "        # # if boolVec[row_index][0]:\n",
        "        # if boolVec[row_index]:\n",
        "        #   # tfidf_matrix[row_index, concept_id] = value[0]\n",
        "        #   tfidf_matrix[row_index, concept_id] = value\n",
        "      tfidf_matrix[:, concept_id] = (intersec_words_bool & ~update_word_bool)*newVec + tfidf_matrix_orig[:,concept_id]\n",
        "      # print('Took =>', time.time()-start,'s(seconds)')\n",
        "      # break\n",
        "\n",
        "  return tfidf_matrix\n",
        "\n",
        "concept2id = {value:key for key, value in id2concept.items()}\n",
        "# tfidf_matrix = tfidf_matrix.todok()\n",
        "tfidf_matrix = retrofit(tfidf_matrix, lexicon, concept2id, numIters=1)"
      ],
      "execution_count": null,
      "outputs": []
    },
    {
      "cell_type": "code",
      "metadata": {
        "id": "uGOfQzg37k_0",
        "colab_type": "code",
        "colab": {}
      },
      "source": [
        "def retrofit(tfidf_matrix, lexicon, concept2id, numIters=1):\n",
        "  '''newWordVecs = deepcopy(wordVecs)\n",
        "  wvVocab = set(newWordVecs.keys())\n",
        "  loopVocab = wvVocab.intersection(set(lexicon.keys()))\n",
        "  for it in range(numIters):\n",
        "    # loop through every node also in ontology (else just use data estimate)\n",
        "    for word in loopVocab:\n",
        "      wordNeighbours = set(lexicon[word]).intersection(wvVocab)\n",
        "      numNeighbours = len(wordNeighbours)\n",
        "      #no neighbours, pass - use data estimate\n",
        "      if numNeighbours == 0:\n",
        "        continue'''\n",
        "\n",
        "  cvVocab = set([concept for _, concept in id2concept.items()])\n",
        "  loopVocab = cvVocab.intersection(set(lexicon.keys()))\n",
        "  print(len(loopVocab), len(cvVocab), len(set(lexicon.keys())))\n",
        "  print(tfidf_matrix.shape, len(lexicon), len(concept2id))\n",
        "  alpha = 0.0\n",
        "  tfidf_matrix_orig_bool = tfidf_matrix_orig>0\n",
        "  for it in range(numIters):\n",
        "    # loop through every node also in ontology (else just use data estimate)\n",
        "    for concept in tqdm(loopVocab):\n",
        "      conceptNeighbours = set(lexicon[concept]).intersection(cvVocab)\n",
        "      numNeighbours = len(conceptNeighbours)\n",
        "      #no neighbours, pass - use data estimate\n",
        "      if numNeighbours == 0:\n",
        "        continue\n",
        "\n",
        "\n",
        "      '''# the weight of the data estimate if the number of neighbours\n",
        "      newVec = numNeighbours * wordVecs[word]\n",
        "      # loop over neighbours and add to new vector (currently with weight 1)\n",
        "      for ppWord in wordNeighbours:\n",
        "        newVec += newWordVecs[ppWord]\n",
        "      newWordVecs[word] = newVec/(2*numNeighbours)'''\n",
        "      # start = time.time()\n",
        "      concept_id = concept2id[concept]\n",
        "      # newVec = tfidf_matrix[:, concept_id].toarray()\n",
        "      newVec = tfidf_matrix[:, concept_id]\n",
        "      newVec = alpha * numNeighbours * newVec\n",
        "      update_word_bool = tfidf_matrix_orig_bool[:,concept_id]\n",
        "      union_words_bool = np.array([False for _ in range(tfidf_matrix.shape[0])])\n",
        "      for ppConcept in conceptNeighbours:\n",
        "        ppConcept_id = concept2id[ppConcept]\n",
        "        union_words_bool = union_words_bool | tfidf_matrix_orig_bool[:,ppConcept_id]\n",
        "        # newVec += tfidf_matrix[:, ppConcept_id].toarray()\n",
        "        newVec += tfidf_matrix[:, ppConcept_id]\n",
        "      # print(np.sum(union_words_bool))\n",
        "      # break\n",
        "      newVec = newVec/((alpha+1)*numNeighbours)\n",
        "      # print(boolVec, newVec)\n",
        "      # for row_index, value in enumerate(newVec):\n",
        "        # # if boolVec[row_index][0]:\n",
        "        # if boolVec[row_index]:\n",
        "        #   # tfidf_matrix[row_index, concept_id] = value[0]\n",
        "        #   tfidf_matrix[row_index, concept_id] = value\n",
        "      tfidf_matrix[:, concept_id] = (union_words_bool & ~update_word_bool)*newVec + tfidf_matrix_orig[:,concept_id]\n",
        "      # print('Took =>', time.time()-start,'s(seconds)')\n",
        "      # break\n",
        "\n",
        "  return tfidf_matrix\n",
        "\n",
        "concept2id = {value:key for key, value in id2concept.items()}\n",
        "# tfidf_matrix = tfidf_matrix.todok()\n",
        "tfidf_matrix = retrofit(tfidf_matrix, lexicon, concept2id, numIters=1)"
      ],
      "execution_count": null,
      "outputs": []
    },
    {
      "cell_type": "code",
      "metadata": {
        "id": "CuDRdxglTaag",
        "colab_type": "code",
        "colab": {
          "base_uri": "https://localhost:8080/",
          "height": 304,
          "referenced_widgets": [
            "7e904102234f4811a7fe2433a22615f2",
            "37fba1d90eba4ec385ca1a3ba017ffef",
            "df2ceed377b9438f828f9d4d77670982",
            "93093cec30fa4407b823c2219da113e4",
            "bd9ed00bfcac4a2aa38f008a1161e2e3",
            "bd34ebe576294a758e8654de4ab4a7a4",
            "34903792c8824333b32ddd062d5a21c0",
            "4ec782887ca446c799030a6886ee5c23",
            "47d9b9229d76400f931fb1d1bb343490",
            "16a7f55ec422478a9f307c89d261d580",
            "ab1b969128da4f50a28b9b877a7967fb",
            "7efe936e4c5d464eab7eb7fa65eaaef2",
            "e96b8c00abc84e1ea1213ec963166313",
            "3617a686b9fc480a829788c1cab7afe7",
            "055b4c34139544ffb325d16b751581f6",
            "1d76d03163b14125b14cce62168759b5",
            "04f3cbd165ee478585d463398f3bd9c5",
            "f8acc13f1082425bad4be3e65a64a45d",
            "254d9297b2bc424681d682144dc87198",
            "ff9ab599a65340e58d74463bdaae70a0",
            "cf7638746d114d8fa3389bc7933a6811",
            "548ac14eb8ef48a2b218a7fae8317165",
            "c1ded8aea9b24eba8047875ce8a04075",
            "f6f93094325c468fb899d7f5215ab5ea",
            "69c1da6763754e9bb99bed83d41239ef",
            "f8b779b6e5de4f93a3bc9f21f0ecfff9",
            "f532f43185fd48149eba181d96705f3b",
            "f41c5ecf36f3483fb726d2a6b6fb6750",
            "a1f374e5676d4d15b6d023c1957be937",
            "5662fffc3aae4b45955492d6319fed83",
            "c7f46e01b9fa4c2c9d1026fe3b5caaf5",
            "514414d67e6040dabac3f8495bc521b0",
            "d736c1a6a2b043c386546e14902f0b4a",
            "93df8c6011d54fcebd99647a5746e1a0",
            "fd053e38cce24ac0892caecba57e55d4",
            "8578a27916d440b6bb05649b33688c34",
            "3b30d64281f14dc28bbcd83df710707b",
            "0638c687c5e14cd182b1702c5de45b1e",
            "16c766f9096a49dca4150dc6082201a1",
            "c47767040be74af69e303dfe0d432d64"
          ]
        },
        "outputId": "cef71661-23e6-4242-bdca-d12cc2f0c776"
      },
      "source": [
        "def retrofit(tfidf_matrix, lexicon, concept2id, numIters=1):\n",
        "  '''newWordVecs = deepcopy(wordVecs)\n",
        "  wvVocab = set(newWordVecs.keys())\n",
        "  loopVocab = wvVocab.intersection(set(lexicon.keys()))\n",
        "  for it in range(numIters):\n",
        "    # loop through every node also in ontology (else just use data estimate)\n",
        "    for word in loopVocab:\n",
        "      wordNeighbours = set(lexicon[word]).intersection(wvVocab)\n",
        "      numNeighbours = len(wordNeighbours)\n",
        "      #no neighbours, pass - use data estimate\n",
        "      if numNeighbours == 0:\n",
        "        continue'''\n",
        "\n",
        "  cvVocab = set([concept for _, concept in id2concept.items()])\n",
        "  loopVocab = cvVocab.intersection(set(lexicon.keys()))\n",
        "  print(len(loopVocab), len(cvVocab), len(set(lexicon.keys())))\n",
        "  print(tfidf_matrix.shape, len(lexicon), len(concept2id))\n",
        "  for it in range(numIters):\n",
        "    # loop through every node also in ontology (else just use data estimate)\n",
        "    for concept in tqdm(loopVocab):\n",
        "      conceptNeighbours = set(lexicon[concept]).intersection(cvVocab)\n",
        "      numNeighbours = len(conceptNeighbours)\n",
        "      #no neighbours, pass - use data estimate\n",
        "      if numNeighbours == 0:\n",
        "        continue\n",
        "\n",
        "\n",
        "      '''# the weight of the data estimate if the number of neighbours\n",
        "      newVec = numNeighbours * wordVecs[word]\n",
        "      # loop over neighbours and add to new vector (currently with weight 1)\n",
        "      for ppWord in wordNeighbours:\n",
        "        newVec += newWordVecs[ppWord]\n",
        "      newWordVecs[word] = newVec/(2*numNeighbours)'''\n",
        "      # start = time.time()\n",
        "      concept_id = concept2id[concept]\n",
        "      # newVec = tfidf_matrix[:, concept_id].toarray()\n",
        "      newVec = tfidf_matrix[:, concept_id]\n",
        "      boolVec = newVec>0\n",
        "      # print(np.sum(boolVec), boolVec)\n",
        "      # break\n",
        "      # print(sum(boolVec), np.where(newVec>0)[0].shape)\n",
        "      newVec = numNeighbours * newVec\n",
        "      for ppConcept in conceptNeighbours:\n",
        "        ppConcept_id = concept2id[ppConcept]\n",
        "        # newVec += tfidf_matrix[:, ppConcept_id].toarray()\n",
        "        newVec += tfidf_matrix[:, ppConcept_id]\n",
        "      newVec = newVec/(2*numNeighbours)\n",
        "      # print(boolVec, newVec)\n",
        "      for row_index, value in enumerate(newVec):\n",
        "        # if boolVec[row_index][0]:\n",
        "        if boolVec[row_index]:\n",
        "          # tfidf_matrix[row_index, concept_id] = value[0]\n",
        "          tfidf_matrix[row_index, concept_id] = value\n",
        "      # tfidf_matrix[:, concept_id] = newVec\n",
        "      # print('Took =>', time.time()-start,'s(seconds)')\n",
        "      # break\n",
        "\n",
        "  return tfidf_matrix\n",
        "\n",
        "concept2id = {value:key for key, value in id2concept.items()}\n",
        "# tfidf_matrix = tfidf_matrix.todok()\n",
        "tfidf_matrix = retrofit(tfidf_matrix, lexicon, concept2id, numIters=5)"
      ],
      "execution_count": null,
      "outputs": [
        {
          "output_type": "stream",
          "text": [
            "2255 2521 2261\n",
            "(203415, 2521) 2261 2521\n"
          ],
          "name": "stdout"
        },
        {
          "output_type": "display_data",
          "data": {
            "application/vnd.jupyter.widget-view+json": {
              "model_id": "7e904102234f4811a7fe2433a22615f2",
              "version_minor": 0,
              "version_major": 2
            },
            "text/plain": [
              "HBox(children=(IntProgress(value=0, max=2255), HTML(value='')))"
            ]
          },
          "metadata": {
            "tags": []
          }
        },
        {
          "output_type": "stream",
          "text": [
            "\n"
          ],
          "name": "stdout"
        },
        {
          "output_type": "display_data",
          "data": {
            "application/vnd.jupyter.widget-view+json": {
              "model_id": "47d9b9229d76400f931fb1d1bb343490",
              "version_minor": 0,
              "version_major": 2
            },
            "text/plain": [
              "HBox(children=(IntProgress(value=0, max=2255), HTML(value='')))"
            ]
          },
          "metadata": {
            "tags": []
          }
        },
        {
          "output_type": "stream",
          "text": [
            "\n"
          ],
          "name": "stdout"
        },
        {
          "output_type": "display_data",
          "data": {
            "application/vnd.jupyter.widget-view+json": {
              "model_id": "04f3cbd165ee478585d463398f3bd9c5",
              "version_minor": 0,
              "version_major": 2
            },
            "text/plain": [
              "HBox(children=(IntProgress(value=0, max=2255), HTML(value='')))"
            ]
          },
          "metadata": {
            "tags": []
          }
        },
        {
          "output_type": "stream",
          "text": [
            "\n"
          ],
          "name": "stdout"
        },
        {
          "output_type": "display_data",
          "data": {
            "application/vnd.jupyter.widget-view+json": {
              "model_id": "69c1da6763754e9bb99bed83d41239ef",
              "version_minor": 0,
              "version_major": 2
            },
            "text/plain": [
              "HBox(children=(IntProgress(value=0, max=2255), HTML(value='')))"
            ]
          },
          "metadata": {
            "tags": []
          }
        },
        {
          "output_type": "stream",
          "text": [
            "\n"
          ],
          "name": "stdout"
        },
        {
          "output_type": "display_data",
          "data": {
            "application/vnd.jupyter.widget-view+json": {
              "model_id": "d736c1a6a2b043c386546e14902f0b4a",
              "version_minor": 0,
              "version_major": 2
            },
            "text/plain": [
              "HBox(children=(IntProgress(value=0, max=2255), HTML(value='')))"
            ]
          },
          "metadata": {
            "tags": []
          }
        },
        {
          "output_type": "stream",
          "text": [
            "\n"
          ],
          "name": "stdout"
        }
      ]
    },
    {
      "cell_type": "code",
      "metadata": {
        "id": "Il9NF5QozoLt",
        "colab_type": "code",
        "colab": {}
      },
      "source": [
        "def retrofit(tfidf_matrix, lexicon, concept2id, numIters=1):\n",
        "  '''newWordVecs = deepcopy(wordVecs)\n",
        "  wvVocab = set(newWordVecs.keys())\n",
        "  loopVocab = wvVocab.intersection(set(lexicon.keys()))\n",
        "  for it in range(numIters):\n",
        "    # loop through every node also in ontology (else just use data estimate)\n",
        "    for word in loopVocab:\n",
        "      wordNeighbours = set(lexicon[word]).intersection(wvVocab)\n",
        "      numNeighbours = len(wordNeighbours)\n",
        "      #no neighbours, pass - use data estimate\n",
        "      if numNeighbours == 0:\n",
        "        continue'''\n",
        "\n",
        "  cvVocab = set([concept for _, concept in id2concept.items()])\n",
        "  loopVocab = cvVocab.intersection(set(lexicon.keys()))\n",
        "  print(len(loopVocab), len(cvVocab), len(set(lexicon.keys())))\n",
        "  print(tfidf_matrix.shape, len(lexicon), len(concept2id))\n",
        "  alpha = 1.0\n",
        "  for it in range(numIters):\n",
        "    # loop through every node also in ontology (else just use data estimate)\n",
        "    for concept in tqdm(loopVocab):\n",
        "      conceptNeighbours = set(lexicon[concept]).intersection(cvVocab)\n",
        "      numNeighbours = len(conceptNeighbours)\n",
        "      #no neighbours, pass - use data estimate\n",
        "      if numNeighbours == 0:\n",
        "        continue\n",
        "\n",
        "\n",
        "      '''# the weight of the data estimate if the number of neighbours\n",
        "      newVec = numNeighbours * wordVecs[word]\n",
        "      # loop over neighbours and add to new vector (currently with weight 1)\n",
        "      for ppWord in wordNeighbours:\n",
        "        newVec += newWordVecs[ppWord]\n",
        "      newWordVecs[word] = newVec/(2*numNeighbours)'''\n",
        "      # start = time.time()\n",
        "      concept_id = concept2id[concept]\n",
        "      # newVec = tfidf_matrix[:, concept_id].toarray()\n",
        "      newVec = tfidf_matrix[:, concept_id]\n",
        "      # boolVec = newVec>0\n",
        "      # print(np.sum(boolVec), boolVec)\n",
        "      # break\n",
        "      # print(sum(boolVec), np.where(newVec>0)[0].shape)\n",
        "      newVec = alpha * numNeighbours * newVec\n",
        "      for ppConcept in conceptNeighbours:\n",
        "        ppConcept_id = concept2id[ppConcept]\n",
        "        # newVec += tfidf_matrix[:, ppConcept_id].toarray()\n",
        "        newVec += tfidf_matrix[:, ppConcept_id]\n",
        "      newVec = newVec/((alpha+1)*numNeighbours)\n",
        "      # print(boolVec, newVec)\n",
        "      # for row_index, value in enumerate(newVec):\n",
        "      #   # if boolVec[row_index][0]:\n",
        "      #   if boolVec[row_index]:\n",
        "      #     # tfidf_matrix[row_index, concept_id] = value[0]\n",
        "      #     tfidf_matrix[row_index, concept_id] = value\n",
        "      tfidf_matrix[:, concept_id] = newVec\n",
        "      # print('Took =>', time.time()-start,'s(seconds)')\n",
        "      # break\n",
        "\n",
        "  return tfidf_matrix\n",
        "\n",
        "concept2id = {value:key for key, value in id2concept.items()}\n",
        "# tfidf_matrix = tfidf_matrix.todok()\n",
        "tfidf_matrix = retrofit(tfidf_matrix, lexicon, concept2id, numIters=5)"
      ],
      "execution_count": null,
      "outputs": []
    },
    {
      "cell_type": "markdown",
      "metadata": {
        "id": "pHMv3vyJY_yM",
        "colab_type": "text"
      },
      "source": [
        "# Retrofitting with different versions of Sparse Matrix"
      ]
    },
    {
      "cell_type": "code",
      "metadata": {
        "id": "88yL46BsRd25",
        "colab_type": "code",
        "colab": {
          "base_uri": "https://localhost:8080/",
          "height": 52
        },
        "outputId": "b2276c5f-3918-4737-dea7-639dce9ebab2"
      },
      "source": [
        "def retrofit(tfidf_matrix, lexicon, concept2id, numIters=1):\n",
        "  '''newWordVecs = deepcopy(wordVecs)\n",
        "  wvVocab = set(newWordVecs.keys())\n",
        "  loopVocab = wvVocab.intersection(set(lexicon.keys()))\n",
        "  for it in range(numIters):\n",
        "    # loop through every node also in ontology (else just use data estimate)\n",
        "    for word in loopVocab:\n",
        "      wordNeighbours = set(lexicon[word]).intersection(wvVocab)\n",
        "      numNeighbours = len(wordNeighbours)\n",
        "      #no neighbours, pass - use data estimate\n",
        "      if numNeighbours == 0:\n",
        "        continue'''\n",
        "\n",
        "  cvVocab = set([concept for _, concept in id2concept.items()])\n",
        "  loopVocab = cvVocab.intersection(set(lexicon.keys()))\n",
        "  print(len(loopVocab), len(cvVocab), len(set(lexicon.keys())))\n",
        "  for it in range(numIters):\n",
        "    # loop through every node also in ontology (else just use data estimate)\n",
        "    for concept in loopVocab:\n",
        "      conceptNeighbours = set(lexicon[concept]).intersection(cvVocab)\n",
        "      numNeighbours = len(conceptNeighbours)\n",
        "      #no neighbours, pass - use data estimate\n",
        "      if numNeighbours == 0:\n",
        "        continue\n",
        "\n",
        "\n",
        "      '''# the weight of the data estimate if the number of neighbours\n",
        "      newVec = numNeighbours * wordVecs[word]\n",
        "      # loop over neighbours and add to new vector (currently with weight 1)\n",
        "      for ppWord in wordNeighbours:\n",
        "        newVec += newWordVecs[ppWord]\n",
        "      newWordVecs[word] = newVec/(2*numNeighbours)'''\n",
        "      start = time.time()\n",
        "      concept_id = concept2id[concept]\n",
        "      newVec = numNeighbours * tfidf_matrix[:, concept_id].toarray()\n",
        "      for ppConcept in conceptNeighbours:\n",
        "        ppConcept_id = concept2id[ppConcept]\n",
        "        newVec += tfidf_matrix[:, ppConcept_id].toarray()\n",
        "      newVec = newVec/(2*numNeighbours)\n",
        "      for row_index, value in enumerate(newVec):\n",
        "        tfidf_matrix[row_index, concept_id] = value\n",
        "      print('Took =>', time.time()-start,'s(seconds)')\n",
        "      break\n",
        "\n",
        "  return\n",
        "\n",
        "concept2id = {value:key for key, value in id2concept.items()}\n",
        "retrofit(tfidf_matrix, lexicon, concept2id)"
      ],
      "execution_count": null,
      "outputs": [
        {
          "output_type": "stream",
          "text": [
            "175559 175870 175820\n",
            "Took => 20.26138687133789 s(seconds)\n"
          ],
          "name": "stdout"
        }
      ]
    },
    {
      "cell_type": "code",
      "metadata": {
        "id": "ZwIaKypMakVG",
        "colab_type": "code",
        "colab": {
          "base_uri": "https://localhost:8080/",
          "height": 52
        },
        "outputId": "2824f15b-c918-4f93-9217-f8c97ec7691c"
      },
      "source": [
        "def retrofit(tfidf_matrix, lexicon, concept2id, numIters=1):\n",
        "  '''newWordVecs = deepcopy(wordVecs)\n",
        "  wvVocab = set(newWordVecs.keys())\n",
        "  loopVocab = wvVocab.intersection(set(lexicon.keys()))\n",
        "  for it in range(numIters):\n",
        "    # loop through every node also in ontology (else just use data estimate)\n",
        "    for word in loopVocab:\n",
        "      wordNeighbours = set(lexicon[word]).intersection(wvVocab)\n",
        "      numNeighbours = len(wordNeighbours)\n",
        "      #no neighbours, pass - use data estimate\n",
        "      if numNeighbours == 0:\n",
        "        continue'''\n",
        "\n",
        "  cvVocab = set([concept for _, concept in id2concept.items()])\n",
        "  loopVocab = cvVocab.intersection(set(lexicon.keys()))\n",
        "  print(len(loopVocab), len(cvVocab), len(set(lexicon.keys())))\n",
        "  for it in range(numIters):\n",
        "    # loop through every node also in ontology (else just use data estimate)\n",
        "    for concept in loopVocab:\n",
        "      conceptNeighbours = set(lexicon[concept]).intersection(cvVocab)\n",
        "      numNeighbours = len(conceptNeighbours)\n",
        "      #no neighbours, pass - use data estimate\n",
        "      if numNeighbours == 0:\n",
        "        continue\n",
        "\n",
        "\n",
        "      '''# the weight of the data estimate if the number of neighbours\n",
        "      newVec = numNeighbours * wordVecs[word]\n",
        "      # loop over neighbours and add to new vector (currently with weight 1)\n",
        "      for ppWord in wordNeighbours:\n",
        "        newVec += newWordVecs[ppWord]\n",
        "      newWordVecs[word] = newVec/(2*numNeighbours)'''\n",
        "      start = time.time()\n",
        "      concept_id = concept2id[concept]\n",
        "      newVec = numNeighbours * tfidf_matrix[:, concept_id].toarray()\n",
        "      for ppConcept in conceptNeighbours:\n",
        "        ppConcept_id = concept2id[ppConcept]\n",
        "        newVec += tfidf_matrix[:, ppConcept_id].toarray()\n",
        "      newVec = newVec/(2*numNeighbours)\n",
        "      for row_index, value in enumerate(newVec):\n",
        "        tfidf_matrix[row_index, concept_id] = value\n",
        "      print('Took =>', time.time()-start,'s(seconds)')\n",
        "      break\n",
        "\n",
        "  return\n",
        "\n",
        "concept2id = {value:key for key, value in id2concept.items()}\n",
        "# tfidf_matrix = tfidf_matrix.todok()\n",
        "retrofit(tfidf_matrix, lexicon, concept2id)"
      ],
      "execution_count": null,
      "outputs": [
        {
          "output_type": "stream",
          "text": [
            "175559 175870 175820\n",
            "Took => 9.453941822052002 s(seconds)\n"
          ],
          "name": "stdout"
        }
      ]
    },
    {
      "cell_type": "code",
      "metadata": {
        "id": "QVlmMQ86V1a_",
        "colab_type": "code",
        "colab": {
          "base_uri": "https://localhost:8080/",
          "height": 434
        },
        "outputId": "2c83937e-3b3c-45e5-f3c4-788cd8727de3"
      },
      "source": [
        "def retrofit(tfidf_matrix, lexicon, concept2id, numIters=1):\n",
        "  '''newWordVecs = deepcopy(wordVecs)\n",
        "  wvVocab = set(newWordVecs.keys())\n",
        "  loopVocab = wvVocab.intersection(set(lexicon.keys()))\n",
        "  for it in range(numIters):\n",
        "    # loop through every node also in ontology (else just use data estimate)\n",
        "    for word in loopVocab:\n",
        "      wordNeighbours = set(lexicon[word]).intersection(wvVocab)\n",
        "      numNeighbours = len(wordNeighbours)\n",
        "      #no neighbours, pass - use data estimate\n",
        "      if numNeighbours == 0:\n",
        "        continue'''\n",
        "\n",
        "  cvVocab = set([concept for _, concept in id2concept.items()])\n",
        "  loopVocab = cvVocab.intersection(set(lexicon.keys()))\n",
        "  print(len(loopVocab), len(cvVocab), len(set(lexicon.keys())))\n",
        "  for it in range(numIters):\n",
        "    # loop through every node also in ontology (else just use data estimate)\n",
        "    for concept in loopVocab:\n",
        "      conceptNeighbours = set(lexicon[concept]).intersection(cvVocab)\n",
        "      numNeighbours = len(conceptNeighbours)\n",
        "      #no neighbours, pass - use data estimate\n",
        "      if numNeighbours == 0:\n",
        "        continue\n",
        "\n",
        "\n",
        "      '''# the weight of the data estimate if the number of neighbours\n",
        "      newVec = numNeighbours * wordVecs[word]\n",
        "      # loop over neighbours and add to new vector (currently with weight 1)\n",
        "      for ppWord in wordNeighbours:\n",
        "        newVec += newWordVecs[ppWord]\n",
        "      newWordVecs[word] = newVec/(2*numNeighbours)'''\n",
        "      start = time.time()\n",
        "      concept_id = concept2id[concept]\n",
        "      newVec = numNeighbours * tfidf_matrix[:, concept_id].toarray()\n",
        "      for ppConcept in conceptNeighbours:\n",
        "        ppConcept_id = concept2id[ppConcept]\n",
        "        newVec += tfidf_matrix[:, ppConcept_id].toarray()\n",
        "      newVec = newVec/(2*numNeighbours)\n",
        "      for row_index, value in enumerate(newVec):\n",
        "        tfidf_matrix[row_index, concept_id] = value\n",
        "      print('Took =>', time.time()-start,'s(seconds)')\n",
        "      break\n",
        "\n",
        "  return\n",
        "\n",
        "concept2id = {value:key for key, value in id2concept.items()}\n",
        "tfidf_matrix = tfidf_matrix.tocsc()\n",
        "retrofit(tfidf_matrix, lexicon, concept2id)"
      ],
      "execution_count": null,
      "outputs": [
        {
          "output_type": "stream",
          "text": [
            "175559 175870 175820\n"
          ],
          "name": "stdout"
        },
        {
          "output_type": "stream",
          "text": [
            "/usr/local/lib/python3.6/dist-packages/scipy/sparse/_index.py:84: SparseEfficiencyWarning: Changing the sparsity structure of a csc_matrix is expensive. lil_matrix is more efficient.\n",
            "  self._set_intXint(row, col, x.flat[0])\n"
          ],
          "name": "stderr"
        },
        {
          "output_type": "error",
          "ename": "KeyboardInterrupt",
          "evalue": "ignored",
          "traceback": [
            "\u001b[0;31m---------------------------------------------------------------------------\u001b[0m",
            "\u001b[0;31mKeyboardInterrupt\u001b[0m                         Traceback (most recent call last)",
            "\u001b[0;32m<ipython-input-28-d596742b813a>\u001b[0m in \u001b[0;36m<module>\u001b[0;34m()\u001b[0m\n\u001b[1;32m     47\u001b[0m \u001b[0mconcept2id\u001b[0m \u001b[0;34m=\u001b[0m \u001b[0;34m{\u001b[0m\u001b[0mvalue\u001b[0m\u001b[0;34m:\u001b[0m\u001b[0mkey\u001b[0m \u001b[0;32mfor\u001b[0m \u001b[0mkey\u001b[0m\u001b[0;34m,\u001b[0m \u001b[0mvalue\u001b[0m \u001b[0;32min\u001b[0m \u001b[0mid2concept\u001b[0m\u001b[0;34m.\u001b[0m\u001b[0mitems\u001b[0m\u001b[0;34m(\u001b[0m\u001b[0;34m)\u001b[0m\u001b[0;34m}\u001b[0m\u001b[0;34m\u001b[0m\u001b[0;34m\u001b[0m\u001b[0m\n\u001b[1;32m     48\u001b[0m \u001b[0mtfidf_matrix\u001b[0m \u001b[0;34m=\u001b[0m \u001b[0mtfidf_matrix\u001b[0m\u001b[0;34m.\u001b[0m\u001b[0mtocsc\u001b[0m\u001b[0;34m(\u001b[0m\u001b[0;34m)\u001b[0m\u001b[0;34m\u001b[0m\u001b[0;34m\u001b[0m\u001b[0m\n\u001b[0;32m---> 49\u001b[0;31m \u001b[0mretrofit\u001b[0m\u001b[0;34m(\u001b[0m\u001b[0mtfidf_matrix\u001b[0m\u001b[0;34m,\u001b[0m \u001b[0mlexicon\u001b[0m\u001b[0;34m,\u001b[0m \u001b[0mconcept2id\u001b[0m\u001b[0;34m)\u001b[0m\u001b[0;34m\u001b[0m\u001b[0;34m\u001b[0m\u001b[0m\n\u001b[0m",
            "\u001b[0;32m<ipython-input-28-d596742b813a>\u001b[0m in \u001b[0;36mretrofit\u001b[0;34m(tfidf_matrix, lexicon, concept2id, numIters)\u001b[0m\n\u001b[1;32m     39\u001b[0m       \u001b[0mnewVec\u001b[0m \u001b[0;34m=\u001b[0m \u001b[0mnewVec\u001b[0m\u001b[0;34m/\u001b[0m\u001b[0;34m(\u001b[0m\u001b[0;36m2\u001b[0m\u001b[0;34m*\u001b[0m\u001b[0mnumNeighbours\u001b[0m\u001b[0;34m)\u001b[0m\u001b[0;34m\u001b[0m\u001b[0;34m\u001b[0m\u001b[0m\n\u001b[1;32m     40\u001b[0m       \u001b[0;32mfor\u001b[0m \u001b[0mrow_index\u001b[0m\u001b[0;34m,\u001b[0m \u001b[0mvalue\u001b[0m \u001b[0;32min\u001b[0m \u001b[0menumerate\u001b[0m\u001b[0;34m(\u001b[0m\u001b[0mnewVec\u001b[0m\u001b[0;34m)\u001b[0m\u001b[0;34m:\u001b[0m\u001b[0;34m\u001b[0m\u001b[0;34m\u001b[0m\u001b[0m\n\u001b[0;32m---> 41\u001b[0;31m         \u001b[0mtfidf_matrix\u001b[0m\u001b[0;34m[\u001b[0m\u001b[0mrow_index\u001b[0m\u001b[0;34m,\u001b[0m \u001b[0mconcept_id\u001b[0m\u001b[0;34m]\u001b[0m \u001b[0;34m=\u001b[0m \u001b[0mvalue\u001b[0m\u001b[0;34m\u001b[0m\u001b[0;34m\u001b[0m\u001b[0m\n\u001b[0m\u001b[1;32m     42\u001b[0m       \u001b[0mprint\u001b[0m\u001b[0;34m(\u001b[0m\u001b[0;34m'Took =>'\u001b[0m\u001b[0;34m,\u001b[0m \u001b[0mtime\u001b[0m\u001b[0;34m.\u001b[0m\u001b[0mtime\u001b[0m\u001b[0;34m(\u001b[0m\u001b[0;34m)\u001b[0m\u001b[0;34m-\u001b[0m\u001b[0mstart\u001b[0m\u001b[0;34m,\u001b[0m\u001b[0;34m's(seconds)'\u001b[0m\u001b[0;34m)\u001b[0m\u001b[0;34m\u001b[0m\u001b[0;34m\u001b[0m\u001b[0m\n\u001b[1;32m     43\u001b[0m       \u001b[0;32mbreak\u001b[0m\u001b[0;34m\u001b[0m\u001b[0;34m\u001b[0m\u001b[0m\n",
            "\u001b[0;32m/usr/local/lib/python3.6/dist-packages/scipy/sparse/_index.py\u001b[0m in \u001b[0;36m__setitem__\u001b[0;34m(self, key, x)\u001b[0m\n\u001b[1;32m     82\u001b[0m             \u001b[0;32mif\u001b[0m \u001b[0mx\u001b[0m\u001b[0;34m.\u001b[0m\u001b[0msize\u001b[0m \u001b[0;34m!=\u001b[0m \u001b[0;36m1\u001b[0m\u001b[0;34m:\u001b[0m\u001b[0;34m\u001b[0m\u001b[0;34m\u001b[0m\u001b[0m\n\u001b[1;32m     83\u001b[0m                 \u001b[0;32mraise\u001b[0m \u001b[0mValueError\u001b[0m\u001b[0;34m(\u001b[0m\u001b[0;34m'Trying to assign a sequence to an item'\u001b[0m\u001b[0;34m)\u001b[0m\u001b[0;34m\u001b[0m\u001b[0;34m\u001b[0m\u001b[0m\n\u001b[0;32m---> 84\u001b[0;31m             \u001b[0mself\u001b[0m\u001b[0;34m.\u001b[0m\u001b[0m_set_intXint\u001b[0m\u001b[0;34m(\u001b[0m\u001b[0mrow\u001b[0m\u001b[0;34m,\u001b[0m \u001b[0mcol\u001b[0m\u001b[0;34m,\u001b[0m \u001b[0mx\u001b[0m\u001b[0;34m.\u001b[0m\u001b[0mflat\u001b[0m\u001b[0;34m[\u001b[0m\u001b[0;36m0\u001b[0m\u001b[0;34m]\u001b[0m\u001b[0;34m)\u001b[0m\u001b[0;34m\u001b[0m\u001b[0;34m\u001b[0m\u001b[0m\n\u001b[0m\u001b[1;32m     85\u001b[0m             \u001b[0;32mreturn\u001b[0m\u001b[0;34m\u001b[0m\u001b[0;34m\u001b[0m\u001b[0m\n\u001b[1;32m     86\u001b[0m \u001b[0;34m\u001b[0m\u001b[0m\n",
            "\u001b[0;32m/usr/local/lib/python3.6/dist-packages/scipy/sparse/compressed.py\u001b[0m in \u001b[0;36m_set_intXint\u001b[0;34m(self, row, col, x)\u001b[0m\n\u001b[1;32m    796\u001b[0m     \u001b[0;32mdef\u001b[0m \u001b[0m_set_intXint\u001b[0m\u001b[0;34m(\u001b[0m\u001b[0mself\u001b[0m\u001b[0;34m,\u001b[0m \u001b[0mrow\u001b[0m\u001b[0;34m,\u001b[0m \u001b[0mcol\u001b[0m\u001b[0;34m,\u001b[0m \u001b[0mx\u001b[0m\u001b[0;34m)\u001b[0m\u001b[0;34m:\u001b[0m\u001b[0;34m\u001b[0m\u001b[0;34m\u001b[0m\u001b[0m\n\u001b[1;32m    797\u001b[0m         \u001b[0mi\u001b[0m\u001b[0;34m,\u001b[0m \u001b[0mj\u001b[0m \u001b[0;34m=\u001b[0m \u001b[0mself\u001b[0m\u001b[0;34m.\u001b[0m\u001b[0m_swap\u001b[0m\u001b[0;34m(\u001b[0m\u001b[0;34m(\u001b[0m\u001b[0mrow\u001b[0m\u001b[0;34m,\u001b[0m \u001b[0mcol\u001b[0m\u001b[0;34m)\u001b[0m\u001b[0;34m)\u001b[0m\u001b[0;34m\u001b[0m\u001b[0;34m\u001b[0m\u001b[0m\n\u001b[0;32m--> 798\u001b[0;31m         \u001b[0mself\u001b[0m\u001b[0;34m.\u001b[0m\u001b[0m_set_many\u001b[0m\u001b[0;34m(\u001b[0m\u001b[0mi\u001b[0m\u001b[0;34m,\u001b[0m \u001b[0mj\u001b[0m\u001b[0;34m,\u001b[0m \u001b[0mx\u001b[0m\u001b[0;34m)\u001b[0m\u001b[0;34m\u001b[0m\u001b[0;34m\u001b[0m\u001b[0m\n\u001b[0m\u001b[1;32m    799\u001b[0m \u001b[0;34m\u001b[0m\u001b[0m\n\u001b[1;32m    800\u001b[0m     \u001b[0;32mdef\u001b[0m \u001b[0m_set_arrayXarray\u001b[0m\u001b[0;34m(\u001b[0m\u001b[0mself\u001b[0m\u001b[0;34m,\u001b[0m \u001b[0mrow\u001b[0m\u001b[0;34m,\u001b[0m \u001b[0mcol\u001b[0m\u001b[0;34m,\u001b[0m \u001b[0mx\u001b[0m\u001b[0;34m)\u001b[0m\u001b[0;34m:\u001b[0m\u001b[0;34m\u001b[0m\u001b[0;34m\u001b[0m\u001b[0m\n",
            "\u001b[0;32m/usr/local/lib/python3.6/dist-packages/scipy/sparse/compressed.py\u001b[0m in \u001b[0;36m_set_many\u001b[0;34m(self, i, j, x)\u001b[0m\n\u001b[1;32m    909\u001b[0m             \u001b[0mj\u001b[0m \u001b[0;34m=\u001b[0m \u001b[0mj\u001b[0m\u001b[0;34m[\u001b[0m\u001b[0mmask\u001b[0m\u001b[0;34m]\u001b[0m\u001b[0;34m\u001b[0m\u001b[0;34m\u001b[0m\u001b[0m\n\u001b[1;32m    910\u001b[0m             \u001b[0mj\u001b[0m\u001b[0;34m[\u001b[0m\u001b[0mj\u001b[0m \u001b[0;34m<\u001b[0m \u001b[0;36m0\u001b[0m\u001b[0;34m]\u001b[0m \u001b[0;34m+=\u001b[0m \u001b[0mN\u001b[0m\u001b[0;34m\u001b[0m\u001b[0;34m\u001b[0m\u001b[0m\n\u001b[0;32m--> 911\u001b[0;31m             \u001b[0mself\u001b[0m\u001b[0;34m.\u001b[0m\u001b[0m_insert_many\u001b[0m\u001b[0;34m(\u001b[0m\u001b[0mi\u001b[0m\u001b[0;34m,\u001b[0m \u001b[0mj\u001b[0m\u001b[0;34m,\u001b[0m \u001b[0mx\u001b[0m\u001b[0;34m[\u001b[0m\u001b[0mmask\u001b[0m\u001b[0;34m]\u001b[0m\u001b[0;34m)\u001b[0m\u001b[0;34m\u001b[0m\u001b[0;34m\u001b[0m\u001b[0m\n\u001b[0m\u001b[1;32m    912\u001b[0m \u001b[0;34m\u001b[0m\u001b[0m\n\u001b[1;32m    913\u001b[0m     \u001b[0;32mdef\u001b[0m \u001b[0m_zero_many\u001b[0m\u001b[0;34m(\u001b[0m\u001b[0mself\u001b[0m\u001b[0;34m,\u001b[0m \u001b[0mi\u001b[0m\u001b[0;34m,\u001b[0m \u001b[0mj\u001b[0m\u001b[0;34m)\u001b[0m\u001b[0;34m:\u001b[0m\u001b[0;34m\u001b[0m\u001b[0;34m\u001b[0m\u001b[0m\n",
            "\u001b[0;32m/usr/local/lib/python3.6/dist-packages/scipy/sparse/compressed.py\u001b[0m in \u001b[0;36m_insert_many\u001b[0;34m(self, i, j, x)\u001b[0m\n\u001b[1;32m    987\u001b[0m \u001b[0;34m\u001b[0m\u001b[0m\n\u001b[1;32m    988\u001b[0m         \u001b[0;31m# update attributes\u001b[0m\u001b[0;34m\u001b[0m\u001b[0;34m\u001b[0m\u001b[0;34m\u001b[0m\u001b[0m\n\u001b[0;32m--> 989\u001b[0;31m         \u001b[0mself\u001b[0m\u001b[0;34m.\u001b[0m\u001b[0mindices\u001b[0m \u001b[0;34m=\u001b[0m \u001b[0mnp\u001b[0m\u001b[0;34m.\u001b[0m\u001b[0mconcatenate\u001b[0m\u001b[0;34m(\u001b[0m\u001b[0mindices_parts\u001b[0m\u001b[0;34m)\u001b[0m\u001b[0;34m\u001b[0m\u001b[0;34m\u001b[0m\u001b[0m\n\u001b[0m\u001b[1;32m    990\u001b[0m         \u001b[0mself\u001b[0m\u001b[0;34m.\u001b[0m\u001b[0mdata\u001b[0m \u001b[0;34m=\u001b[0m \u001b[0mnp\u001b[0m\u001b[0;34m.\u001b[0m\u001b[0mconcatenate\u001b[0m\u001b[0;34m(\u001b[0m\u001b[0mdata_parts\u001b[0m\u001b[0;34m)\u001b[0m\u001b[0;34m\u001b[0m\u001b[0;34m\u001b[0m\u001b[0m\n\u001b[1;32m    991\u001b[0m         \u001b[0mnnzs\u001b[0m \u001b[0;34m=\u001b[0m \u001b[0mnp\u001b[0m\u001b[0;34m.\u001b[0m\u001b[0mempty\u001b[0m\u001b[0;34m(\u001b[0m\u001b[0mself\u001b[0m\u001b[0;34m.\u001b[0m\u001b[0mindptr\u001b[0m\u001b[0;34m.\u001b[0m\u001b[0mshape\u001b[0m\u001b[0;34m,\u001b[0m \u001b[0mdtype\u001b[0m\u001b[0;34m=\u001b[0m\u001b[0midx_dtype\u001b[0m\u001b[0;34m)\u001b[0m\u001b[0;34m\u001b[0m\u001b[0;34m\u001b[0m\u001b[0m\n",
            "\u001b[0;32m<__array_function__ internals>\u001b[0m in \u001b[0;36mconcatenate\u001b[0;34m(*args, **kwargs)\u001b[0m\n",
            "\u001b[0;31mKeyboardInterrupt\u001b[0m: "
          ]
        }
      ]
    },
    {
      "cell_type": "code",
      "metadata": {
        "id": "EY0I-kQ0Wqfe",
        "colab_type": "code",
        "colab": {
          "base_uri": "https://localhost:8080/",
          "height": 400
        },
        "outputId": "1fa3594f-4b64-4906-9df5-adfe46757d6d"
      },
      "source": [
        "def retrofit(tfidf_matrix, lexicon, concept2id, numIters=1):\n",
        "  '''newWordVecs = deepcopy(wordVecs)\n",
        "  wvVocab = set(newWordVecs.keys())\n",
        "  loopVocab = wvVocab.intersection(set(lexicon.keys()))\n",
        "  for it in range(numIters):\n",
        "    # loop through every node also in ontology (else just use data estimate)\n",
        "    for word in loopVocab:\n",
        "      wordNeighbours = set(lexicon[word]).intersection(wvVocab)\n",
        "      numNeighbours = len(wordNeighbours)\n",
        "      #no neighbours, pass - use data estimate\n",
        "      if numNeighbours == 0:\n",
        "        continue'''\n",
        "\n",
        "  cvVocab = set([concept for _, concept in id2concept.items()])\n",
        "  loopVocab = cvVocab.intersection(set(lexicon.keys()))\n",
        "  print(len(loopVocab), len(cvVocab), len(set(lexicon.keys())))\n",
        "  for it in range(numIters):\n",
        "    # loop through every node also in ontology (else just use data estimate)\n",
        "    for concept in loopVocab:\n",
        "      conceptNeighbours = set(lexicon[concept]).intersection(cvVocab)\n",
        "      numNeighbours = len(conceptNeighbours)\n",
        "      #no neighbours, pass - use data estimate\n",
        "      if numNeighbours == 0:\n",
        "        continue\n",
        "\n",
        "\n",
        "      '''# the weight of the data estimate if the number of neighbours\n",
        "      newVec = numNeighbours * wordVecs[word]\n",
        "      # loop over neighbours and add to new vector (currently with weight 1)\n",
        "      for ppWord in wordNeighbours:\n",
        "        newVec += newWordVecs[ppWord]\n",
        "      newWordVecs[word] = newVec/(2*numNeighbours)'''\n",
        "      start = time.time()\n",
        "      concept_id = concept2id[concept]\n",
        "      newVec = numNeighbours * tfidf_matrix[:, concept_id].toarray()\n",
        "      for ppConcept in conceptNeighbours:\n",
        "        ppConcept_id = concept2id[ppConcept]\n",
        "        newVec += tfidf_matrix[:, ppConcept_id].toarray()\n",
        "      newVec = newVec/(2*numNeighbours)\n",
        "      for row_index, value in enumerate(newVec):\n",
        "        tfidf_matrix[row_index, concept_id] = value\n",
        "      print('Took =>', time.time()-start,'s(seconds)')\n",
        "      break\n",
        "\n",
        "  return\n",
        "\n",
        "concept2id = {value:key for key, value in id2concept.items()}\n",
        "tfidf_matrix = tfidf_matrix.tocsr()\n",
        "retrofit(tfidf_matrix, lexicon, concept2id)"
      ],
      "execution_count": null,
      "outputs": [
        {
          "output_type": "stream",
          "text": [
            "175559 175870 175820\n"
          ],
          "name": "stdout"
        },
        {
          "output_type": "stream",
          "text": [
            "/usr/local/lib/python3.6/dist-packages/scipy/sparse/_index.py:84: SparseEfficiencyWarning: Changing the sparsity structure of a csr_matrix is expensive. lil_matrix is more efficient.\n",
            "  self._set_intXint(row, col, x.flat[0])\n"
          ],
          "name": "stderr"
        },
        {
          "output_type": "error",
          "ename": "KeyboardInterrupt",
          "evalue": "ignored",
          "traceback": [
            "\u001b[0;31m---------------------------------------------------------------------------\u001b[0m",
            "\u001b[0;31mKeyboardInterrupt\u001b[0m                         Traceback (most recent call last)",
            "\u001b[0;32m<ipython-input-29-637d69f27ac0>\u001b[0m in \u001b[0;36m<module>\u001b[0;34m()\u001b[0m\n\u001b[1;32m     47\u001b[0m \u001b[0mconcept2id\u001b[0m \u001b[0;34m=\u001b[0m \u001b[0;34m{\u001b[0m\u001b[0mvalue\u001b[0m\u001b[0;34m:\u001b[0m\u001b[0mkey\u001b[0m \u001b[0;32mfor\u001b[0m \u001b[0mkey\u001b[0m\u001b[0;34m,\u001b[0m \u001b[0mvalue\u001b[0m \u001b[0;32min\u001b[0m \u001b[0mid2concept\u001b[0m\u001b[0;34m.\u001b[0m\u001b[0mitems\u001b[0m\u001b[0;34m(\u001b[0m\u001b[0;34m)\u001b[0m\u001b[0;34m}\u001b[0m\u001b[0;34m\u001b[0m\u001b[0;34m\u001b[0m\u001b[0m\n\u001b[1;32m     48\u001b[0m \u001b[0mtfidf_matrix\u001b[0m \u001b[0;34m=\u001b[0m \u001b[0mtfidf_matrix\u001b[0m\u001b[0;34m.\u001b[0m\u001b[0mtocsr\u001b[0m\u001b[0;34m(\u001b[0m\u001b[0;34m)\u001b[0m\u001b[0;34m\u001b[0m\u001b[0;34m\u001b[0m\u001b[0m\n\u001b[0;32m---> 49\u001b[0;31m \u001b[0mretrofit\u001b[0m\u001b[0;34m(\u001b[0m\u001b[0mtfidf_matrix\u001b[0m\u001b[0;34m,\u001b[0m \u001b[0mlexicon\u001b[0m\u001b[0;34m,\u001b[0m \u001b[0mconcept2id\u001b[0m\u001b[0;34m)\u001b[0m\u001b[0;34m\u001b[0m\u001b[0;34m\u001b[0m\u001b[0m\n\u001b[0m",
            "\u001b[0;32m<ipython-input-29-637d69f27ac0>\u001b[0m in \u001b[0;36mretrofit\u001b[0;34m(tfidf_matrix, lexicon, concept2id, numIters)\u001b[0m\n\u001b[1;32m     39\u001b[0m       \u001b[0mnewVec\u001b[0m \u001b[0;34m=\u001b[0m \u001b[0mnewVec\u001b[0m\u001b[0;34m/\u001b[0m\u001b[0;34m(\u001b[0m\u001b[0;36m2\u001b[0m\u001b[0;34m*\u001b[0m\u001b[0mnumNeighbours\u001b[0m\u001b[0;34m)\u001b[0m\u001b[0;34m\u001b[0m\u001b[0;34m\u001b[0m\u001b[0m\n\u001b[1;32m     40\u001b[0m       \u001b[0;32mfor\u001b[0m \u001b[0mrow_index\u001b[0m\u001b[0;34m,\u001b[0m \u001b[0mvalue\u001b[0m \u001b[0;32min\u001b[0m \u001b[0menumerate\u001b[0m\u001b[0;34m(\u001b[0m\u001b[0mnewVec\u001b[0m\u001b[0;34m)\u001b[0m\u001b[0;34m:\u001b[0m\u001b[0;34m\u001b[0m\u001b[0;34m\u001b[0m\u001b[0m\n\u001b[0;32m---> 41\u001b[0;31m         \u001b[0mtfidf_matrix\u001b[0m\u001b[0;34m[\u001b[0m\u001b[0mrow_index\u001b[0m\u001b[0;34m,\u001b[0m \u001b[0mconcept_id\u001b[0m\u001b[0;34m]\u001b[0m \u001b[0;34m=\u001b[0m \u001b[0mvalue\u001b[0m\u001b[0;34m\u001b[0m\u001b[0;34m\u001b[0m\u001b[0m\n\u001b[0m\u001b[1;32m     42\u001b[0m       \u001b[0mprint\u001b[0m\u001b[0;34m(\u001b[0m\u001b[0;34m'Took =>'\u001b[0m\u001b[0;34m,\u001b[0m \u001b[0mtime\u001b[0m\u001b[0;34m.\u001b[0m\u001b[0mtime\u001b[0m\u001b[0;34m(\u001b[0m\u001b[0;34m)\u001b[0m\u001b[0;34m-\u001b[0m\u001b[0mstart\u001b[0m\u001b[0;34m,\u001b[0m\u001b[0;34m's(seconds)'\u001b[0m\u001b[0;34m)\u001b[0m\u001b[0;34m\u001b[0m\u001b[0;34m\u001b[0m\u001b[0m\n\u001b[1;32m     43\u001b[0m       \u001b[0;32mbreak\u001b[0m\u001b[0;34m\u001b[0m\u001b[0;34m\u001b[0m\u001b[0m\n",
            "\u001b[0;32m/usr/local/lib/python3.6/dist-packages/scipy/sparse/_index.py\u001b[0m in \u001b[0;36m__setitem__\u001b[0;34m(self, key, x)\u001b[0m\n\u001b[1;32m     82\u001b[0m             \u001b[0;32mif\u001b[0m \u001b[0mx\u001b[0m\u001b[0;34m.\u001b[0m\u001b[0msize\u001b[0m \u001b[0;34m!=\u001b[0m \u001b[0;36m1\u001b[0m\u001b[0;34m:\u001b[0m\u001b[0;34m\u001b[0m\u001b[0;34m\u001b[0m\u001b[0m\n\u001b[1;32m     83\u001b[0m                 \u001b[0;32mraise\u001b[0m \u001b[0mValueError\u001b[0m\u001b[0;34m(\u001b[0m\u001b[0;34m'Trying to assign a sequence to an item'\u001b[0m\u001b[0;34m)\u001b[0m\u001b[0;34m\u001b[0m\u001b[0;34m\u001b[0m\u001b[0m\n\u001b[0;32m---> 84\u001b[0;31m             \u001b[0mself\u001b[0m\u001b[0;34m.\u001b[0m\u001b[0m_set_intXint\u001b[0m\u001b[0;34m(\u001b[0m\u001b[0mrow\u001b[0m\u001b[0;34m,\u001b[0m \u001b[0mcol\u001b[0m\u001b[0;34m,\u001b[0m \u001b[0mx\u001b[0m\u001b[0;34m.\u001b[0m\u001b[0mflat\u001b[0m\u001b[0;34m[\u001b[0m\u001b[0;36m0\u001b[0m\u001b[0;34m]\u001b[0m\u001b[0;34m)\u001b[0m\u001b[0;34m\u001b[0m\u001b[0;34m\u001b[0m\u001b[0m\n\u001b[0m\u001b[1;32m     85\u001b[0m             \u001b[0;32mreturn\u001b[0m\u001b[0;34m\u001b[0m\u001b[0;34m\u001b[0m\u001b[0m\n\u001b[1;32m     86\u001b[0m \u001b[0;34m\u001b[0m\u001b[0m\n",
            "\u001b[0;32m/usr/local/lib/python3.6/dist-packages/scipy/sparse/compressed.py\u001b[0m in \u001b[0;36m_set_intXint\u001b[0;34m(self, row, col, x)\u001b[0m\n\u001b[1;32m    796\u001b[0m     \u001b[0;32mdef\u001b[0m \u001b[0m_set_intXint\u001b[0m\u001b[0;34m(\u001b[0m\u001b[0mself\u001b[0m\u001b[0;34m,\u001b[0m \u001b[0mrow\u001b[0m\u001b[0;34m,\u001b[0m \u001b[0mcol\u001b[0m\u001b[0;34m,\u001b[0m \u001b[0mx\u001b[0m\u001b[0;34m)\u001b[0m\u001b[0;34m:\u001b[0m\u001b[0;34m\u001b[0m\u001b[0;34m\u001b[0m\u001b[0m\n\u001b[1;32m    797\u001b[0m         \u001b[0mi\u001b[0m\u001b[0;34m,\u001b[0m \u001b[0mj\u001b[0m \u001b[0;34m=\u001b[0m \u001b[0mself\u001b[0m\u001b[0;34m.\u001b[0m\u001b[0m_swap\u001b[0m\u001b[0;34m(\u001b[0m\u001b[0;34m(\u001b[0m\u001b[0mrow\u001b[0m\u001b[0;34m,\u001b[0m \u001b[0mcol\u001b[0m\u001b[0;34m)\u001b[0m\u001b[0;34m)\u001b[0m\u001b[0;34m\u001b[0m\u001b[0;34m\u001b[0m\u001b[0m\n\u001b[0;32m--> 798\u001b[0;31m         \u001b[0mself\u001b[0m\u001b[0;34m.\u001b[0m\u001b[0m_set_many\u001b[0m\u001b[0;34m(\u001b[0m\u001b[0mi\u001b[0m\u001b[0;34m,\u001b[0m \u001b[0mj\u001b[0m\u001b[0;34m,\u001b[0m \u001b[0mx\u001b[0m\u001b[0;34m)\u001b[0m\u001b[0;34m\u001b[0m\u001b[0;34m\u001b[0m\u001b[0m\n\u001b[0m\u001b[1;32m    799\u001b[0m \u001b[0;34m\u001b[0m\u001b[0m\n\u001b[1;32m    800\u001b[0m     \u001b[0;32mdef\u001b[0m \u001b[0m_set_arrayXarray\u001b[0m\u001b[0;34m(\u001b[0m\u001b[0mself\u001b[0m\u001b[0;34m,\u001b[0m \u001b[0mrow\u001b[0m\u001b[0;34m,\u001b[0m \u001b[0mcol\u001b[0m\u001b[0;34m,\u001b[0m \u001b[0mx\u001b[0m\u001b[0;34m)\u001b[0m\u001b[0;34m:\u001b[0m\u001b[0;34m\u001b[0m\u001b[0;34m\u001b[0m\u001b[0m\n",
            "\u001b[0;32m/usr/local/lib/python3.6/dist-packages/scipy/sparse/compressed.py\u001b[0m in \u001b[0;36m_set_many\u001b[0;34m(self, i, j, x)\u001b[0m\n\u001b[1;32m    909\u001b[0m             \u001b[0mj\u001b[0m \u001b[0;34m=\u001b[0m \u001b[0mj\u001b[0m\u001b[0;34m[\u001b[0m\u001b[0mmask\u001b[0m\u001b[0;34m]\u001b[0m\u001b[0;34m\u001b[0m\u001b[0;34m\u001b[0m\u001b[0m\n\u001b[1;32m    910\u001b[0m             \u001b[0mj\u001b[0m\u001b[0;34m[\u001b[0m\u001b[0mj\u001b[0m \u001b[0;34m<\u001b[0m \u001b[0;36m0\u001b[0m\u001b[0;34m]\u001b[0m \u001b[0;34m+=\u001b[0m \u001b[0mN\u001b[0m\u001b[0;34m\u001b[0m\u001b[0;34m\u001b[0m\u001b[0m\n\u001b[0;32m--> 911\u001b[0;31m             \u001b[0mself\u001b[0m\u001b[0;34m.\u001b[0m\u001b[0m_insert_many\u001b[0m\u001b[0;34m(\u001b[0m\u001b[0mi\u001b[0m\u001b[0;34m,\u001b[0m \u001b[0mj\u001b[0m\u001b[0;34m,\u001b[0m \u001b[0mx\u001b[0m\u001b[0;34m[\u001b[0m\u001b[0mmask\u001b[0m\u001b[0;34m]\u001b[0m\u001b[0;34m)\u001b[0m\u001b[0;34m\u001b[0m\u001b[0;34m\u001b[0m\u001b[0m\n\u001b[0m\u001b[1;32m    912\u001b[0m \u001b[0;34m\u001b[0m\u001b[0m\n\u001b[1;32m    913\u001b[0m     \u001b[0;32mdef\u001b[0m \u001b[0m_zero_many\u001b[0m\u001b[0;34m(\u001b[0m\u001b[0mself\u001b[0m\u001b[0;34m,\u001b[0m \u001b[0mi\u001b[0m\u001b[0;34m,\u001b[0m \u001b[0mj\u001b[0m\u001b[0;34m)\u001b[0m\u001b[0;34m:\u001b[0m\u001b[0;34m\u001b[0m\u001b[0;34m\u001b[0m\u001b[0m\n",
            "\u001b[0;32m/usr/local/lib/python3.6/dist-packages/scipy/sparse/compressed.py\u001b[0m in \u001b[0;36m_insert_many\u001b[0;34m(self, i, j, x)\u001b[0m\n\u001b[1;32m    999\u001b[0m             \u001b[0;31m# TODO: only sort where necessary\u001b[0m\u001b[0;34m\u001b[0m\u001b[0;34m\u001b[0m\u001b[0;34m\u001b[0m\u001b[0m\n\u001b[1;32m   1000\u001b[0m             \u001b[0mself\u001b[0m\u001b[0;34m.\u001b[0m\u001b[0mhas_sorted_indices\u001b[0m \u001b[0;34m=\u001b[0m \u001b[0;32mFalse\u001b[0m\u001b[0;34m\u001b[0m\u001b[0;34m\u001b[0m\u001b[0m\n\u001b[0;32m-> 1001\u001b[0;31m             \u001b[0mself\u001b[0m\u001b[0;34m.\u001b[0m\u001b[0msort_indices\u001b[0m\u001b[0;34m(\u001b[0m\u001b[0;34m)\u001b[0m\u001b[0;34m\u001b[0m\u001b[0;34m\u001b[0m\u001b[0m\n\u001b[0m\u001b[1;32m   1002\u001b[0m \u001b[0;34m\u001b[0m\u001b[0m\n\u001b[1;32m   1003\u001b[0m         \u001b[0mself\u001b[0m\u001b[0;34m.\u001b[0m\u001b[0mcheck_format\u001b[0m\u001b[0;34m(\u001b[0m\u001b[0mfull_check\u001b[0m\u001b[0;34m=\u001b[0m\u001b[0;32mFalse\u001b[0m\u001b[0;34m)\u001b[0m\u001b[0;34m\u001b[0m\u001b[0;34m\u001b[0m\u001b[0m\n",
            "\u001b[0;32m/usr/local/lib/python3.6/dist-packages/scipy/sparse/compressed.py\u001b[0m in \u001b[0;36msort_indices\u001b[0;34m(self)\u001b[0m\n\u001b[1;32m   1135\u001b[0m         \u001b[0;32mif\u001b[0m \u001b[0;32mnot\u001b[0m \u001b[0mself\u001b[0m\u001b[0;34m.\u001b[0m\u001b[0mhas_sorted_indices\u001b[0m\u001b[0;34m:\u001b[0m\u001b[0;34m\u001b[0m\u001b[0;34m\u001b[0m\u001b[0m\n\u001b[1;32m   1136\u001b[0m             _sparsetools.csr_sort_indices(len(self.indptr) - 1, self.indptr,\n\u001b[0;32m-> 1137\u001b[0;31m                                           self.indices, self.data)\n\u001b[0m\u001b[1;32m   1138\u001b[0m             \u001b[0mself\u001b[0m\u001b[0;34m.\u001b[0m\u001b[0mhas_sorted_indices\u001b[0m \u001b[0;34m=\u001b[0m \u001b[0;32mTrue\u001b[0m\u001b[0;34m\u001b[0m\u001b[0;34m\u001b[0m\u001b[0m\n\u001b[1;32m   1139\u001b[0m \u001b[0;34m\u001b[0m\u001b[0m\n",
            "\u001b[0;31mKeyboardInterrupt\u001b[0m: "
          ]
        }
      ]
    },
    {
      "cell_type": "code",
      "metadata": {
        "id": "u-L9glOocScK",
        "colab_type": "code",
        "colab": {
          "base_uri": "https://localhost:8080/",
          "height": 486
        },
        "outputId": "17140c06-a8e0-47e7-8c44-0a32001ea8c6"
      },
      "source": [
        "def retrofit(tfidf_matrix, lexicon, concept2id, numIters=1):\n",
        "  '''newWordVecs = deepcopy(wordVecs)\n",
        "  wvVocab = set(newWordVecs.keys())\n",
        "  loopVocab = wvVocab.intersection(set(lexicon.keys()))\n",
        "  for it in range(numIters):\n",
        "    # loop through every node also in ontology (else just use data estimate)\n",
        "    for word in loopVocab:\n",
        "      wordNeighbours = set(lexicon[word]).intersection(wvVocab)\n",
        "      numNeighbours = len(wordNeighbours)\n",
        "      #no neighbours, pass - use data estimate\n",
        "      if numNeighbours == 0:\n",
        "        continue'''\n",
        "\n",
        "  cvVocab = set([concept for _, concept in id2concept.items()])\n",
        "  loopVocab = cvVocab.intersection(set(lexicon.keys()))\n",
        "  print(len(loopVocab), len(cvVocab), len(set(lexicon.keys())))\n",
        "  for it in range(numIters):\n",
        "    # loop through every node also in ontology (else just use data estimate)\n",
        "    for concept in loopVocab:\n",
        "      conceptNeighbours = set(lexicon[concept]).intersection(cvVocab)\n",
        "      numNeighbours = len(conceptNeighbours)\n",
        "      #no neighbours, pass - use data estimate\n",
        "      if numNeighbours == 0:\n",
        "        continue\n",
        "\n",
        "\n",
        "      '''# the weight of the data estimate if the number of neighbours\n",
        "      newVec = numNeighbours * wordVecs[word]\n",
        "      # loop over neighbours and add to new vector (currently with weight 1)\n",
        "      for ppWord in wordNeighbours:\n",
        "        newVec += newWordVecs[ppWord]\n",
        "      newWordVecs[word] = newVec/(2*numNeighbours)'''\n",
        "      start = time.time()\n",
        "      concept_id = concept2id[concept]\n",
        "      newVec = numNeighbours * tfidf_matrix[:, concept_id].toarray()\n",
        "      for ppConcept in conceptNeighbours:\n",
        "        ppConcept_id = concept2id[ppConcept]\n",
        "        newVec += tfidf_matrix[:, ppConcept_id].toarray()\n",
        "      newVec = newVec/(2*numNeighbours)\n",
        "      for row_index, value in enumerate(newVec):\n",
        "        tfidf_matrix[row_index, concept_id] = value\n",
        "      print('Took =>', time.time()-start,'s(seconds)')\n",
        "      break\n",
        "\n",
        "  return\n",
        "\n",
        "concept2id = {value:key for key, value in id2concept.items()}\n",
        "tfidf_matrix = tfidf_matrix.tobsr()\n",
        "retrofit(tfidf_matrix, lexicon, concept2id)"
      ],
      "execution_count": null,
      "outputs": [
        {
          "output_type": "stream",
          "text": [
            "175559 175870 175820\n"
          ],
          "name": "stdout"
        },
        {
          "output_type": "error",
          "ename": "NotImplementedError",
          "evalue": "ignored",
          "traceback": [
            "\u001b[0;31m---------------------------------------------------------------------------\u001b[0m",
            "\u001b[0;31mNotImplementedError\u001b[0m                       Traceback (most recent call last)",
            "\u001b[0;32m<ipython-input-32-cfaecf23ccaf>\u001b[0m in \u001b[0;36m<module>\u001b[0;34m()\u001b[0m\n\u001b[1;32m     47\u001b[0m \u001b[0mconcept2id\u001b[0m \u001b[0;34m=\u001b[0m \u001b[0;34m{\u001b[0m\u001b[0mvalue\u001b[0m\u001b[0;34m:\u001b[0m\u001b[0mkey\u001b[0m \u001b[0;32mfor\u001b[0m \u001b[0mkey\u001b[0m\u001b[0;34m,\u001b[0m \u001b[0mvalue\u001b[0m \u001b[0;32min\u001b[0m \u001b[0mid2concept\u001b[0m\u001b[0;34m.\u001b[0m\u001b[0mitems\u001b[0m\u001b[0;34m(\u001b[0m\u001b[0;34m)\u001b[0m\u001b[0;34m}\u001b[0m\u001b[0;34m\u001b[0m\u001b[0;34m\u001b[0m\u001b[0m\n\u001b[1;32m     48\u001b[0m \u001b[0mtfidf_matrix\u001b[0m \u001b[0;34m=\u001b[0m \u001b[0mtfidf_matrix\u001b[0m\u001b[0;34m.\u001b[0m\u001b[0mtobsr\u001b[0m\u001b[0;34m(\u001b[0m\u001b[0;34m)\u001b[0m\u001b[0;34m\u001b[0m\u001b[0;34m\u001b[0m\u001b[0m\n\u001b[0;32m---> 49\u001b[0;31m \u001b[0mretrofit\u001b[0m\u001b[0;34m(\u001b[0m\u001b[0mtfidf_matrix\u001b[0m\u001b[0;34m,\u001b[0m \u001b[0mlexicon\u001b[0m\u001b[0;34m,\u001b[0m \u001b[0mconcept2id\u001b[0m\u001b[0;34m)\u001b[0m\u001b[0;34m\u001b[0m\u001b[0;34m\u001b[0m\u001b[0m\n\u001b[0m",
            "\u001b[0;32m<ipython-input-32-cfaecf23ccaf>\u001b[0m in \u001b[0;36mretrofit\u001b[0;34m(tfidf_matrix, lexicon, concept2id, numIters)\u001b[0m\n\u001b[1;32m     33\u001b[0m       \u001b[0mstart\u001b[0m \u001b[0;34m=\u001b[0m \u001b[0mtime\u001b[0m\u001b[0;34m.\u001b[0m\u001b[0mtime\u001b[0m\u001b[0;34m(\u001b[0m\u001b[0;34m)\u001b[0m\u001b[0;34m\u001b[0m\u001b[0;34m\u001b[0m\u001b[0m\n\u001b[1;32m     34\u001b[0m       \u001b[0mconcept_id\u001b[0m \u001b[0;34m=\u001b[0m \u001b[0mconcept2id\u001b[0m\u001b[0;34m[\u001b[0m\u001b[0mconcept\u001b[0m\u001b[0;34m]\u001b[0m\u001b[0;34m\u001b[0m\u001b[0;34m\u001b[0m\u001b[0m\n\u001b[0;32m---> 35\u001b[0;31m       \u001b[0mnewVec\u001b[0m \u001b[0;34m=\u001b[0m \u001b[0mnumNeighbours\u001b[0m \u001b[0;34m*\u001b[0m \u001b[0mtfidf_matrix\u001b[0m\u001b[0;34m[\u001b[0m\u001b[0;34m:\u001b[0m\u001b[0;34m,\u001b[0m \u001b[0mconcept_id\u001b[0m\u001b[0;34m]\u001b[0m\u001b[0;34m.\u001b[0m\u001b[0mtoarray\u001b[0m\u001b[0;34m(\u001b[0m\u001b[0;34m)\u001b[0m\u001b[0;34m\u001b[0m\u001b[0;34m\u001b[0m\u001b[0m\n\u001b[0m\u001b[1;32m     36\u001b[0m       \u001b[0;32mfor\u001b[0m \u001b[0mppConcept\u001b[0m \u001b[0;32min\u001b[0m \u001b[0mconceptNeighbours\u001b[0m\u001b[0;34m:\u001b[0m\u001b[0;34m\u001b[0m\u001b[0;34m\u001b[0m\u001b[0m\n\u001b[1;32m     37\u001b[0m         \u001b[0mppConcept_id\u001b[0m \u001b[0;34m=\u001b[0m \u001b[0mconcept2id\u001b[0m\u001b[0;34m[\u001b[0m\u001b[0mppConcept\u001b[0m\u001b[0;34m]\u001b[0m\u001b[0;34m\u001b[0m\u001b[0;34m\u001b[0m\u001b[0m\n",
            "\u001b[0;32m/usr/local/lib/python3.6/dist-packages/scipy/sparse/bsr.py\u001b[0m in \u001b[0;36m__getitem__\u001b[0;34m(self, key)\u001b[0m\n\u001b[1;32m    315\u001b[0m \u001b[0;34m\u001b[0m\u001b[0m\n\u001b[1;32m    316\u001b[0m     \u001b[0;32mdef\u001b[0m \u001b[0m__getitem__\u001b[0m\u001b[0;34m(\u001b[0m\u001b[0mself\u001b[0m\u001b[0;34m,\u001b[0m\u001b[0mkey\u001b[0m\u001b[0;34m)\u001b[0m\u001b[0;34m:\u001b[0m\u001b[0;34m\u001b[0m\u001b[0;34m\u001b[0m\u001b[0m\n\u001b[0;32m--> 317\u001b[0;31m         \u001b[0;32mraise\u001b[0m \u001b[0mNotImplementedError\u001b[0m\u001b[0;34m\u001b[0m\u001b[0;34m\u001b[0m\u001b[0m\n\u001b[0m\u001b[1;32m    318\u001b[0m \u001b[0;34m\u001b[0m\u001b[0m\n\u001b[1;32m    319\u001b[0m     \u001b[0;32mdef\u001b[0m \u001b[0m__setitem__\u001b[0m\u001b[0;34m(\u001b[0m\u001b[0mself\u001b[0m\u001b[0;34m,\u001b[0m\u001b[0mkey\u001b[0m\u001b[0;34m,\u001b[0m\u001b[0mval\u001b[0m\u001b[0;34m)\u001b[0m\u001b[0;34m:\u001b[0m\u001b[0;34m\u001b[0m\u001b[0;34m\u001b[0m\u001b[0m\n",
            "\u001b[0;31mNotImplementedError\u001b[0m: "
          ]
        }
      ]
    },
    {
      "cell_type": "markdown",
      "metadata": {
        "id": "pi1iiBf5ZHte",
        "colab_type": "text"
      },
      "source": [
        "# Inverted Indexing"
      ]
    },
    {
      "cell_type": "code",
      "metadata": {
        "id": "mu2QrBKkRGR4",
        "colab_type": "code",
        "colab": {
          "base_uri": "https://localhost:8080/",
          "height": 34
        },
        "outputId": "2aea2a02-2bef-4306-9a3d-a6819d0a36db"
      },
      "source": [
        "for key, value in id2concept.items():\n",
        "  if value==\"María del Carmen Herrera Gómez\":\n",
        "    print('Gotcha,', key)"
      ],
      "execution_count": null,
      "outputs": [
        {
          "output_type": "stream",
          "text": [
            "Gotcha, 101760\n"
          ],
          "name": "stdout"
        }
      ]
    },
    {
      "cell_type": "code",
      "metadata": {
        "id": "udJkLcmqofuH",
        "colab_type": "code",
        "colab": {
          "base_uri": "https://localhost:8080/",
          "height": 66,
          "referenced_widgets": [
            "0a635b20c7524b7ca3ced8742f4e4793",
            "b8f0d80299cc441abdf7e42ffba96e74",
            "70dadd21caed4152bb196402c789c98e",
            "ac583f4eac3b4de2bae1c704c70ff1e8",
            "29d12a955dcb41dfbb072afab1b20fb8",
            "07ae9108041641e18d31faa500f4949a",
            "19fde73e0a3c4e0c88f58beefb3e762f",
            "f7148d1419a54132ae0bc4a902898b14"
          ]
        },
        "outputId": "89ffa483-6c73-4a71-c1e0-3debf8c42d4a"
      },
      "source": [
        "# Dictionary with key as word_id and value as list of tuples of form (document_number, tf-idf score of word with word_id)\n",
        "inverted_index = {}\n",
        "# tfidf_matrix = tfidf_matrix.tocsc()\n",
        "\n",
        "# Iterate over each document in corpus. (document is list of tuples of form (word_id,count))\n",
        "for i in tqdm(range(len(corpus))):\n",
        "    # Create dict with key as word_id and value as tf-idf score.\n",
        "    '''tmp = dict(model[corpus[i]])'''\n",
        "    # tmp = {word_id: score[0] for word_id, score in enumerate(tfidf_matrix[:,i].toarray()) if score[0]>0}\n",
        "    tmp = {word_id: score for word_id, score in enumerate(tfidf_matrix[:,i]) if score>0}\n",
        "\n",
        "    # For each word_id.\n",
        "    for key in tmp.keys():\n",
        "      \n",
        "        # tf-idf score\n",
        "        p = tmp[key]\n",
        "# the mean is found to be 0.052 standard deviation is 0.056\n",
        "#         if p < 0.069 + 0.066:\n",
        "#             continue\n",
        "        # Find the word for word_id.\n",
        "        word = id2word[key]\n",
        "        # If word is Bi-Gram.\n",
        "        # if len(word.split('_')) == 2:\n",
        "        #     # ???\n",
        "        #     if p<0.02 + 0.028:\n",
        "        #         continue\n",
        "        # else:\n",
        "        #     # ???\n",
        "        #     if p < 0.02 + 0.036:\n",
        "        #         continue\n",
        "        # inverted_index dictionary with key as word_id and value as list. Add tuple (document_number,tf-idf score of word with word_id) to this list.\n",
        "        try:\n",
        "            r = inverted_index[key]\n",
        "            inverted_index[key].append((i,p))\n",
        "        except:\n",
        "            inverted_index[key] = []\n",
        "            inverted_index[key].append((i,p))"
      ],
      "execution_count": null,
      "outputs": [
        {
          "output_type": "display_data",
          "data": {
            "application/vnd.jupyter.widget-view+json": {
              "model_id": "0a635b20c7524b7ca3ced8742f4e4793",
              "version_minor": 0,
              "version_major": 2
            },
            "text/plain": [
              "HBox(children=(IntProgress(value=0, max=2521), HTML(value='')))"
            ]
          },
          "metadata": {
            "tags": []
          }
        },
        {
          "output_type": "stream",
          "text": [
            "\n"
          ],
          "name": "stdout"
        }
      ]
    },
    {
      "cell_type": "code",
      "metadata": {
        "id": "jIhEFvdlWMiH",
        "colab_type": "code",
        "colab": {
          "base_uri": "https://localhost:8080/",
          "height": 316,
          "referenced_widgets": [
            "5534564789e34408b6d502e6f48bbde6",
            "6eefd8aa93114180af78a200f087ae80",
            "96d81b8df14f4c4980f801024ac17500",
            "4bccaed42164475fad91a776e2fa82d9",
            "295bb34ac43643bbbdd5a3f01254b683",
            "e594098e5ad540f2b04bdabbec6d931e",
            "1e692e7816f7428591c55c5051cc16a9",
            "d92ad12411a641a6b855a1f3270c534b"
          ]
        },
        "outputId": "a9ae7496-0d70-41e7-f120-6bd6909a7bf5"
      },
      "source": [
        "# Find list of all uni-Grams and corresponding Tf-idf in each document. Goal is to find mean and standard deviation of tf-idf scores.\n",
        "# bigrams = []\n",
        "unigrams = []\n",
        "for i in tqdm(range(len(corpus))):\n",
        "    tmp = dict(model[corpus[i]])\n",
        "    for key in tmp.keys():\n",
        "        p = tmp[key]\n",
        "        word = id2word[key]\n",
        "        unigrams.append((word,p))\n",
        "unigrams = np.array(unigrams)\n",
        "# bigrams = np.array(bigrams)\n",
        "print(np.shape(unigrams))\n",
        "arr = (unigrams.T[1]).astype('float64')\n",
        "np.mean(arr) # ???\n",
        "np.sqrt(np.var(arr)) # ???"
      ],
      "execution_count": null,
      "outputs": [
        {
          "output_type": "display_data",
          "data": {
            "application/vnd.jupyter.widget-view+json": {
              "model_id": "5534564789e34408b6d502e6f48bbde6",
              "version_minor": 0,
              "version_major": 2
            },
            "text/plain": [
              "HBox(children=(IntProgress(value=0, max=5287), HTML(value='')))"
            ]
          },
          "metadata": {
            "tags": []
          }
        },
        {
          "output_type": "stream",
          "text": [
            "\n",
            "(3078898, 2)\n"
          ],
          "name": "stdout"
        },
        {
          "output_type": "error",
          "ename": "ValueError",
          "evalue": "ignored",
          "traceback": [
            "\u001b[0;31m---------------------------------------------------------------------------\u001b[0m",
            "\u001b[0;31mValueError\u001b[0m                                Traceback (most recent call last)",
            "\u001b[0;32m<ipython-input-30-0d8b0c741006>\u001b[0m in \u001b[0;36m<module>\u001b[0;34m()\u001b[0m\n\u001b[1;32m      9\u001b[0m \u001b[0;31m# bigrams = np.array(bigrams)\u001b[0m\u001b[0;34m\u001b[0m\u001b[0;34m\u001b[0m\u001b[0;34m\u001b[0m\u001b[0m\n\u001b[1;32m     10\u001b[0m \u001b[0mprint\u001b[0m\u001b[0;34m(\u001b[0m\u001b[0mnp\u001b[0m\u001b[0;34m.\u001b[0m\u001b[0mshape\u001b[0m\u001b[0;34m(\u001b[0m\u001b[0munigrams\u001b[0m\u001b[0;34m)\u001b[0m\u001b[0;34m)\u001b[0m\u001b[0;34m\u001b[0m\u001b[0;34m\u001b[0m\u001b[0m\n\u001b[0;32m---> 11\u001b[0;31m \u001b[0marr\u001b[0m \u001b[0;34m=\u001b[0m \u001b[0;34m(\u001b[0m\u001b[0munigrams\u001b[0m\u001b[0;34m.\u001b[0m\u001b[0mT\u001b[0m\u001b[0;34m)\u001b[0m\u001b[0;34m.\u001b[0m\u001b[0mastype\u001b[0m\u001b[0;34m(\u001b[0m\u001b[0;34m'float64'\u001b[0m\u001b[0;34m)\u001b[0m\u001b[0;34m\u001b[0m\u001b[0;34m\u001b[0m\u001b[0m\n\u001b[0m\u001b[1;32m     12\u001b[0m \u001b[0mnp\u001b[0m\u001b[0;34m.\u001b[0m\u001b[0mmean\u001b[0m\u001b[0;34m(\u001b[0m\u001b[0marr\u001b[0m\u001b[0;34m)\u001b[0m \u001b[0;31m# ???\u001b[0m\u001b[0;34m\u001b[0m\u001b[0;34m\u001b[0m\u001b[0m\n\u001b[1;32m     13\u001b[0m \u001b[0mnp\u001b[0m\u001b[0;34m.\u001b[0m\u001b[0msqrt\u001b[0m\u001b[0;34m(\u001b[0m\u001b[0mnp\u001b[0m\u001b[0;34m.\u001b[0m\u001b[0mvar\u001b[0m\u001b[0;34m(\u001b[0m\u001b[0marr\u001b[0m\u001b[0;34m)\u001b[0m\u001b[0;34m)\u001b[0m \u001b[0;31m# ???\u001b[0m\u001b[0;34m\u001b[0m\u001b[0;34m\u001b[0m\u001b[0m\n",
            "\u001b[0;31mValueError\u001b[0m: could not convert string to float: 'poyntingchemistry'"
          ]
        }
      ]
    },
    {
      "cell_type": "code",
      "metadata": {
        "id": "vAalFgRWofuU",
        "colab_type": "code",
        "colab": {
          "referenced_widgets": [
            "a4d01d48652a4e2eb69146b37ef0acdc"
          ]
        },
        "outputId": "2e5349ec-467e-4f72-bded-af47791a5471"
      },
      "source": [
        "# Find list of all Bi-Grams and corresponding Tf-idf in each document. Goal is to find mean and standard deviation of tf-idf scores.\n",
        "bigrams = []\n",
        "# unigrams = []\n",
        "for i in tqdm(range(len(corpus))):\n",
        "    tmp = dict(model[corpus[i]])\n",
        "    for key in tmp.keys():\n",
        "        p = tmp[key]\n",
        "        word = id2word[key]\n",
        "        if len(word.split('_')) == 2:\n",
        "            bigrams.append((word,p))\n",
        "# unigrams = np.array(unigrams)\n",
        "bigrams = np.array(bigrams)\n",
        "arr = (bigrams.T[1]).astype('float64')\n",
        "np.mean(arr) # 0.0229327151184278\n",
        "np.sqrt(np.var(arr)) # 0.028252774290045416"
      ],
      "execution_count": null,
      "outputs": [
        {
          "output_type": "display_data",
          "data": {
            "application/vnd.jupyter.widget-view+json": {
              "model_id": "a4d01d48652a4e2eb69146b37ef0acdc",
              "version_major": 2,
              "version_minor": 0
            },
            "text/plain": [
              "HBox(children=(FloatProgress(value=0.0, max=5287.0), HTML(value='')))"
            ]
          },
          "metadata": {
            "tags": []
          }
        },
        {
          "output_type": "stream",
          "text": [
            "\n"
          ],
          "name": "stdout"
        }
      ]
    },
    {
      "cell_type": "code",
      "metadata": {
        "id": "uYl7BNfaofvT",
        "colab_type": "code",
        "colab": {},
        "outputId": "5bf5b877-a91c-40fd-ca90-1b427b38cf2c"
      },
      "source": [
        "len(np.where(arr>=0.02 + 0.032)[0])"
      ],
      "execution_count": null,
      "outputs": [
        {
          "output_type": "execute_result",
          "data": {
            "text/plain": [
              "64417"
            ]
          },
          "metadata": {
            "tags": []
          },
          "execution_count": 24
        }
      ]
    },
    {
      "cell_type": "code",
      "metadata": {
        "id": "vIkF4oplofvi",
        "colab_type": "code",
        "colab": {},
        "outputId": "dd4565d5-132f-4c3a-d1b3-8c7fde2afc70"
      },
      "source": [
        "x = (np.where(arr >= 0.2)[0])\n",
        "print(bigrams[x])"
      ],
      "execution_count": null,
      "outputs": [
        {
          "output_type": "stream",
          "text": [
            "[['enough_money' '0.2533101166256896']\n",
            " ['insert_money' '0.22966032701686828']\n",
            " ['state_machine' '0.39142253853209036']\n",
            " ...\n",
            " ['punjab_technical' '0.33705081170805345']\n",
            " ['ranjit_singh' '0.21313837634237864']\n",
            " ['metal_ions' '0.20165527895185367']]\n"
          ],
          "name": "stdout"
        }
      ]
    },
    {
      "cell_type": "code",
      "metadata": {
        "id": "8WIFcXOTofvz",
        "colab_type": "code",
        "colab": {}
      },
      "source": [
        ""
      ],
      "execution_count": null,
      "outputs": []
    },
    {
      "cell_type": "code",
      "metadata": {
        "id": "ovY5uE19ofwE",
        "colab_type": "code",
        "colab": {}
      },
      "source": [
        "plt.hist(val_dist,bins = 'auto')"
      ],
      "execution_count": null,
      "outputs": []
    },
    {
      "cell_type": "code",
      "metadata": {
        "id": "V7LL_m3oofwV",
        "colab_type": "code",
        "colab": {}
      },
      "source": [
        "val_dist = np.array(val_dist)"
      ],
      "execution_count": null,
      "outputs": []
    },
    {
      "cell_type": "code",
      "metadata": {
        "id": "hpI0XAWWofwe",
        "colab_type": "code",
        "colab": {}
      },
      "source": [
        "gauss_dist = (val_dist-np.mean(val_dist))/(np.sqrt(np.var(val_dist)))"
      ],
      "execution_count": null,
      "outputs": []
    },
    {
      "cell_type": "code",
      "metadata": {
        "id": "bW2hOykjofwn",
        "colab_type": "code",
        "colab": {}
      },
      "source": [
        "plt.hist(gauss_dist,bins = 'auto')"
      ],
      "execution_count": null,
      "outputs": []
    },
    {
      "cell_type": "code",
      "metadata": {
        "id": "gyAc6rKAofww",
        "colab_type": "code",
        "colab": {}
      },
      "source": [
        "np.mean(val_dist)"
      ],
      "execution_count": null,
      "outputs": []
    },
    {
      "cell_type": "code",
      "metadata": {
        "id": "ywteeXQFofw3",
        "colab_type": "code",
        "colab": {}
      },
      "source": [
        "np.sqrt(np.var(val_dist))"
      ],
      "execution_count": null,
      "outputs": []
    },
    {
      "cell_type": "code",
      "metadata": {
        "id": "OASOzAwIofxF",
        "colab_type": "code",
        "colab": {},
        "outputId": "599bbff1-5238-4486-bf04-e9f6a45727e8"
      },
      "source": [
        "str('neural_network').split('_')"
      ],
      "execution_count": null,
      "outputs": [
        {
          "output_type": "execute_result",
          "data": {
            "text/plain": [
              "['neural', 'network']"
            ]
          },
          "metadata": {
            "tags": []
          },
          "execution_count": 36
        }
      ]
    },
    {
      "cell_type": "code",
      "metadata": {
        "id": "qkWO5de4ofxN",
        "colab_type": "code",
        "colab": {},
        "outputId": "d5001549-53aa-455b-fd08-4b9e5429a12f"
      },
      "source": [
        "# Print all concepts with the word 'part_geometry' and corresponding tf-idf score.\n",
        "word = 'part_geometry'\n",
        "index = id2word.doc2bow([word])[0][0]\n",
        "tmp = dict(inverted_index[index])\n",
        "tmp = {k: v for k, v in sorted(tmp.items(), key=lambda item: item[1] ,reverse = True)}\n",
        "for key in list(tmp.keys()):\n",
        "    print(id2concept[key],tmp[key])"
      ],
      "execution_count": null,
      "outputs": [
        {
          "output_type": "stream",
          "text": [
            "AutoForm 0.058959956138159825\n"
          ],
          "name": "stdout"
        }
      ]
    },
    {
      "cell_type": "code",
      "metadata": {
        "id": "YXAaY-34ofxT",
        "colab_type": "code",
        "colab": {}
      },
      "source": [
        "# model.save('../models/phrase/wiki_2005/model')\n",
        "# id2word.save('../models/phrase/wiki_2005/id2word')\n",
        "# np.save('../models/phrase/wiki_2005/id2concept.npy', id2concept) \n",
        "# np.save('../models/phrase/wiki_2005/inverted_index.npy', inverted_index) "
      ],
      "execution_count": null,
      "outputs": []
    },
    {
      "cell_type": "code",
      "metadata": {
        "id": "pfJSGTGRofxe",
        "colab_type": "code",
        "colab": {}
      },
      "source": [
        "##start from here\n",
        "# id2concept = np.load('../models/phrase/wiki_2005/id2concept.npy', allow_pickle = \"True\").item()\n",
        "# inverted_index = np.load('../models/phrase/wiki_2005/inverted_index.npy', allow_pickle = \"True\").item()\n",
        "# model = TfidfModel.load('../models/phrase/wiki_2005/model')\n",
        "# id2word = TfidfModel.load('../models/phrase/wiki_2005/id2word')"
      ],
      "execution_count": null,
      "outputs": []
    },
    {
      "cell_type": "code",
      "metadata": {
        "id": "5wF52UMrofxk",
        "colab_type": "code",
        "colab": {}
      },
      "source": [
        "df = pd.read_csv('./Datasets/cleaned_data.csv')\n",
        "stop_words = set(stopwords.words('english'))"
      ],
      "execution_count": null,
      "outputs": []
    },
    {
      "cell_type": "code",
      "metadata": {
        "id": "dU3yeKjQofxs",
        "colab_type": "code",
        "colab": {}
      },
      "source": [
        "# Same function as earlier.\n",
        "def clean_data(d):\n",
        "    res = word_tokenize(d)\n",
        "    res = [token.lower() for token in res]\n",
        "    res = [token for token in res if (token.isalnum()) ]\n",
        "    tokens = []\n",
        "    for token in res:\n",
        "        tmp = ps.stem(token)\n",
        "        if tmp not in stop_words:\n",
        "            tokens.append(token)\n",
        "    # other = []\n",
        "    # for k in bigram_edu[tokens]:\n",
        "    #     if k not in tokens:\n",
        "    #         other.append(k)\n",
        "    # tokens.extend(other)\n",
        "    return tokens\n",
        "\n",
        "# Store each course as 'decription... content... coursename' string.\n",
        "data = []\n",
        "for index,row in df.iterrows():\n",
        "    data.append(row['description']+' '+row['content'] +' ' +row['coursename'])\n",
        "    \n",
        "# Clean the data for each course.\n",
        "dataset = []\n",
        "for d in data:\n",
        "    d = clean_data(d)\n",
        "    dataset.append(d)"
      ],
      "execution_count": null,
      "outputs": []
    },
    {
      "cell_type": "code",
      "metadata": {
        "id": "YKHNQFpUatly",
        "colab_type": "code",
        "colab": {}
      },
      "source": [
        "df.head()"
      ],
      "execution_count": null,
      "outputs": []
    },
    {
      "cell_type": "code",
      "metadata": {
        "id": "XS4ZnWzRofx0",
        "colab_type": "code",
        "colab": {}
      },
      "source": [
        "# Dictionary with key as course index (e.g: 1,2,3,...) and value as course number (e.g: AS2040 - Flight Dynamics I)\n",
        "id2course = {}\n",
        "# Dictionary with key as course number (e.g: AS2040 - Flight Dynamics I) and value as course index (e.g: 1,2,3,...)\n",
        "course2id = {}\n",
        "for index,row in df.iterrows():\n",
        "    id2course[index] = row['course_index']\n",
        "    course2id[row['course_index']] = index"
      ],
      "execution_count": null,
      "outputs": []
    },
    {
      "cell_type": "code",
      "metadata": {
        "id": "_fEAIQWbofx9",
        "colab_type": "code",
        "colab": {}
      },
      "source": [
        "# Maps each unique word(value) to an id(key).\n",
        "id2word_ = Dictionary(dataset)\n",
        "# Maps each id(value) to word(key).\n",
        "word2id_ = {}\n",
        "for i in range(len(id2word_)):\n",
        "    word2id_[id2word_[i]] = i\n",
        "# corpus is list of documents. For each document in dataset create a bag-of-words list with each element of form (word_id,count).\n",
        "corpus_ = [id2word_.doc2bow(line) for line in dataset]\n",
        "# Create the Tf-Idf model.\n",
        "model_ = TfidfModel(corpus_)"
      ],
      "execution_count": null,
      "outputs": []
    },
    {
      "cell_type": "code",
      "metadata": {
        "id": "A1mojo0kofyC",
        "colab_type": "code",
        "colab": {}
      },
      "source": [
        "# Function to map list of tuples of form (word_id from course corpus,tf-idf score) to list of tuples of form (word_id from wiki corpus,tf-idf score)\n",
        "def transfrom_to(tmp):\n",
        "    res = []\n",
        "    for k in tmp:\n",
        "        word = id2word_[k[0]]\n",
        "        r = id2word.doc2bow([word])\n",
        "        if len(r)>0:\n",
        "            # Index/word_id from wikipedia corpus.\n",
        "            index = r[0][0]\n",
        "            # Append (index, tf-idf score)\n",
        "            res.append((index,k[1]))\n",
        "    return res\n",
        "\n",
        "# Function to return list of tuples of form (document/concept number,tf-idf of word in course description x(times) tf-idf of word in concept).\n",
        "def get_concept(tmp):\n",
        "    # word_id in wiki corpus.\n",
        "    index = tmp[0]\n",
        "    # tf-idf score of word.\n",
        "    val = tmp[1]\n",
        "    try:\n",
        "        # inverted_index: Dictionary with key as word_id and value as list of tuples of form (document_number, tf-idf score of word with word_id)\n",
        "        # tmp1 : list of tuples of form (document_number, tf-idf score of word with word_id (here, index))\n",
        "        tmp1 = inverted_index[index]\n",
        "        res = []\n",
        "        for k in tmp1:\n",
        "            # k[0]: document_number/concept_number\n",
        "            # k[1]: tf-idf score of word with word_id in wiki corpus.\n",
        "            res.append((k[0], k[1]*val))\n",
        "        return res\n",
        "    except:\n",
        "        return []\n",
        "\n",
        "# Function that returns Dictionary with key as concept_number and value as sum of tf-idf_word_coursedescription x(times) tf-idf_word_concepts\n",
        "def merged_concept(tmp):\n",
        "    # list of tuples of form (word_id from wiki corpus,tf-idf score)\n",
        "    tmp = transfrom_to(tmp)\n",
        "    # res would be list of lists (one inner list for each word). \n",
        "    # Inner list contains tuples of form (document/concept number,tf-idf of word in course description x(times) tf-idf of word in concept).\n",
        "    res = []\n",
        "    # For word in course description.\n",
        "    for k in tmp:\n",
        "        r = get_concept(k)\n",
        "        if len(r)>0:\n",
        "            res.append(get_concept(k))\n",
        "    ans = {}\n",
        "    for k in res:\n",
        "        # p: tuples of form (document/concept number,tf-idf of word in course description x (times) tf-idf of word in concept)\n",
        "        # p[0]: concept number\n",
        "        # p[1]: tf-idf of word in course description x(times) tf-idf of word in concept\n",
        "        for p in k:\n",
        "            try:\n",
        "                t = ans[p[0]]\n",
        "                ans[p[0]]+=p[1]\n",
        "            except:\n",
        "                ans[p[0]]=p[1]\n",
        "    return ans\n",
        "\n",
        "def tfidf_sim(a,b):\n",
        "    i = course2id[a]\n",
        "    j = course2id[b]\n",
        "    # model_[corpus_[i/j]]: list of tuples of form (word_id from course corpus,tf-idf score) for i/j index document.\n",
        "    # x: Dictionary with key as concept_number and value as sum of tf-idf_word_coursedescription x(times) tf-idf_word_concepts\n",
        "    x = merged_concept(model_[corpus_[i]])\n",
        "    y = merged_concept(model_[corpus_[j]])\n",
        "    # Take intersection of concepts for x & y.\n",
        "    tmp = list(set(x.keys()).intersection(set(y.keys())))\n",
        "    # dot_product of x and y.\n",
        "    val = 0\n",
        "    for k in tmp:\n",
        "        val+=(x[k]*y[k])\n",
        "    den1 = 0\n",
        "    den2 = 0\n",
        "    # norm of x.\n",
        "    for k in x.keys():\n",
        "        den1+=(x[k]**2)\n",
        "    # norm of y.\n",
        "    for k in y.keys():\n",
        "        den2+=(y[k]**2)\n",
        "    # norm_x*norm_y\n",
        "    den = np.sqrt(den1)*np.sqrt(den2)\n",
        "    return val/den # Cosine Similarity"
      ],
      "execution_count": null,
      "outputs": []
    },
    {
      "cell_type": "code",
      "metadata": {
        "id": "JkTOQxigofyJ",
        "colab_type": "code",
        "colab": {},
        "outputId": "cdfaed00-6ecf-42c2-a4db-0b8dadde1b39"
      },
      "source": [
        "# Probably for DEBUGGING...\n",
        "a = 'course provides Concepts of reaction rates. Influence of concentration and temperature. Mixing in chemical reactors. Deterministic and stochastic modelling of reactor systems. Analysis of homogeneous and heterogeneous reactor theory with emphasis on concepts, mathematical formulation and solution for isothermal, adiabatic, non-isothermal non-adiabatic and programmed reactors. Product distribution, stability and optimization in chemical reactors.'\n",
        "a = clean_data(a)\n",
        "print(a)\n",
        "tmp1 = id2word_.doc2bow(a)\n",
        "print(model_[tmp1])\n",
        "y = {k: v for k, v in sorted(merged_concept(tmp1).items(), key=lambda item: item[1], reverse = True)}\n",
        "tmp = list(y.keys())\n",
        "for k in tmp[0:5]:\n",
        "    print(id2concept[k], y[k])"
      ],
      "execution_count": null,
      "outputs": [
        {
          "output_type": "stream",
          "text": [
            "['course', 'provides', 'concepts', 'reaction', 'rates', 'influence', 'concentration', 'temperature', 'mixing', 'chemical', 'reactors', 'deterministic', 'stochastic', 'modelling', 'reactor', 'systems', 'analysis', 'homogeneous', 'heterogeneous', 'reactor', 'theory', 'emphasis', 'concepts', 'mathematical', 'formulation', 'solution', 'isothermal', 'adiabatic', 'programmed', 'reactors', 'product', 'distribution', 'stability', 'optimization', 'chemical', 'reactors', 'course_provides', 'reaction_rates', 'concentration_temperature', 'chemical_reactors', 'deterministic_stochastic', 'homogeneous_heterogeneous', 'mathematical_formulation', 'chemical_reactors']\n",
            "[(12, 0.09275616530779447), (54, 0.0807363841874911), (59, 0.0866690579325808), (77, 0.032705591049422965), (116, 0.04714793278220359), (159, 0.03556012812960253), (217, 0.1497869509195821), (282, 0.15879781215143954), (350, 0.09587245607789228), (394, 0.07748446971128466), (587, 0.10552575145353826), (641, 0.029594657516467858), (734, 0.11893529132890694), (757, 0.08508832465324372), (1234, 0.12826286869083459), (1250, 0.11694788506634836), (1417, 0.09918640472522706), (1579, 0.13407136321930813), (1840, 0.17924761927719668), (2062, 0.10284980499436501), (2077, 0.10036516654845339), (2294, 0.12568612385014963), (2933, 0.10552575145353826), (2936, 0.29028809042063014), (2937, 0.4022140896579244), (3082, 0.16924487227974755), (3124, 0.19334569934918006), (3259, 0.12328723179465954), (4276, 0.14514404521031507), (4286, 0.13407136321930813), (4991, 0.14104871213578085), (5129, 0.35849523855439336), (5142, 0.13738531186664293), (5484, 0.21744652641861253), (5485, 0.21744652641861253), (5486, 0.16148613893607539), (5487, 0.19334569934918006), (5488, 0.21744652641861253)]\n",
            "Chemical reactor 2.6595136985270127\n",
            "Attainable region theory 2.195057544460519\n",
            "Nuclear reactor 1.9083733880355371\n",
            "Continuous stirred-tank reactor 1.4508962410547215\n",
            "Nuclear power in the United States 1.3593435159744585\n"
          ],
          "name": "stdout"
        }
      ]
    },
    {
      "cell_type": "code",
      "metadata": {
        "id": "LYjf1UPoofyR",
        "colab_type": "code",
        "colab": {},
        "outputId": "b240b888-fe5f-497f-9fc8-46ac718e2672"
      },
      "source": [
        "# Probably for DEBUGGING...\n",
        "word = 'course_provides'\n",
        "index = id2word.doc2bow([word])[0][0]\n",
        "print(model[id2word.doc2bow([word])])\n",
        "tmp = dict(inverted_index[index])\n",
        "tmp = {k: v for k, v in sorted(tmp.items(), key=lambda item: item[1] ,reverse = True)}\n",
        "for key in list(tmp.keys()):\n",
        "    print(id2concept[key],tmp[key])"
      ],
      "execution_count": null,
      "outputs": [
        {
          "output_type": "stream",
          "text": [
            "[(122634, 1.0)]\n",
            "Cisco certifications 0.030892460310081454\n",
            "Marine Corps Communication Electronics School 0.024266222082513025\n",
            "Communications School (United States Marine Corps) 0.023701940387800716\n",
            "Master of Business Administration 0.00848536131793485\n"
          ],
          "name": "stdout"
        }
      ]
    },
    {
      "cell_type": "code",
      "metadata": {
        "id": "YUJBRicNofyW",
        "colab_type": "code",
        "colab": {
          "base_uri": "https://localhost:8080/",
          "height": 67,
          "referenced_widgets": [
            "8641e8fc8c724f7eabcec1c78716e74c",
            "5040c835515940f8892e0b80628598a4",
            "77f916e24f84472295fa2cb51912918b",
            "59298cf24a28433f8727a883c7e89897",
            "cc5879f3f6814f58a7ebc4a0d45df837",
            "26662148f9fb4aac9bcd553a9ddbe7eb",
            "775d3a6c9d8345739b8c43b274ec20ef",
            "752d36d07ca5497db6901dbfc1bc25d8"
          ]
        },
        "outputId": "c0ebbf0a-a8b1-4390-9746-28f253fab3b7"
      },
      "source": [
        "cs_courses = np.load('./cs_courses.npy')\n",
        "courses = np.load('./courses.npy')\n",
        "rank_matrix = {}\n",
        "# Python code to find \n",
        "# rank of elements \n",
        "def rankify_improved(A):  \n",
        "    R = [0 for i in range(len(A))] \n",
        "    T = [(A[i], i) for i in range(len(A))]  \n",
        "    T.sort(key=lambda x: x[0]) \n",
        "    (rank, n, i) = (1, 1, 0) \n",
        "    while i < len(A): \n",
        "        j = i  \n",
        "        while j < len(A) - 1 and T[j][0] == T[j + 1][0]: \n",
        "            j += 1\n",
        "        n = j - i + 1\n",
        "\n",
        "        for j in range(n): \n",
        "            idx = T[i+j][1] \n",
        "            R[idx] = rank + (n - 1) * 0.5\n",
        "        rank += n \n",
        "        i += n \n",
        "    return R  \n",
        "\n",
        "for i in tqdm(range(len(cs_courses))):\n",
        "    x = np.zeros(len(courses))\n",
        "    for j in range(len(courses)):\n",
        "        x[j]= (tfidf_sim(cs_courses[i],courses[j]))\n",
        "    tmp = len(x) - np.array(rankify_improved(x))\n",
        "    rank_matrix[i] = tmp"
      ],
      "execution_count": null,
      "outputs": [
        {
          "output_type": "display_data",
          "data": {
            "application/vnd.jupyter.widget-view+json": {
              "model_id": "8641e8fc8c724f7eabcec1c78716e74c",
              "version_minor": 0,
              "version_major": 2
            },
            "text/plain": [
              "HBox(children=(IntProgress(value=0, max=33), HTML(value='')))"
            ]
          },
          "metadata": {
            "tags": []
          }
        },
        {
          "output_type": "stream",
          "text": [
            "\n"
          ],
          "name": "stdout"
        }
      ]
    },
    {
      "cell_type": "code",
      "metadata": {
        "id": "xzyqy6Djofyb",
        "colab_type": "code",
        "colab": {},
        "outputId": "dae6a28f-93e6-4dca-fc31-befcd5b39c71"
      },
      "source": [
        "#creating adjaceny list of all true relevant documents\n",
        "adj = {}\n",
        "with open('./edges.txt') as f:\n",
        "    data = f.read().strip()\n",
        "    data = eval(data)\n",
        "for d in data:\n",
        "    try:\n",
        "        t = adj[d[0]]\n",
        "        adj[d[0]].append(d[1])\n",
        "    except:\n",
        "        adj[d[0]] = []\n",
        "        adj[d[0]].append(d[1])\n",
        "Eval = []\n",
        "for i in range(len(cs_courses)):\n",
        "    val = 0\n",
        "    for j in range(len(courses)):\n",
        "        rel = 0\n",
        "        if courses[j] in adj[cs_courses[i]]:\n",
        "            rel = 1\n",
        "        rank = rank_matrix[i][j]\n",
        "        if(rel>0):\n",
        "            val+= (rel/(np.log2( rank+1)))\n",
        "    Eval.append(val)\n",
        "#making normalized DCG for cs_courses\n",
        "for i in range(len(Eval)):\n",
        "    p = len(set(adj[cs_courses[i]]).intersection(set(courses)))\n",
        "    val = 0\n",
        "    for j in range(1,p+1):\n",
        "        val += (1/(np.log2(j+1)))\n",
        "    Eval[i]/=val\n",
        "for i in range(len(cs_courses)):\n",
        "    print(cs_courses[i],Eval[i])\n",
        "print(np.mean(Eval))"
      ],
      "execution_count": null,
      "outputs": [
        {
          "output_type": "stream",
          "text": [
            "CS1100 - Introduction to Programming 0.9512463365453543\n",
            "CS1111 - Problem Solving using Computers 0.9273995247252625\n",
            "CS2300 - Foundations of Computer Systems Design 0.8965508479224734\n",
            "CS2310 - Foundations of Computer Systems Design Lab 0.6917585494894719\n",
            "CS2700 - Programming and Data Structures 0.9287024045939805\n",
            "CS2710 - Programming and Data Structures Lab 0.898350821706798\n",
            "CS3100 - Paradigms of Programming 0.7829877839455167\n",
            "CS3300 - Compiler Design 0.15186115333086322\n",
            "CS3500 - Operating Systems 0.9828920819566879\n",
            "CS3700 - Introduction to Database Systems 0.30478285340363576\n",
            "CS5020 - Nonlinear optimisation: Theory and algorithms 0.8593688059794399\n",
            "CS5691 - Pattern Recognition and Machine Learning 0.9318694681294111\n",
            "CS5800 - Advanced Data Structures & Algorithms 0.8851433875425487\n",
            "CS6014 - Computability and Complexity 0.7986469416219006\n",
            "CS6015 - Linear Algebra and Random Processes 0.9021170980859685\n",
            "CS6024 - Algorithmic Approaches to Computational Biology 0.40275295329000277\n",
            "CS6030 - Logic and Combinatorics for Computer Science 0.7733555103377391\n",
            "CS6111 - Foundations of cryptography 1.0\n",
            "CS6120 - Wireless Communication and Networks 0.7381035537885066\n",
            "CS6130 - Advanced Graph Algorithms 0.9103349017299518\n",
            "CS6140 - Advanced Programming Laboratory 0.9081778835017408\n",
            "CS6170 - Randomized Algorithms 0.412495336655611\n",
            "CS6230 - CAD for VLSI Systems 0.5801231848130776\n",
            "CS6251 - Computational Models of Cognition 0.6465196557631961\n",
            "CS6350 - Computer Vision 0.7485788563318863\n",
            "CS6380 - Artificial Intelligence 0.5564524547486625\n",
            "CS6570 - Secure Systems Engineering 0.5525485729997712\n",
            "CS6600 - Computer Architecture 0.8861612494718129\n",
            "CS6777 - Optimization Methods for Computer Vision Applications. 0.6736623934108998\n",
            "CS6842 - Algorithmic Algebra 0.7052360659341503\n",
            "CS7015 - Deep Learning 0.799221293639104\n",
            "CS7016 - Topics In Deep Learning 0.7550160946314525\n",
            "CS7111 - Topics in Cryptography 0.8772153153380493\n",
            "0.7521101010716644\n"
          ],
          "name": "stdout"
        }
      ]
    },
    {
      "cell_type": "code",
      "metadata": {
        "id": "I4Dfa-ohW_yz",
        "colab_type": "code",
        "colab": {
          "base_uri": "https://localhost:8080/",
          "height": 645
        },
        "outputId": "28ce454d-292d-4b65-bf59-712a368ad95f"
      },
      "source": [
        "#creating adjaceny list of all true relevant documents\n",
        "adj = {}\n",
        "with open('./Datasets/edges.txt') as f:\n",
        "    data = f.read().strip()\n",
        "    data = eval(data)\n",
        "for d in data:\n",
        "    try:\n",
        "        t = adj[d[0]]\n",
        "        adj[d[0]].append(d[1])\n",
        "    except:\n",
        "        adj[d[0]] = []\n",
        "        adj[d[0]].append(d[1])\n",
        "Eval = []\n",
        "for i in range(len(cs_courses)):\n",
        "    val = 0\n",
        "    for j in range(len(courses)):\n",
        "        rel = 0\n",
        "        if courses[j] in adj[cs_courses[i]]:\n",
        "            rel = 1\n",
        "        rank = rank_matrix[i][j]\n",
        "        if(rel>0):\n",
        "            val+= (rel/(np.log2( rank+1)))\n",
        "    Eval.append(val)\n",
        "#making normalized DCG for cs_courses\n",
        "for i in range(len(Eval)):\n",
        "    p = len(set(adj[cs_courses[i]]).intersection(set(courses)))\n",
        "    val = 0\n",
        "    for j in range(1,p+1):\n",
        "        val += (1/(np.log2(j+1)))\n",
        "    Eval[i]/=val\n",
        "for i in range(len(cs_courses)):\n",
        "    print(cs_courses[i],Eval[i])\n",
        "print(np.mean(Eval))"
      ],
      "execution_count": null,
      "outputs": [
        {
          "output_type": "stream",
          "text": [
            "CS1100 - Introduction to Programming 0.9496882342166666\n",
            "CS1111 - Problem Solving using Computers 0.9206931970139626\n",
            "CS2300 - Foundations of Computer Systems Design 0.9001715370445234\n",
            "CS2310 - Foundations of Computer Systems Design Lab 0.7033633977860031\n",
            "CS2700 - Programming and Data Structures 0.9276164617947191\n",
            "CS2710 - Programming and Data Structures Lab 0.8899047266703976\n",
            "CS3100 - Paradigms of Programming 0.7685707357005617\n",
            "CS3300 - Compiler Design 0.15019048322368797\n",
            "CS3500 - Operating Systems 0.9047172294870751\n",
            "CS3700 - Introduction to Database Systems 0.30478285340363576\n",
            "CS5020 - Nonlinear optimisation: Theory and algorithms 0.8642002902821674\n",
            "CS5691 - Pattern Recognition and Machine Learning 0.92220582424414\n",
            "CS5800 - Advanced Data Structures & Algorithms 0.8811301180078074\n",
            "CS6014 - Computability and Complexity 0.783783669291536\n",
            "CS6015 - Linear Algebra and Random Processes 0.8932253221213741\n",
            "CS6024 - Algorithmic Approaches to Computational Biology 0.40595036232755444\n",
            "CS6030 - Logic and Combinatorics for Computer Science 0.7819656671908812\n",
            "CS6111 - Foundations of cryptography 1.0\n",
            "CS6120 - Wireless Communication and Networks 0.732685769743933\n",
            "CS6130 - Advanced Graph Algorithms 0.9036513070889939\n",
            "CS6140 - Advanced Programming Laboratory 0.9110179925163666\n",
            "CS6170 - Randomized Algorithms 0.41357409222802943\n",
            "CS6230 - CAD for VLSI Systems 0.5761819088332871\n",
            "CS6251 - Computational Models of Cognition 0.6386067663453767\n",
            "CS6350 - Computer Vision 0.7423172723212985\n",
            "CS6380 - Artificial Intelligence 0.5388530291639072\n",
            "CS6570 - Secure Systems Engineering 0.5525485729997712\n",
            "CS6600 - Computer Architecture 0.8918063762658986\n",
            "CS6777 - Optimization Methods for Computer Vision Applications. 0.6620317747893546\n",
            "CS6842 - Algorithmic Algebra 0.7037397598917484\n",
            "CS7015 - Deep Learning 0.7688533711713724\n",
            "CS7016 - Topics In Deep Learning 0.746877227126485\n",
            "CS7111 - Topics in Cryptography 0.9197207891481876\n",
            "0.747109882407294\n"
          ],
          "name": "stdout"
        }
      ]
    },
    {
      "cell_type": "code",
      "metadata": {
        "id": "YjQMfYHzofyi",
        "colab_type": "code",
        "colab": {},
        "outputId": "bb980717-bc31-43ec-90dd-af4068e7b2cd"
      },
      "source": [
        "a = 'CS7016 - Topics In Deep Learning'\n",
        "i = course2id[a]\n",
        "x = merged_concept(model_[corpus_[i]])\n",
        "y = {k: v for k, v in sorted(x.items(), key=lambda item: item[1], reverse = True)}\n",
        "tmp = list(y.keys())\n",
        "for k in tmp[0:20]:\n",
        "    print(id2concept[k], y[k])\n",
        "    \n",
        "X = ['a' for j in range(20)]\n",
        "ind = np.where(cs_courses == a)[0][0]\n",
        "print(ind)\n",
        "for index,k in enumerate(rank_matrix[ind]):\n",
        "    if k<20:\n",
        "        X[int(k)] = (id2course[index],k)\n",
        "for k in X:\n",
        "    print(k)"
      ],
      "execution_count": null,
      "outputs": [
        {
          "output_type": "stream",
          "text": [
            "Deep learning 0.44257037762669066\n",
            "Deep Learning Studio 0.27696621084785805\n",
            "Artificial neural network 0.17560150969578958\n",
            "Quantum neural network 0.15893451073982665\n",
            "Recurrent neural network 0.14699050443657838\n",
            "Neural Lab 0.13645957196360659\n",
            "Neural Designer 0.11695990778792473\n",
            "Neural engineering 0.11638124264837804\n",
            "Challenger Deep 0.10871492864871551\n",
            "Neural computation 0.1004093269566558\n",
            "Adversarial machine learning 0.0918926883922573\n",
            "Computational intelligence 0.08426501964331569\n",
            "Deep belief network 0.08297624200258243\n",
            "Deep sea fish 0.08172540348350787\n",
            "DeepDream 0.08039485080489911\n",
            "Wireless network 0.0787087347726274\n",
            "Deep ocean water 0.07845746488517644\n",
            "Learning 0.07545911108737599\n",
            "Artificial intelligence 0.0732372204043199\n",
            "Machine learning 0.06925176358803041\n",
            "31\n",
            "('CS7016 - Topics In Deep Learning', 0.0)\n",
            "('CS7015 - Deep Learning', 1.0)\n",
            "('ED6005 - Deep Learning for Medical Image Analysis', 2.0)\n",
            "('EE4708 - Data Analytics Laboratory', 3.0)\n",
            "('CS6777 - Optimization Methods for Computer Vision Applications.', 4.0)\n",
            "('EE6143 - Advanced Topics in Communications', 5.0)\n",
            "('CS6251 - Computational Models of Cognition', 6.0)\n",
            "('CS6120 - Wireless Communication and Networks', 7.0)\n",
            "('CS5691 - Pattern Recognition and Machine Learning', 8.0)\n",
            "('OE5012 - Deep Sea Technology', 9.0)\n",
            "('CH5016 - Systems Biology for engineers', 10.0)\n",
            "('MS4610 - Introduction to Data Analytics', 11.0)\n",
            "('MS6032 - Predictive and Prescriptive Data Analytics', 12.0)\n",
            "('ID6105 - Computational Tools: Algorithms, Data Structures and Programs', 13.0)\n",
            "('CS5020 - Nonlinear optimisation: Theory and algorithms', 14.0)\n",
            "('OE1100 - Modern scientific computing in programming language', 15.0)\n",
            "('CE4670 - Case studies in Structural Engineering', 16.0)\n",
            "('EE5151 - Communication Techniques', 17.0)\n",
            "('EE2015 - Electric Circuits & Networks', 18.0)\n",
            "('ME5307 - Modelling and Simulation in Manufacturing', 19.0)\n"
          ],
          "name": "stdout"
        }
      ]
    },
    {
      "cell_type": "code",
      "metadata": {
        "id": "g2-6RWwDXL6u",
        "colab_type": "code",
        "colab": {
          "base_uri": "https://localhost:8080/",
          "height": 774
        },
        "outputId": "88779fc3-8007-4808-be16-d99097b0e731"
      },
      "source": [
        "a = 'CS7016 - Topics In Deep Learning'\n",
        "i = course2id[a]\n",
        "x = merged_concept(model_[corpus_[i]])\n",
        "y = {k: v for k, v in sorted(x.items(), key=lambda item: item[1], reverse = True)}\n",
        "tmp = list(y.keys())\n",
        "for k in tmp[0:20]:\n",
        "    print(id2concept[k], y[k])\n",
        "    \n",
        "X = ['a' for j in range(20)]\n",
        "ind = np.where(cs_courses == a)[0][0]\n",
        "print(ind)\n",
        "for index,k in enumerate(rank_matrix[ind]):\n",
        "    if k<20:\n",
        "        X[int(k)] = (id2course[index],k)\n",
        "for k in X:\n",
        "    print(k)"
      ],
      "execution_count": null,
      "outputs": [
        {
          "output_type": "stream",
          "text": [
            "Deep learning 0.4534017903850849\n",
            "Deep Learning Studio 0.29274101086405246\n",
            "Artificial neural network 0.2291305518448815\n",
            "Neural Designer 0.20470739305282928\n",
            "Quantum neural network 0.20461925877290588\n",
            "Recurrent neural network 0.19456965764344053\n",
            "Neural Lab 0.18587353471741408\n",
            "Neural engineering 0.15901090725837375\n",
            "Challenger Deep 0.15895578871382654\n",
            "Neural computation 0.1458890942862766\n",
            "Deep ocean water 0.12181568066241026\n",
            "Computational intelligence 0.12000997335777269\n",
            "Machine learning 0.11707794460668505\n",
            "Unsupervised learning 0.1125024243842067\n",
            "Wireless network 0.10699225579464677\n",
            "Deep sea fish 0.10542706884544253\n",
            "DeepDream 0.10405741675850305\n",
            "Q-learning 0.10372614874567813\n",
            "Adversarial machine learning 0.10125241162638576\n",
            "Learning rate 0.09825880390243119\n",
            "31\n",
            "('CS7016 - Topics In Deep Learning', 0.0)\n",
            "('CS7015 - Deep Learning', 1.0)\n",
            "('ED6005 - Deep Learning for Medical Image Analysis', 2.0)\n",
            "('EE4708 - Data Analytics Laboratory', 3.0)\n",
            "('CS6777 - Optimization Methods for Computer Vision Applications.', 4.0)\n",
            "('CS6251 - Computational Models of Cognition', 5.0)\n",
            "('CS6120 - Wireless Communication and Networks', 6.0)\n",
            "('CS5691 - Pattern Recognition and Machine Learning', 7.0)\n",
            "('EE6143 - Advanced Topics in Communications', 8.0)\n",
            "('CH5016 - Systems Biology for engineers', 9.0)\n",
            "('MS4610 - Introduction to Data Analytics', 10.0)\n",
            "('MS6032 - Predictive and Prescriptive Data Analytics', 11.0)\n",
            "('OE5012 - Deep Sea Technology', 12.0)\n",
            "('ID6105 - Computational Tools: Algorithms, Data Structures and Programs', 13.0)\n",
            "('CS5020 - Nonlinear optimisation: Theory and algorithms', 14.0)\n",
            "('EE5151 - Communication Techniques', 15.0)\n",
            "('CE4670 - Case studies in Structural Engineering', 16.0)\n",
            "('ME5001 - Prognostics and Health Management of Machine Tools', 17.0)\n",
            "('PH1050 - Foundation of Computational Physics', 18.0)\n",
            "('EE2015 - Electric Circuits & Networks', 19.0)\n"
          ],
          "name": "stdout"
        }
      ]
    },
    {
      "cell_type": "code",
      "metadata": {
        "id": "U9hdnqrzXMZy",
        "colab_type": "code",
        "colab": {}
      },
      "source": [
        ""
      ],
      "execution_count": null,
      "outputs": []
    }
  ]
}